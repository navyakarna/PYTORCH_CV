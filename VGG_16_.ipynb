{
  "nbformat": 4,
  "nbformat_minor": 0,
  "metadata": {
    "colab": {
      "provenance": [],
      "gpuType": "T4",
      "authorship_tag": "ABX9TyMY/m7tiIAwXxGA42+z8py4",
      "include_colab_link": true
    },
    "kernelspec": {
      "name": "python3",
      "display_name": "Python 3"
    },
    "language_info": {
      "name": "python"
    },
    "accelerator": "GPU"
  },
  "cells": [
    {
      "cell_type": "markdown",
      "metadata": {
        "id": "view-in-github",
        "colab_type": "text"
      },
      "source": [
        "<a href=\"https://colab.research.google.com/github/navyakarna/PYTORCH_CV/blob/main/VGG_16_.ipynb\" target=\"_parent\"><img src=\"https://colab.research.google.com/assets/colab-badge.svg\" alt=\"Open In Colab\"/></a>"
      ]
    },
    {
      "cell_type": "markdown",
      "source": [
        "VGG 16 , VGG 19\n",
        "\n",
        "(MORE POWERFUL THEN ALEXNET , LENET )\n",
        "(16 - LAYERS , WITH LEARNABLE RATES)\n",
        "(CONVOLUTIONAL LAYERS = 13)\n",
        "(RELU = 13 )\n",
        "( IN SET = CONV + RELU)\n",
        "(MAX POOLING = 5 )\n",
        "( FULLY CONNECTED = 3)\n",
        "(SOFTMAX = 1)\n",
        "\n",
        "\n",
        "HIGH DIMENSIONAL INPUTS\n",
        "CONSISTENT FILTER SIZES(ALL 3X3)\n",
        "SMALLER FILTERS ARE ALSO CAPABLE OF CAPTURING FINER DETAILS IN THE IMAGE.\n",
        "\n",
        "PADDING = 1\n",
        "STRIDE = 1\n",
        "\n",
        "EDGES OF THE FEATURE MAP THROUGHOUT THE LAYERS ARE EXTRACTED .\n",
        "\n",
        "\n",
        "SIZE REDUCTION IS DONE THROUGH MAX POOLING (WHERE STRIDE = 2, FILTER 2X2)\n",
        "\n",
        "\n",
        "\n",
        "\n",
        "\n",
        "VGG 19\n",
        "DEALS WITH 19 LAYERS\n",
        "(19 - LAYERS , WITH LEARNABLE RATES)\n",
        "(CONVOLUTIONAL LAYERS = 16)\n",
        "(RELU = 16 )\n",
        "( IN SET = CONV + RELU)\n",
        "(MAX POOLING = 5 )\n",
        "( FULLY CONNECTED = 3)\n",
        "(SOFTMAX = 1)\n"
      ],
      "metadata": {
        "id": "X5M4xzRPtWo5"
      }
    },
    {
      "cell_type": "code",
      "execution_count": 12,
      "metadata": {
        "id": "cuEP0D57tVQM"
      },
      "outputs": [],
      "source": [
        "import torch\n",
        "import torch.nn as nn\n",
        "import pandas as pd\n",
        "import numpy as np\n",
        "from torchvision import transforms , datasets , models\n",
        "from torch.utils.data import DataLoader\n",
        "import matplotlib.pyplot as plt\n",
        "import torch.optim as optim\n"
      ]
    },
    {
      "cell_type": "code",
      "source": [
        "transform = transforms.Compose([\n",
        "    transforms.Resize((224,224)),\n",
        "    transforms.ToTensor(),\n",
        "    transforms.Normalize(mean =[0.5,0.5,0.5], std=[0.229,0.224, 0.225])\n",
        "\n",
        "\n",
        "])"
      ],
      "metadata": {
        "id": "YN7i56XMyE03"
      },
      "execution_count": 13,
      "outputs": []
    },
    {
      "cell_type": "code",
      "source": [
        "from zipfile import ZipFile, BadZipFile\n",
        "\n",
        "zip_file_path = '/content/Archive.zip'\n",
        "extract_to_path = '/content/'\n",
        "\n",
        "try:\n",
        "      with ZipFile(zip_file_path, 'r') as zip_ref:\n",
        "            zip_ref.extractall(extract_to_path)\n",
        "            print(f\"Extracted files to {extract_to_path}\")\n",
        "except FileNotFoundError:\n",
        "            print(f\"Error: File not found at {zip_file_path}\")\n",
        "except BadZipFile:\n",
        "            print(f\"Error: Invalid or corrupted zip file at {zip_file_path}\")\n",
        ""
      ],
      "metadata": {
        "colab": {
          "base_uri": "https://localhost:8080/"
        },
        "id": "HBUGXCMkzI3h",
        "outputId": "29ce6241-9606-4682-a7b3-f851b182e77a"
      },
      "execution_count": 14,
      "outputs": [
        {
          "output_type": "stream",
          "name": "stdout",
          "text": [
            "Extracted files to /content/\n"
          ]
        }
      ]
    },
    {
      "cell_type": "code",
      "source": [
        "folder = '/content/Human Action Recognition/train'\n",
        "activity = '/content/Human Action Recognition/train/cycling'\n",
        "img_name = '/content/Human Action Recognition/train/cycling'"
      ],
      "metadata": {
        "id": "eiidgC6n4mz8"
      },
      "execution_count": 16,
      "outputs": []
    },
    {
      "cell_type": "code",
      "source": [
        "train_data_path = r'/content/Human Action Recognition/train'\n",
        "test_data_path = r'/content/Human Action Recognition/test'"
      ],
      "metadata": {
        "id": "jv5teMhX54fw"
      },
      "execution_count": 17,
      "outputs": []
    },
    {
      "cell_type": "code",
      "source": [
        "train_data = datasets.ImageFolder(root=train_data_path, transform=transform)\n",
        "test_data = datasets.ImageFolder(root=test_data_path, transform=transform)\n",
        ""
      ],
      "metadata": {
        "id": "sfuDz6M943RD"
      },
      "execution_count": 18,
      "outputs": []
    },
    {
      "cell_type": "code",
      "source": [
        "train_loader = DataLoader(train_data , batch_size = 32, shuffle = True, num_workers=4)\n",
        "test_loader = DataLoader(test_data , batch_size = 32, shuffle = True, num_workers=4)"
      ],
      "metadata": {
        "colab": {
          "base_uri": "https://localhost:8080/"
        },
        "id": "n2MXVJzy7Ftc",
        "outputId": "4ac425a0-17c2-440c-d5f6-7c2f8e779178"
      },
      "execution_count": 20,
      "outputs": [
        {
          "output_type": "stream",
          "name": "stderr",
          "text": [
            "/usr/local/lib/python3.11/dist-packages/torch/utils/data/dataloader.py:617: UserWarning: This DataLoader will create 4 worker processes in total. Our suggested max number of worker in current system is 2, which is smaller than what this DataLoader is going to create. Please be aware that excessive worker creation might get DataLoader running slow or even freeze, lower the worker number to avoid potential slowness/freeze if necessary.\n",
            "  warnings.warn(\n"
          ]
        }
      ]
    },
    {
      "cell_type": "code",
      "source": [
        "import torch.nn as nn\n",
        "import torchvision.models as models\n",
        "import torch.nn.functional as F\n",
        "\n",
        "class VCG16(nn.Module):\n",
        "  def __init__ (self, num_classes=5):\n",
        "    super(VCG16, self).__init__()\n",
        "    self.features = nn.Sequential(\n",
        "        nn.Conv2d(3, 64, kernel_size=3, padding=1 ),\n",
        "        nn.ReLU(inplace=True),\n",
        "        nn.Conv2d(64, 64, kernel_size=3, padding=1),\n",
        "        nn.ReLU(inplace=True),\n",
        "        nn.MaxPool2d(kernel_size=2, stride=2),\n",
        "\n",
        "\n",
        "        nn.Conv2d(64, 128, kernel_size=3, padding=1 ),\n",
        "        nn.ReLU(inplace=True),\n",
        "        nn.Conv2d(128, 128, kernel_size=3, padding=1),\n",
        "        nn.ReLU(inplace=True),\n",
        "        nn.MaxPool2d(kernel_size=2, stride=2),\n",
        "\n",
        "\n",
        "        nn.Conv2d(128, 256, kernel_size=3, padding=1),\n",
        "        nn.ReLU(inplace=True),\n",
        "        nn.Conv2d(256, 256, kernel_size=3, padding=1),\n",
        "        nn.ReLU(inplace=True),\n",
        "        nn.Conv2d(256, 256, kernel_size=3, padding=1),\n",
        "        nn.ReLU(inplace=True),\n",
        "        nn.MaxPool2d(kernel_size=2, stride=2),\n",
        "\n",
        "        nn.Conv2d(256, 512, kernel_size=3, padding=1),\n",
        "        nn.ReLU(inplace=True),\n",
        "        nn.Conv2d(512, 512, kernel_size=3, padding=1),\n",
        "        nn.ReLU(inplace=True),\n",
        "        nn.Conv2d(512, 512, kernel_size=3, padding=1),\n",
        "        nn.ReLU(inplace=True),\n",
        "        nn.MaxPool2d(kernel_size=2, stride=2),\n",
        "    )\n",
        "\n",
        "    self.classifier = nn.Sequential(\n",
        "        nn.Linear(512 * 14 * 14, 4096),\n",
        "        nn.ReLU(inplace=True),\n",
        "        nn.Dropout(),\n",
        "        nn.Linear(4096, 4096),\n",
        "        nn.ReLU(inplace=True),\n",
        "        nn.Dropout(),\n",
        "        nn.Linear(4096, num_classes),\n",
        "\n",
        "    )\n",
        "  def forward(self, x):\n",
        "     x = self.features(x)\n",
        "     x = x.view(x.size(0), -1)\n",
        "     x = self.classifier(x)\n",
        "     return x\n",
        "\n",
        "\n",
        "model = VCG16(num_classes=5)\n"
      ],
      "metadata": {
        "id": "Fk3Rrcxu7uXb"
      },
      "execution_count": 34,
      "outputs": []
    },
    {
      "cell_type": "code",
      "source": [
        "from torch import optim\n",
        "criterion = nn.CrossEntropyLoss()\n",
        "optimizer = optim.Adam(model.parameters(), lr = 0.001)"
      ],
      "metadata": {
        "id": "YSmAg_xYBBKt"
      },
      "execution_count": 35,
      "outputs": []
    },
    {
      "cell_type": "code",
      "source": [
        "device = torch.device('cuda' if torch.cuda.is_available() else 'cpu')"
      ],
      "metadata": {
        "id": "Gj_plKqhCChL"
      },
      "execution_count": 30,
      "outputs": []
    },
    {
      "cell_type": "code",
      "source": [
        "device"
      ],
      "metadata": {
        "colab": {
          "base_uri": "https://localhost:8080/"
        },
        "id": "2WaeC16iCMcU",
        "outputId": "e222a0bc-97e2-4650-9a9f-ece65e9cbeaa"
      },
      "execution_count": 36,
      "outputs": [
        {
          "output_type": "execute_result",
          "data": {
            "text/plain": [
              "device(type='cuda')"
            ]
          },
          "metadata": {},
          "execution_count": 36
        }
      ]
    },
    {
      "cell_type": "code",
      "source": [
        "model = model.to(device)"
      ],
      "metadata": {
        "id": "E8CXM36bCOBl"
      },
      "execution_count": 37,
      "outputs": []
    },
    {
      "cell_type": "code",
      "source": [
        "import matplotlib.pyplot as plt\n",
        "\n",
        "# Initialize the lists to store train and test loss for each epoch\n",
        "train_losses = []\n",
        "test_losses = []\n",
        "\n",
        "# Train the model\n",
        "num_epochs = 20\n",
        "best_loss = torch.inf\n",
        "patience = 5\n",
        "epochs_since_best = 0\n",
        "\n",
        "for epoch in range(num_epochs):\n",
        "    model.train()\n",
        "    running_loss = 0.0\n",
        "    correct = 0\n",
        "    total = 0\n",
        "\n",
        "    for images, labels in train_loader:\n",
        "        images, labels = images.to(device), labels.to(device)\n",
        "        optimizer.zero_grad()\n",
        "        outputs = model(images)\n",
        "        if isinstance(outputs, tuple):\n",
        "            outputs = outputs[0]  # For models that return auxiliary outputs\n",
        "        loss = criterion(outputs, labels)\n",
        "        loss.backward()\n",
        "        optimizer.step()\n",
        "        running_loss += loss.item()\n",
        "        _, predicted = outputs.max(1)\n",
        "        total += labels.size(0)\n",
        "        correct += predicted.eq(labels).sum().item()\n",
        "\n",
        "    train_loss = running_loss / len(train_loader)\n",
        "    train_losses.append(train_loss)  # Store the train loss for this epoch\n",
        "    train_accuracy = 100. * correct / total\n",
        "\n",
        "    print(f'Epoch [{epoch + 1}/{num_epochs}], '\n",
        "          f'Train Loss: {train_loss:.4f}, Train Accuracy: {train_accuracy:.2f}%')\n",
        "\n",
        "    # Evaluate on the test set\n",
        "    model.eval()\n",
        "    test_loss = 0.0\n",
        "    correct = 0\n",
        "    total = 0\n",
        "\n",
        "    with torch.no_grad():\n",
        "        for images, labels in test_loader:\n",
        "            images, labels = images.to(device), labels.to(device)\n",
        "            outputs = model(images)\n",
        "            if isinstance(outputs, tuple):\n",
        "                outputs = outputs[0]  # For models that return auxiliary outputs\n",
        "            loss = criterion(outputs, labels)\n",
        "            test_loss += loss.item()\n",
        "            _, predicted = outputs.max(1)\n",
        "            total += labels.size(0)\n",
        "            correct += predicted.eq(labels).sum().item()\n",
        "\n",
        "    test_loss /= len(test_loader)\n",
        "    test_losses.append(test_loss)  # Store the test loss for this epoch\n",
        "    test_accuracy = 100. * correct / total\n",
        "\n",
        "    print(f'Test Loss: {test_loss:.4f}, Test Accuracy: {test_accuracy:.2f}%')\n",
        "\n",
        "    # Check for best accuracy and stop if not improved after five more epochs\n",
        "    if test_loss < best_loss:\n",
        "        best_loss = test_loss\n",
        "        epochs_since_best = 0\n",
        "        torch.save(model.state_dict(), 'best_model.pth')  # Save the model\n",
        "        print(f'Updated best model with accuracy: {test_accuracy:.2f}%')\n",
        "    else:\n",
        "        epochs_since_best += 1\n",
        "        if epochs_since_best > patience:\n",
        "            print(\"Stopping early: no improvement after five consecutive epochs.\")\n",
        "            break"
      ],
      "metadata": {
        "colab": {
          "base_uri": "https://localhost:8080/"
        },
        "id": "ryRCKX8ACu2m",
        "outputId": "9944b0ee-601b-4807-e314-ba85f7153a26"
      },
      "execution_count": 38,
      "outputs": [
        {
          "output_type": "stream",
          "name": "stderr",
          "text": [
            "/usr/local/lib/python3.11/dist-packages/torch/utils/data/dataloader.py:617: UserWarning: This DataLoader will create 4 worker processes in total. Our suggested max number of worker in current system is 2, which is smaller than what this DataLoader is going to create. Please be aware that excessive worker creation might get DataLoader running slow or even freeze, lower the worker number to avoid potential slowness/freeze if necessary.\n",
            "  warnings.warn(\n"
          ]
        },
        {
          "output_type": "stream",
          "name": "stdout",
          "text": [
            "Epoch [1/20], Train Loss: 1.6524, Train Accuracy: 19.75%\n",
            "Test Loss: 1.6099, Test Accuracy: 20.00%\n",
            "Updated best model with accuracy: 20.00%\n",
            "Epoch [2/20], Train Loss: 1.6113, Train Accuracy: 18.52%\n",
            "Test Loss: 1.6095, Test Accuracy: 20.00%\n",
            "Updated best model with accuracy: 20.00%\n",
            "Epoch [3/20], Train Loss: 1.6105, Train Accuracy: 19.27%\n",
            "Test Loss: 1.6095, Test Accuracy: 20.00%\n",
            "Epoch [4/20], Train Loss: 1.6102, Train Accuracy: 19.38%\n",
            "Test Loss: 1.6096, Test Accuracy: 20.00%\n",
            "Epoch [5/20], Train Loss: 1.6101, Train Accuracy: 19.19%\n",
            "Test Loss: 1.6094, Test Accuracy: 20.00%\n",
            "Updated best model with accuracy: 20.00%\n",
            "Epoch [6/20], Train Loss: 1.6102, Train Accuracy: 19.64%\n",
            "Test Loss: 1.6095, Test Accuracy: 20.00%\n",
            "Epoch [7/20], Train Loss: 1.6100, Train Accuracy: 19.33%\n",
            "Test Loss: 1.6095, Test Accuracy: 20.00%\n",
            "Epoch [8/20], Train Loss: 1.6098, Train Accuracy: 20.06%\n",
            "Test Loss: 1.6094, Test Accuracy: 20.00%\n",
            "Epoch [9/20], Train Loss: 1.6100, Train Accuracy: 18.80%\n",
            "Test Loss: 1.6095, Test Accuracy: 20.00%\n",
            "Epoch [10/20], Train Loss: 1.6099, Train Accuracy: 20.53%\n",
            "Test Loss: 1.6094, Test Accuracy: 20.00%\n",
            "Epoch [11/20], Train Loss: 1.6098, Train Accuracy: 20.42%\n",
            "Test Loss: 1.6094, Test Accuracy: 20.00%\n",
            "Stopping early: no improvement after five consecutive epochs.\n"
          ]
        }
      ]
    },
    {
      "cell_type": "code",
      "source": [
        "plt.plot(train_losses, label='Train Loss')\n",
        "plt.plot(test_losses , label='test Loss')\n",
        "plt.xlabel('Epoch')\n",
        "plt.ylabel('Loss')\n",
        "plt.legend()\n",
        "plt.show()"
      ],
      "metadata": {
        "colab": {
          "base_uri": "https://localhost:8080/",
          "height": 449
        },
        "id": "MmBPa4ZqHvJr",
        "outputId": "1aa3c42d-0d79-4b7e-ec52-4e7c7f85f300"
      },
      "execution_count": 39,
      "outputs": [
        {
          "output_type": "display_data",
          "data": {
            "text/plain": [
              "<Figure size 640x480 with 1 Axes>"
            ],
            "image/png": "[encoded data removed]"
          },
          "metadata": {}
        }
      ]
    }
  ]
}