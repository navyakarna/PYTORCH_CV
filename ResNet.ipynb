{
  "nbformat": 4,
  "nbformat_minor": 0,
  "metadata": {
    "colab": {
      "provenance": [],
      "authorship_tag": "ABX9TyNspWF3hTvpSgL6MJkRx4tD",
      "include_colab_link": true
    },
    "kernelspec": {
      "name": "python3",
      "display_name": "Python 3"
    },
    "language_info": {
      "name": "python"
    }
  },
  "cells": [
    {
      "cell_type": "markdown",
      "metadata": {
        "id": "view-in-github",
        "colab_type": "text"
      },
      "source": [
        "<a href=\"https://colab.research.google.com/github/navyakarna/PYTORCH_CV/blob/main/ResNet.ipynb\" target=\"_parent\"><img src=\"https://colab.research.google.com/assets/colab-badge.svg\" alt=\"Open In Colab\"/></a>"
      ]
    },
    {
      "cell_type": "markdown",
      "source": [
        "- PROBLEM ( VANISHING GRADIENT)\n",
        "\n",
        "*   THERE ARE 4 STAGES\n",
        "*   EVERY BLOCK HAVE 2 CONV\n",
        "\n",
        "- SKIP CONNECTION\n",
        "x ->\n",
        "\n",
        "\n",
        "- RESIDUAL NETWORKS\n",
        "- 34-LAYER-RESIDUAL NETWORK\n",
        "\n",
        "\n",
        "with every stage the number of channels increases -> stage 1 - 64 , stage 2 -> 128 , stage - 3 -> 256 , stage -> 4 -> 512\n",
        "\n",
        "\n",
        "(all channels are 3*3) , at last , there is global avg pooling , and fully connected layer\n",
        "\n"
      ],
      "metadata": {
        "id": "qef1Ftx0ByoM"
      }
    },
    {
      "cell_type": "markdown",
      "source": [],
      "metadata": {
        "id": "zZCxN5_6TaOH"
      }
    }
  ]
}