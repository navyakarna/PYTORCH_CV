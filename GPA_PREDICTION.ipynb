{
  "nbformat": 4,
  "nbformat_minor": 0,
  "metadata": {
    "colab": {
      "provenance": [],
      "authorship_tag": "ABX9TyPGheJVVomumi4vzCGMKfC6",
      "include_colab_link": true
    },
    "kernelspec": {
      "name": "python3",
      "display_name": "Python 3"
    },
    "language_info": {
      "name": "python"
    }
  },
  "cells": [
    {
      "cell_type": "markdown",
      "metadata": {
        "id": "view-in-github",
        "colab_type": "text"
      },
      "source": [
        "<a href=\"https://colab.research.google.com/github/navyakarna/PYTORCH_CV/blob/main/GPA_PREDICTION.ipynb\" target=\"_parent\"><img src=\"https://colab.research.google.com/assets/colab-badge.svg\" alt=\"Open In Colab\"/></a>"
      ]
    },
    {
      "cell_type": "code",
      "execution_count": 2,
      "metadata": {
        "id": "BkD2riplHLQG"
      },
      "outputs": [],
      "source": [
        "import pandas as pd\n"
      ]
    },
    {
      "cell_type": "code",
      "source": [
        "data = pd.read_csv('/content/Prodigy University Dataset.csv')\n",
        "data.head()"
      ],
      "metadata": {
        "colab": {
          "base_uri": "https://localhost:8080/",
          "height": 206
        },
        "id": "7iDCVxWxHZXK",
        "outputId": "b4138b85-597f-4a38-9436-acf5ac810b9c"
      },
      "execution_count": 3,
      "outputs": [
        {
          "output_type": "execute_result",
          "data": {
            "text/plain": [
              "   sat_sum  hs_gpa  fy_gpa\n",
              "0      508    3.40    3.18\n",
              "1      488    4.00    3.33\n",
              "2      464    3.75    3.25\n",
              "3      380    3.75    2.42\n",
              "4      428    4.00    2.63"
            ],
            "text/html": [
              "\n",
              "  <div id=\"df-fc53bcbd-7af1-44f6-95fc-0f47674ae1e2\" class=\"colab-df-container\">\n",
              "    <div>\n",
              "<style scoped>\n",
              "    .dataframe tbody tr th:only-of-type {\n",
              "        vertical-align: middle;\n",
              "    }\n",
              "\n",
              "    .dataframe tbody tr th {\n",
              "        vertical-align: top;\n",
              "    }\n",
              "\n",
              "    .dataframe thead th {\n",
              "        text-align: right;\n",
              "    }\n",
              "</style>\n",
              "<table border=\"1\" class=\"dataframe\">\n",
              "  <thead>\n",
              "    <tr style=\"text-align: right;\">\n",
              "      <th></th>\n",
              "      <th>sat_sum</th>\n",
              "      <th>hs_gpa</th>\n",
              "      <th>fy_gpa</th>\n",
              "    </tr>\n",
              "  </thead>\n",
              "  <tbody>\n",
              "    <tr>\n",
              "      <th>0</th>\n",
              "      <td>508</td>\n",
              "      <td>3.40</td>\n",
              "      <td>3.18</td>\n",
              "    </tr>\n",
              "    <tr>\n",
              "      <th>1</th>\n",
              "      <td>488</td>\n",
              "      <td>4.00</td>\n",
              "      <td>3.33</td>\n",
              "    </tr>\n",
              "    <tr>\n",
              "      <th>2</th>\n",
              "      <td>464</td>\n",
              "      <td>3.75</td>\n",
              "      <td>3.25</td>\n",
              "    </tr>\n",
              "    <tr>\n",
              "      <th>3</th>\n",
              "      <td>380</td>\n",
              "      <td>3.75</td>\n",
              "      <td>2.42</td>\n",
              "    </tr>\n",
              "    <tr>\n",
              "      <th>4</th>\n",
              "      <td>428</td>\n",
              "      <td>4.00</td>\n",
              "      <td>2.63</td>\n",
              "    </tr>\n",
              "  </tbody>\n",
              "</table>\n",
              "</div>\n",
              "    <div class=\"colab-df-buttons\">\n",
              "\n",
              "  <div class=\"colab-df-container\">\n",
              "    <button class=\"colab-df-convert\" onclick=\"convertToInteractive('df-fc53bcbd-7af1-44f6-95fc-0f47674ae1e2')\"\n",
              "            title=\"Convert this dataframe to an interactive table.\"\n",
              "            style=\"display:none;\">\n",
              "\n",
              "  <svg xmlns=\"http://www.w3.org/2000/svg\" height=\"24px\" viewBox=\"0 -960 960 960\">\n",
              "    <path d=\"M120-120v-720h720v720H120Zm60-500h600v-160H180v160Zm220 220h160v-160H400v160Zm0 220h160v-160H400v160ZM180-400h160v-160H180v160Zm440 0h160v-160H620v160ZM180-180h160v-160H180v160Zm440 0h160v-160H620v160Z\"/>\n",
              "  </svg>\n",
              "    </button>\n",
              "\n",
              "  <style>\n",
              "    .colab-df-container {\n",
              "      display:flex;\n",
              "      gap: 12px;\n",
              "    }\n",
              "\n",
              "    .colab-df-convert {\n",
              "      background-color: #E8F0FE;\n",
              "      border: none;\n",
              "      border-radius: 50%;\n",
              "      cursor: pointer;\n",
              "      display: none;\n",
              "      fill: #1967D2;\n",
              "      height: 32px;\n",
              "      padding: 0 0 0 0;\n",
              "      width: 32px;\n",
              "    }\n",
              "\n",
              "    .colab-df-convert:hover {\n",
              "      background-color: #E2EBFA;\n",
              "      box-shadow: 0px 1px 2px rgba(60, 64, 67, 0.3), 0px 1px 3px 1px rgba(60, 64, 67, 0.15);\n",
              "      fill: #174EA6;\n",
              "    }\n",
              "\n",
              "    .colab-df-buttons div {\n",
              "      margin-bottom: 4px;\n",
              "    }\n",
              "\n",
              "    [theme=dark] .colab-df-convert {\n",
              "      background-color: #3B4455;\n",
              "      fill: #D2E3FC;\n",
              "    }\n",
              "\n",
              "    [theme=dark] .colab-df-convert:hover {\n",
              "      background-color: #434B5C;\n",
              "      box-shadow: 0px 1px 3px 1px rgba(0, 0, 0, 0.15);\n",
              "      filter: drop-shadow(0px 1px 2px rgba(0, 0, 0, 0.3));\n",
              "      fill: #FFFFFF;\n",
              "    }\n",
              "  </style>\n",
              "\n",
              "    <script>\n",
              "      const buttonEl =\n",
              "        document.querySelector('#df-fc53bcbd-7af1-44f6-95fc-0f47674ae1e2 button.colab-df-convert');\n",
              "      buttonEl.style.display =\n",
              "        google.colab.kernel.accessAllowed ? 'block' : 'none';\n",
              "\n",
              "      async function convertToInteractive(key) {\n",
              "        const element = document.querySelector('#df-fc53bcbd-7af1-44f6-95fc-0f47674ae1e2');\n",
              "        const dataTable =\n",
              "          await google.colab.kernel.invokeFunction('convertToInteractive',\n",
              "                                                    [key], {});\n",
              "        if (!dataTable) return;\n",
              "\n",
              "        const docLinkHtml = 'Like what you see? Visit the ' +\n",
              "          '<a target=\"_blank\" href=https://colab.research.google.com/notebooks/data_table.ipynb>data table notebook</a>'\n",
              "          + ' to learn more about interactive tables.';\n",
              "        element.innerHTML = '';\n",
              "        dataTable['output_type'] = 'display_data';\n",
              "        await google.colab.output.renderOutput(dataTable, element);\n",
              "        const docLink = document.createElement('div');\n",
              "        docLink.innerHTML = docLinkHtml;\n",
              "        element.appendChild(docLink);\n",
              "      }\n",
              "    </script>\n",
              "  </div>\n",
              "\n",
              "\n",
              "<div id=\"df-8fec323d-9ec2-451f-bff5-7268a33cef07\">\n",
              "  <button class=\"colab-df-quickchart\" onclick=\"quickchart('df-8fec323d-9ec2-451f-bff5-7268a33cef07')\"\n",
              "            title=\"Suggest charts\"\n",
              "            style=\"display:none;\">\n",
              "\n",
              "<svg xmlns=\"http://www.w3.org/2000/svg\" height=\"24px\"viewBox=\"0 0 24 24\"\n",
              "     width=\"24px\">\n",
              "    <g>\n",
              "        <path d=\"M19 3H5c-1.1 0-2 .9-2 2v14c0 1.1.9 2 2 2h14c1.1 0 2-.9 2-2V5c0-1.1-.9-2-2-2zM9 17H7v-7h2v7zm4 0h-2V7h2v10zm4 0h-2v-4h2v4z\"/>\n",
              "    </g>\n",
              "</svg>\n",
              "  </button>\n",
              "\n",
              "<style>\n",
              "  .colab-df-quickchart {\n",
              "      --bg-color: #E8F0FE;\n",
              "      --fill-color: #1967D2;\n",
              "      --hover-bg-color: #E2EBFA;\n",
              "      --hover-fill-color: #174EA6;\n",
              "      --disabled-fill-color: #AAA;\n",
              "      --disabled-bg-color: #DDD;\n",
              "  }\n",
              "\n",
              "  [theme=dark] .colab-df-quickchart {\n",
              "      --bg-color: #3B4455;\n",
              "      --fill-color: #D2E3FC;\n",
              "      --hover-bg-color: #434B5C;\n",
              "      --hover-fill-color: #FFFFFF;\n",
              "      --disabled-bg-color: #3B4455;\n",
              "      --disabled-fill-color: #666;\n",
              "  }\n",
              "\n",
              "  .colab-df-quickchart {\n",
              "    background-color: var(--bg-color);\n",
              "    border: none;\n",
              "    border-radius: 50%;\n",
              "    cursor: pointer;\n",
              "    display: none;\n",
              "    fill: var(--fill-color);\n",
              "    height: 32px;\n",
              "    padding: 0;\n",
              "    width: 32px;\n",
              "  }\n",
              "\n",
              "  .colab-df-quickchart:hover {\n",
              "    background-color: var(--hover-bg-color);\n",
              "    box-shadow: 0 1px 2px rgba(60, 64, 67, 0.3), 0 1px 3px 1px rgba(60, 64, 67, 0.15);\n",
              "    fill: var(--button-hover-fill-color);\n",
              "  }\n",
              "\n",
              "  .colab-df-quickchart-complete:disabled,\n",
              "  .colab-df-quickchart-complete:disabled:hover {\n",
              "    background-color: var(--disabled-bg-color);\n",
              "    fill: var(--disabled-fill-color);\n",
              "    box-shadow: none;\n",
              "  }\n",
              "\n",
              "  .colab-df-spinner {\n",
              "    border: 2px solid var(--fill-color);\n",
              "    border-color: transparent;\n",
              "    border-bottom-color: var(--fill-color);\n",
              "    animation:\n",
              "      spin 1s steps(1) infinite;\n",
              "  }\n",
              "\n",
              "  @keyframes spin {\n",
              "    0% {\n",
              "      border-color: transparent;\n",
              "      border-bottom-color: var(--fill-color);\n",
              "      border-left-color: var(--fill-color);\n",
              "    }\n",
              "    20% {\n",
              "      border-color: transparent;\n",
              "      border-left-color: var(--fill-color);\n",
              "      border-top-color: var(--fill-color);\n",
              "    }\n",
              "    30% {\n",
              "      border-color: transparent;\n",
              "      border-left-color: var(--fill-color);\n",
              "      border-top-color: var(--fill-color);\n",
              "      border-right-color: var(--fill-color);\n",
              "    }\n",
              "    40% {\n",
              "      border-color: transparent;\n",
              "      border-right-color: var(--fill-color);\n",
              "      border-top-color: var(--fill-color);\n",
              "    }\n",
              "    60% {\n",
              "      border-color: transparent;\n",
              "      border-right-color: var(--fill-color);\n",
              "    }\n",
              "    80% {\n",
              "      border-color: transparent;\n",
              "      border-right-color: var(--fill-color);\n",
              "      border-bottom-color: var(--fill-color);\n",
              "    }\n",
              "    90% {\n",
              "      border-color: transparent;\n",
              "      border-bottom-color: var(--fill-color);\n",
              "    }\n",
              "  }\n",
              "</style>\n",
              "\n",
              "  <script>\n",
              "    async function quickchart(key) {\n",
              "      const quickchartButtonEl =\n",
              "        document.querySelector('#' + key + ' button');\n",
              "      quickchartButtonEl.disabled = true;  // To prevent multiple clicks.\n",
              "      quickchartButtonEl.classList.add('colab-df-spinner');\n",
              "      try {\n",
              "        const charts = await google.colab.kernel.invokeFunction(\n",
              "            'suggestCharts', [key], {});\n",
              "      } catch (error) {\n",
              "        console.error('Error during call to suggestCharts:', error);\n",
              "      }\n",
              "      quickchartButtonEl.classList.remove('colab-df-spinner');\n",
              "      quickchartButtonEl.classList.add('colab-df-quickchart-complete');\n",
              "    }\n",
              "    (() => {\n",
              "      let quickchartButtonEl =\n",
              "        document.querySelector('#df-8fec323d-9ec2-451f-bff5-7268a33cef07 button');\n",
              "      quickchartButtonEl.style.display =\n",
              "        google.colab.kernel.accessAllowed ? 'block' : 'none';\n",
              "    })();\n",
              "  </script>\n",
              "</div>\n",
              "\n",
              "    </div>\n",
              "  </div>\n"
            ],
            "application/vnd.google.colaboratory.intrinsic+json": {
              "type": "dataframe",
              "variable_name": "data",
              "summary": "{\n  \"name\": \"data\",\n  \"rows\": 1000,\n  \"fields\": [\n    {\n      \"column\": \"sat_sum\",\n      \"properties\": {\n        \"dtype\": \"number\",\n        \"std\": 57,\n        \"min\": 212,\n        \"max\": 576,\n        \"num_unique_values\": 75,\n        \"samples\": [\n          428,\n          400,\n          408\n        ],\n        \"semantic_type\": \"\",\n        \"description\": \"\"\n      }\n    },\n    {\n      \"column\": \"hs_gpa\",\n      \"properties\": {\n        \"dtype\": \"number\",\n        \"std\": 0.5416474609669759,\n        \"min\": 1.8,\n        \"max\": 4.5,\n        \"num_unique_values\": 35,\n        \"samples\": [\n          3.3,\n          2.75,\n          3.33\n        ],\n        \"semantic_type\": \"\",\n        \"description\": \"\"\n      }\n    },\n    {\n      \"column\": \"fy_gpa\",\n      \"properties\": {\n        \"dtype\": \"number\",\n        \"std\": 0.7408051631770607,\n        \"min\": 0.0,\n        \"max\": 4.0,\n        \"num_unique_values\": 282,\n        \"samples\": [\n          3.63,\n          1.78,\n          2.05\n        ],\n        \"semantic_type\": \"\",\n        \"description\": \"\"\n      }\n    }\n  ]\n}"
            }
          },
          "metadata": {},
          "execution_count": 3
        }
      ]
    },
    {
      "cell_type": "markdown",
      "source": [
        "DATA PRE PROCESSING"
      ],
      "metadata": {
        "id": "ZSpVIZ3UJXvs"
      }
    },
    {
      "cell_type": "code",
      "source": [
        "X = data[['sat_sum', 'hs_gpa']].values #converting data to numpy\n",
        "#reshape the fy_gpa into a 2D array with [data_size] rows and 1 column\n",
        "y = data['fy_gpa'].values.reshape(-1, 1)\n",
        "print(X.shape)\n",
        "print(y.shape) #we basically have x as input and y as an output"
      ],
      "metadata": {
        "colab": {
          "base_uri": "https://localhost:8080/"
        },
        "id": "JUM_mTcfJK3e",
        "outputId": "b41fb03e-bf9e-45cd-a241-568aa6312aed"
      },
      "execution_count": 4,
      "outputs": [
        {
          "output_type": "stream",
          "name": "stdout",
          "text": [
            "(1000, 2)\n",
            "(1000, 1)\n"
          ]
        }
      ]
    },
    {
      "cell_type": "code",
      "source": [
        "from sklearn.model_selection import train_test_split\n",
        "X_train, X_test , Y_train, Y_test = train_test_split(X, y, test_size=0.2, random_state=42)"
      ],
      "metadata": {
        "id": "KmkaEhprKUyC"
      },
      "execution_count": 5,
      "outputs": []
    },
    {
      "cell_type": "code",
      "source": [
        "from sklearn.preprocessing import StandardScaler\n",
        "\n",
        "scaler = StandardScaler()\n",
        "X_train = scaler.fit_transform(X_train)\n",
        "X_test = scaler.transform(X_test)"
      ],
      "metadata": {
        "id": "0V2psd-8PuG9"
      },
      "execution_count": 6,
      "outputs": []
    },
    {
      "cell_type": "code",
      "source": [
        "X_train.shape"
      ],
      "metadata": {
        "colab": {
          "base_uri": "https://localhost:8080/"
        },
        "id": "YMefJ36nSnPC",
        "outputId": "53cf1399-d955-4664-ad45-419a5dc703cb"
      },
      "execution_count": 7,
      "outputs": [
        {
          "output_type": "execute_result",
          "data": {
            "text/plain": [
              "(800, 2)"
            ]
          },
          "metadata": {},
          "execution_count": 7
        }
      ]
    },
    {
      "cell_type": "code",
      "source": [
        "import torch\n",
        "\n",
        "X_train_tensor = torch.tensor(X_train, dtype=torch.float32)\n",
        "Y_train_tensor = torch.tensor(Y_train, dtype=torch.float32)\n",
        "X_test_tensor = torch.tensor(X_test, dtype=torch.float32)\n",
        "Y_test_tensor = torch.tensor(Y_test, dtype=torch.float32)"
      ],
      "metadata": {
        "id": "X8fZWjCESUl1"
      },
      "execution_count": 8,
      "outputs": []
    },
    {
      "cell_type": "markdown",
      "source": [
        "BUIDLING THE MODEL"
      ],
      "metadata": {
        "id": "NFm04VlVJXFp"
      }
    },
    {
      "cell_type": "code",
      "source": [
        "import torch.nn as nn\n"
      ],
      "metadata": {
        "id": "C2AsMD7JTB4v"
      },
      "execution_count": 9,
      "outputs": []
    },
    {
      "cell_type": "code",
      "source": [
        "model = nn.Sequential(\n",
        "    nn.Linear(2, 2),\n",
        "    nn.Sigmoid(), #intoduces non-linearity\n",
        "    nn.Linear(2, 1)\n",
        "\n",
        ") #its like an container"
      ],
      "metadata": {
        "id": "weZ0gcg0TQd2"
      },
      "execution_count": 10,
      "outputs": []
    },
    {
      "cell_type": "code",
      "source": [
        "preds = model(X_train_tensor) #forward propagation , we basically passed out tensors in the model container"
      ],
      "metadata": {
        "id": "UefTNomZTcEi"
      },
      "execution_count": 11,
      "outputs": []
    },
    {
      "cell_type": "code",
      "source": [
        "preds[:5] #predictions of first 5 records"
      ],
      "metadata": {
        "colab": {
          "base_uri": "https://localhost:8080/"
        },
        "id": "yGU3mhBYTvai",
        "outputId": "c1c0e2b0-0737-410f-8cda-5a5849a5fba3"
      },
      "execution_count": 12,
      "outputs": [
        {
          "output_type": "execute_result",
          "data": {
            "text/plain": [
              "tensor([[-0.1089],\n",
              "        [-0.0988],\n",
              "        [ 0.0052],\n",
              "        [-0.0913],\n",
              "        [-0.0098]], grad_fn=<SliceBackward0>)"
            ]
          },
          "metadata": {},
          "execution_count": 12
        }
      ]
    },
    {
      "cell_type": "code",
      "source": [
        "from torch.nn import MSELoss # computing the loss"
      ],
      "metadata": {
        "id": "M0oAQ7VBVYiL"
      },
      "execution_count": 13,
      "outputs": []
    },
    {
      "cell_type": "code",
      "source": [
        "criteron = MSELoss()\n",
        "loss = criteron(preds, Y_train_tensor)\n",
        "print(loss)"
      ],
      "metadata": {
        "colab": {
          "base_uri": "https://localhost:8080/"
        },
        "id": "qFv7V_fBVmZp",
        "outputId": "e5580f80-0e2d-488e-cd3a-118ae5bec9bc"
      },
      "execution_count": 14,
      "outputs": [
        {
          "output_type": "stream",
          "name": "stdout",
          "text": [
            "tensor(6.8966, grad_fn=<MseLossBackward0>)\n"
          ]
        }
      ]
    },
    {
      "cell_type": "code",
      "source": [
        "preds[:5]\n",
        "Y_train_tensor[:5]"
      ],
      "metadata": {
        "colab": {
          "base_uri": "https://localhost:8080/"
        },
        "id": "Biqh2tLuWbCa",
        "outputId": "a34ae144-23ef-469d-a049-ba6af539a576"
      },
      "execution_count": 15,
      "outputs": [
        {
          "output_type": "execute_result",
          "data": {
            "text/plain": [
              "tensor([[2.0000],\n",
              "        [3.1100],\n",
              "        [1.6300],\n",
              "        [3.0200],\n",
              "        [1.5500]])"
            ]
          },
          "metadata": {},
          "execution_count": 15
        }
      ]
    },
    {
      "cell_type": "code",
      "source": [
        "model[0].weight"
      ],
      "metadata": {
        "colab": {
          "base_uri": "https://localhost:8080/"
        },
        "id": "VfACTNDXWicG",
        "outputId": "2dd67a19-b495-41c6-b868-ef1af9a4cafe"
      },
      "execution_count": 16,
      "outputs": [
        {
          "output_type": "execute_result",
          "data": {
            "text/plain": [
              "Parameter containing:\n",
              "tensor([[ 0.3833,  0.0166],\n",
              "        [-0.4494,  0.5902]], requires_grad=True)"
            ]
          },
          "metadata": {},
          "execution_count": 16
        }
      ]
    },
    {
      "cell_type": "code",
      "source": [
        "model[2].weight"
      ],
      "metadata": {
        "colab": {
          "base_uri": "https://localhost:8080/"
        },
        "id": "Mrq8XcJOWlae",
        "outputId": "6b5bf879-d4cd-419b-b02d-fd9535769758"
      },
      "execution_count": 17,
      "outputs": [
        {
          "output_type": "execute_result",
          "data": {
            "text/plain": [
              "Parameter containing:\n",
              "tensor([[-0.3961, -0.5162]], requires_grad=True)"
            ]
          },
          "metadata": {},
          "execution_count": 17
        }
      ]
    },
    {
      "cell_type": "code",
      "source": [
        "import torch.optim as optim\n",
        "\n",
        "optimizer = optim.SGD(model.parameters(), lr=0.001)"
      ],
      "metadata": {
        "id": "5aEn32RkdaoC"
      },
      "execution_count": 18,
      "outputs": []
    },
    {
      "cell_type": "code",
      "source": [
        "loss.backward()"
      ],
      "metadata": {
        "id": "OOmuqPhWdn1T"
      },
      "execution_count": 19,
      "outputs": []
    },
    {
      "cell_type": "code",
      "source": [
        "optimizer.step()"
      ],
      "metadata": {
        "id": "a60TI7eJduHX"
      },
      "execution_count": 20,
      "outputs": []
    },
    {
      "cell_type": "code",
      "source": [
        "model[0].weight"
      ],
      "metadata": {
        "colab": {
          "base_uri": "https://localhost:8080/"
        },
        "id": "J7EhTJo_dxqM",
        "outputId": "4430cb19-2563-4a92-eec1-dca2e3d574ef"
      },
      "execution_count": 21,
      "outputs": [
        {
          "output_type": "execute_result",
          "data": {
            "text/plain": [
              "Parameter containing:\n",
              "tensor([[ 0.3832,  0.0166],\n",
              "        [-0.4495,  0.5901]], requires_grad=True)"
            ]
          },
          "metadata": {},
          "execution_count": 21
        }
      ]
    },
    {
      "cell_type": "code",
      "source": [
        "model[2].weight"
      ],
      "metadata": {
        "colab": {
          "base_uri": "https://localhost:8080/"
        },
        "id": "EqYHAfWUd0Ja",
        "outputId": "eea38d5d-bee6-428c-8e47-4e4d9f93ae67"
      },
      "execution_count": 22,
      "outputs": [
        {
          "output_type": "execute_result",
          "data": {
            "text/plain": [
              "Parameter containing:\n",
              "tensor([[-0.3933, -0.5132]], requires_grad=True)"
            ]
          },
          "metadata": {},
          "execution_count": 22
        }
      ]
    },
    {
      "cell_type": "code",
      "source": [
        "from torch.utils.data import TensorDataset, DataLoader #data loader shuffle and etc"
      ],
      "metadata": {
        "id": "aANAySJsd3iP"
      },
      "execution_count": 23,
      "outputs": []
    },
    {
      "cell_type": "code",
      "source": [
        "train_data = TensorDataset(X_train_tensor, Y_train_tensor)"
      ],
      "metadata": {
        "id": "o3OkIG2leCwK"
      },
      "execution_count": 24,
      "outputs": []
    },
    {
      "cell_type": "code",
      "source": [
        "model = nn.Sequential(\n",
        "    nn.Linear(2,2),\n",
        "    nn.Sigmoid(),\n",
        "    nn.Linear(2,1)\n",
        ")\n",
        "\n",
        "optimizer = optim.SGD(model.parameters(), lr=0.001, momentum=0.9, nesterov =True)\n"
      ],
      "metadata": {
        "id": "U6T6xqeleR4Y"
      },
      "execution_count": 26,
      "outputs": []
    },
    {
      "cell_type": "code",
      "source": [
        "train_loss = criteron(model(X_train_tensor), Y_train_tensor).item()\n",
        "\n",
        "test_loss = criteron(model(X_test_tensor), Y_test_tensor).item()\n",
        "\n",
        "print(f'Train Loss: {train_loss:.4f}')\n",
        "print(f'Test Loss: {test_loss:.4f}')"
      ],
      "metadata": {
        "colab": {
          "base_uri": "https://localhost:8080/"
        },
        "id": "M9OrbuIPetgY",
        "outputId": "59b53630-9559-448f-d3c5-7c4f8c84a6d3"
      },
      "execution_count": 27,
      "outputs": [
        {
          "output_type": "stream",
          "name": "stdout",
          "text": [
            "Train Loss: 9.7272\n",
            "Test Loss: 10.0661\n"
          ]
        }
      ]
    },
    {
      "cell_type": "code",
      "source": [
        "train_loader = DataLoader(train_data, batch_size=800, shuffle=True) #800 is the number of samples in train set\n",
        "# Execute the training loop\n",
        "for epoch in range(1000): # increasing the epochs for effective training\n",
        "    for X_batch, y_batch in train_loader:\n",
        "        # Forward pass\n",
        "        pred = model(X_batch)\n",
        "        # Changed 'criterion' to 'criteron' to match the previously defined variable\n",
        "        loss = criteron(pred, y_batch)\n",
        "\n",
        "        # Backward pass and optimization\n",
        "        optimizer.zero_grad()\n",
        "        loss.backward()\n",
        "        optimizer.step()\n",
        "\n",
        "    if (epoch+1) % 100 == 0: # printing after every 100 epochs\n",
        "        train_loss = criteron(model(X_train_tensor), Y_train_tensor).item()\n",
        "        # print(epoch,': ', train_loss)\n",
        "        # Changed 'criterion' to 'criteron' to match the previously defined variable\n",
        "        test_loss = criteron(model(X_test_tensor), Y_test_tensor).item()\n",
        "        print(f'Epoch {epoch+1}: Train Loss: {train_loss:.4f}, Test Loss: {test_loss:.4f}')"
      ],
      "metadata": {
        "colab": {
          "base_uri": "https://localhost:8080/"
        },
        "id": "6gzrBGiQfbKn",
        "outputId": "254ad858-34c2-45d9-c335-ebf789148f6a"
      },
      "execution_count": 28,
      "outputs": [
        {
          "output_type": "stream",
          "name": "stdout",
          "text": [
            "Epoch 100: Train Loss: 0.4258, Test Loss: 0.4718\n",
            "Epoch 200: Train Loss: 0.3997, Test Loss: 0.4465\n",
            "Epoch 300: Train Loss: 0.3824, Test Loss: 0.4300\n",
            "Epoch 400: Train Loss: 0.3709, Test Loss: 0.4195\n",
            "Epoch 500: Train Loss: 0.3633, Test Loss: 0.4128\n",
            "Epoch 600: Train Loss: 0.3583, Test Loss: 0.4086\n",
            "Epoch 700: Train Loss: 0.3549, Test Loss: 0.4060\n",
            "Epoch 800: Train Loss: 0.3527, Test Loss: 0.4044\n",
            "Epoch 900: Train Loss: 0.3512, Test Loss: 0.4035\n",
            "Epoch 1000: Train Loss: 0.3501, Test Loss: 0.4029\n"
          ]
        }
      ]
    },
    {
      "cell_type": "code",
      "source": [
        "model = nn.Sequential(\n",
        "    nn.Linear(2,2),\n",
        "    nn.Sigmoid(),\n",
        "    nn.Linear(2,1)\n",
        ")\n",
        "\n",
        "optimizer = optim.SGD(model.parameters(), lr=0.001, momentum=0.9, nesterov =True)"
      ],
      "metadata": {
        "id": "tk3Zy7rEde8G"
      },
      "execution_count": 29,
      "outputs": []
    },
    {
      "cell_type": "code",
      "source": [
        "train_loader = DataLoader(train_data, batch_size=64, shuffle=True)\n",
        "for epoch in range(500):\n",
        "  for x_batch, y_batch in train_loader:\n",
        "    pred = model(x_batch)\n",
        "    loss = criteron(pred, y_batch)\n",
        "\n",
        "    optimizer.zero_grad()\n",
        "    loss.backward()\n",
        "    optimizer.step()\n",
        "\n",
        "\n",
        "  if (epoch+1) % 50 == 0 :\n",
        "    train_loss = criteron(model(X_train_tensor), Y_train_tensor).item()\n",
        "    test_loss = criteron(model(X_test_tensor), Y_test_tensor).item()\n",
        "    print(f'Epoch {epoch+1}: Train Loss: {train_loss:.4f}, Test Loss: {test_loss:.4f}')"
      ],
      "metadata": {
        "colab": {
          "base_uri": "https://localhost:8080/"
        },
        "id": "qA_Wj81UeVuh",
        "outputId": "2108654b-41a0-4aea-ba29-5f39f77f0426"
      },
      "execution_count": 35,
      "outputs": [
        {
          "output_type": "stream",
          "name": "stdout",
          "text": [
            "Epoch 50: Train Loss: 0.3401, Test Loss: 0.3991\n",
            "Epoch 100: Train Loss: 0.3400, Test Loss: 0.3989\n",
            "Epoch 150: Train Loss: 0.3400, Test Loss: 0.3987\n",
            "Epoch 200: Train Loss: 0.3399, Test Loss: 0.3989\n",
            "Epoch 250: Train Loss: 0.3399, Test Loss: 0.3988\n",
            "Epoch 300: Train Loss: 0.3399, Test Loss: 0.3989\n",
            "Epoch 350: Train Loss: 0.3399, Test Loss: 0.3988\n",
            "Epoch 400: Train Loss: 0.3398, Test Loss: 0.3985\n",
            "Epoch 450: Train Loss: 0.3398, Test Loss: 0.3988\n",
            "Epoch 500: Train Loss: 0.3398, Test Loss: 0.3986\n"
          ]
        }
      ]
    },
    {
      "cell_type": "code",
      "source": [
        "model = nn.Sequential(\n",
        "    nn.Linear(2,2),\n",
        "    nn.Sigmoid(),\n",
        "    nn.Linear(2,1)\n",
        ")\n",
        "\n",
        "optimizer = optim.Adagrad(model.parameters())"
      ],
      "metadata": {
        "id": "remyymsP284u"
      },
      "execution_count": 39,
      "outputs": []
    },
    {
      "cell_type": "code",
      "source": [
        "train_loader = DataLoader(train_data, batch_size=64, shuffle=True)\n",
        "for epoch in range(500):\n",
        "  for X_batch , Y_batch in train_loader:\n",
        "    pred = model(X_batch)\n",
        "    loss = criteron(pred, Y_batch)\n",
        "\n",
        "    optimizer.zero_grad()\n",
        "    loss.backward()\n",
        "    optimizer.step()\n",
        "\n",
        "\n",
        "  if (epoch +1) % 50 == 0:\n",
        "    train_loss = criteron(model(X_train_tensor), Y_train_tensor).item()\n",
        "    test_loss = criteron(model(X_test_tensor), Y_test_tensor).item()\n",
        "    print(f'Epoch {epoch+1}: Train Loss: {train_loss:.4f}, Test Loss: {test_loss:.4f}')\n",
        "\n"
      ],
      "metadata": {
        "colab": {
          "base_uri": "https://localhost:8080/"
        },
        "id": "tfqMbto93RA4",
        "outputId": "1593f72f-e9df-406b-c60b-0c620aa8231a"
      },
      "execution_count": 43,
      "outputs": [
        {
          "output_type": "stream",
          "name": "stdout",
          "text": [
            "Epoch 50: Train Loss: 0.3894, Test Loss: 0.4469\n",
            "Epoch 100: Train Loss: 0.3737, Test Loss: 0.4290\n",
            "Epoch 150: Train Loss: 0.3659, Test Loss: 0.4201\n",
            "Epoch 200: Train Loss: 0.3617, Test Loss: 0.4153\n",
            "Epoch 250: Train Loss: 0.3592, Test Loss: 0.4125\n",
            "Epoch 300: Train Loss: 0.3576, Test Loss: 0.4107\n",
            "Epoch 350: Train Loss: 0.3565, Test Loss: 0.4094\n",
            "Epoch 400: Train Loss: 0.3557, Test Loss: 0.4086\n",
            "Epoch 450: Train Loss: 0.3551, Test Loss: 0.4079\n",
            "Epoch 500: Train Loss: 0.3547, Test Loss: 0.4074\n"
          ]
        }
      ]
    }
  ]
}