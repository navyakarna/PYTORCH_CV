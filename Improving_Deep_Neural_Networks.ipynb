{
  "cells": [
    {
      "cell_type": "markdown",
      "metadata": {
        "id": "view-in-github",
        "colab_type": "text"
      },
      "source": [
        "<a href=\"https://colab.research.google.com/github/navyakarna/PYTORCH_CV/blob/main/Improving_Deep_Neural_Networks.ipynb\" target=\"_parent\"><img src=\"https://colab.research.google.com/assets/colab-badge.svg\" alt=\"Open In Colab\"/></a>"
      ]
    },
    {
      "cell_type": "code",
      "execution_count": null,
      "metadata": {
        "id": "6dLCgScRneAc"
      },
      "outputs": [],
      "source": [
        "import pandas as pd\n",
        "import numpy as np"
      ]
    },
    {
      "cell_type": "code",
      "execution_count": null,
      "metadata": {
        "id": "E8Y3Tzm8neAe",
        "outputId": "3460468b-a831-4b11-f076-edba3429683d"
      },
      "outputs": [
        {
          "data": {
            "text/html": [
              "<div>\n",
              "<style scoped>\n",
              "    .dataframe tbody tr th:only-of-type {\n",
              "        vertical-align: middle;\n",
              "    }\n",
              "\n",
              "    .dataframe tbody tr th {\n",
              "        vertical-align: top;\n",
              "    }\n",
              "\n",
              "    .dataframe thead th {\n",
              "        text-align: right;\n",
              "    }\n",
              "</style>\n",
              "<table border=\"1\" class=\"dataframe\">\n",
              "  <thead>\n",
              "    <tr style=\"text-align: right;\">\n",
              "      <th></th>\n",
              "      <th>enrollee_id</th>\n",
              "      <th>city</th>\n",
              "      <th>city_development_index</th>\n",
              "      <th>gender</th>\n",
              "      <th>relevent_experience</th>\n",
              "      <th>enrolled_university</th>\n",
              "      <th>education_level</th>\n",
              "      <th>major_discipline</th>\n",
              "      <th>experience</th>\n",
              "      <th>company_size</th>\n",
              "      <th>company_type</th>\n",
              "      <th>last_new_job</th>\n",
              "      <th>training_hours</th>\n",
              "      <th>target</th>\n",
              "    </tr>\n",
              "  </thead>\n",
              "  <tbody>\n",
              "    <tr>\n",
              "      <th>0</th>\n",
              "      <td>23798</td>\n",
              "      <td>city_149</td>\n",
              "      <td>0.689</td>\n",
              "      <td>Male</td>\n",
              "      <td>Has relevent experience</td>\n",
              "      <td>no_enrollment</td>\n",
              "      <td>Graduate</td>\n",
              "      <td>STEM</td>\n",
              "      <td>3</td>\n",
              "      <td>100-500</td>\n",
              "      <td>Pvt Ltd</td>\n",
              "      <td>1</td>\n",
              "      <td>106</td>\n",
              "      <td>0</td>\n",
              "    </tr>\n",
              "    <tr>\n",
              "      <th>1</th>\n",
              "      <td>29166</td>\n",
              "      <td>city_83</td>\n",
              "      <td>0.923</td>\n",
              "      <td>Male</td>\n",
              "      <td>Has relevent experience</td>\n",
              "      <td>no_enrollment</td>\n",
              "      <td>Graduate</td>\n",
              "      <td>STEM</td>\n",
              "      <td>14</td>\n",
              "      <td>&lt;10</td>\n",
              "      <td>Funded Startup</td>\n",
              "      <td>1</td>\n",
              "      <td>69</td>\n",
              "      <td>0</td>\n",
              "    </tr>\n",
              "    <tr>\n",
              "      <th>2</th>\n",
              "      <td>46</td>\n",
              "      <td>city_16</td>\n",
              "      <td>0.910</td>\n",
              "      <td>NaN</td>\n",
              "      <td>Has relevent experience</td>\n",
              "      <td>no_enrollment</td>\n",
              "      <td>Graduate</td>\n",
              "      <td>STEM</td>\n",
              "      <td>6</td>\n",
              "      <td>50-99</td>\n",
              "      <td>Public Sector</td>\n",
              "      <td>2</td>\n",
              "      <td>4</td>\n",
              "      <td>0</td>\n",
              "    </tr>\n",
              "    <tr>\n",
              "      <th>3</th>\n",
              "      <td>18527</td>\n",
              "      <td>city_64</td>\n",
              "      <td>0.666</td>\n",
              "      <td>Male</td>\n",
              "      <td>Has relevent experience</td>\n",
              "      <td>no_enrollment</td>\n",
              "      <td>Graduate</td>\n",
              "      <td>STEM</td>\n",
              "      <td>14</td>\n",
              "      <td>50-99</td>\n",
              "      <td>Pvt Ltd</td>\n",
              "      <td>1</td>\n",
              "      <td>26</td>\n",
              "      <td>0</td>\n",
              "    </tr>\n",
              "    <tr>\n",
              "      <th>4</th>\n",
              "      <td>21751</td>\n",
              "      <td>city_100</td>\n",
              "      <td>0.887</td>\n",
              "      <td>NaN</td>\n",
              "      <td>No relevent experience</td>\n",
              "      <td>no_enrollment</td>\n",
              "      <td>Masters</td>\n",
              "      <td>STEM</td>\n",
              "      <td>8</td>\n",
              "      <td>NaN</td>\n",
              "      <td>NaN</td>\n",
              "      <td>2</td>\n",
              "      <td>88</td>\n",
              "      <td>1</td>\n",
              "    </tr>\n",
              "  </tbody>\n",
              "</table>\n",
              "</div>"
            ],
            "text/plain": [
              "   enrollee_id      city  city_development_index gender  \\\n",
              "0        23798  city_149                   0.689   Male   \n",
              "1        29166   city_83                   0.923   Male   \n",
              "2           46   city_16                   0.910    NaN   \n",
              "3        18527   city_64                   0.666   Male   \n",
              "4        21751  city_100                   0.887    NaN   \n",
              "\n",
              "       relevent_experience enrolled_university education_level  \\\n",
              "0  Has relevent experience       no_enrollment        Graduate   \n",
              "1  Has relevent experience       no_enrollment        Graduate   \n",
              "2  Has relevent experience       no_enrollment        Graduate   \n",
              "3  Has relevent experience       no_enrollment        Graduate   \n",
              "4   No relevent experience       no_enrollment         Masters   \n",
              "\n",
              "  major_discipline experience company_size    company_type last_new_job  \\\n",
              "0             STEM          3      100-500         Pvt Ltd            1   \n",
              "1             STEM         14          <10  Funded Startup            1   \n",
              "2             STEM          6        50-99   Public Sector            2   \n",
              "3             STEM         14        50-99         Pvt Ltd            1   \n",
              "4             STEM          8          NaN             NaN            2   \n",
              "\n",
              "   training_hours  target  \n",
              "0             106       0  \n",
              "1              69       0  \n",
              "2               4       0  \n",
              "3              26       0  \n",
              "4              88       1  "
            ]
          },
          "execution_count": 2,
          "metadata": {},
          "output_type": "execute_result"
        }
      ],
      "source": [
        "# Loading data\n",
        "df = pd.read_csv('Zeta_Analytics Dataset.csv')\n",
        "df.head()"
      ]
    },
    {
      "cell_type": "code",
      "execution_count": null,
      "metadata": {
        "id": "5Zqb75IKneAe",
        "outputId": "7ff8d494-1212-4b93-9fbb-c60414ddcdc2"
      },
      "outputs": [
        {
          "name": "stdout",
          "output_type": "stream",
          "text": [
            "<class 'pandas.core.frame.DataFrame'>\n",
            "RangeIndex: 18359 entries, 0 to 18358\n",
            "Data columns (total 14 columns):\n",
            " #   Column                  Non-Null Count  Dtype  \n",
            "---  ------                  --------------  -----  \n",
            " 0   enrollee_id             18359 non-null  int64  \n",
            " 1   city                    18359 non-null  object \n",
            " 2   city_development_index  18359 non-null  float64\n",
            " 3   gender                  14261 non-null  object \n",
            " 4   relevent_experience     18359 non-null  object \n",
            " 5   enrolled_university     18017 non-null  object \n",
            " 6   education_level         17902 non-null  object \n",
            " 7   major_discipline        15521 non-null  object \n",
            " 8   experience              18300 non-null  object \n",
            " 9   company_size            13580 non-null  object \n",
            " 10  company_type            13320 non-null  object \n",
            " 11  last_new_job            17992 non-null  object \n",
            " 12  training_hours          18359 non-null  int64  \n",
            " 13  target                  18359 non-null  int64  \n",
            "dtypes: float64(1), int64(3), object(10)\n",
            "memory usage: 2.0+ MB\n"
          ]
        }
      ],
      "source": [
        "df.info()"
      ]
    },
    {
      "cell_type": "markdown",
      "metadata": {
        "id": "d9jfx_hsneAe"
      },
      "source": [
        "# Data Preprocessing"
      ]
    },
    {
      "cell_type": "code",
      "execution_count": null,
      "metadata": {
        "id": "Mh33jcHmneAf",
        "outputId": "eb7dc65c-7731-4418-a169-686c321ecfb5"
      },
      "outputs": [
        {
          "name": "stdout",
          "output_type": "stream",
          "text": [
            "Columns with NaNs: ['gender', 'enrolled_university', 'education_level', 'major_discipline', 'experience', 'company_size', 'company_type', 'last_new_job']\n",
            "Number of columns with nans: 8\n"
          ]
        }
      ],
      "source": [
        "columns_with_nans = df.columns[df.isna().any()].tolist()\n",
        "\n",
        "# Print the names of columns with NaNs\n",
        "print(\"Columns with NaNs:\", columns_with_nans)\n",
        "print(\"Number of columns with nans:\", len(columns_with_nans))"
      ]
    },
    {
      "cell_type": "code",
      "execution_count": null,
      "metadata": {
        "id": "KKnQ4MFhneAf",
        "outputId": "d986f528-e048-4818-901c-7acc72ddb469"
      },
      "outputs": [
        {
          "data": {
            "text/html": [
              "<div>\n",
              "<style scoped>\n",
              "    .dataframe tbody tr th:only-of-type {\n",
              "        vertical-align: middle;\n",
              "    }\n",
              "\n",
              "    .dataframe tbody tr th {\n",
              "        vertical-align: top;\n",
              "    }\n",
              "\n",
              "    .dataframe thead th {\n",
              "        text-align: right;\n",
              "    }\n",
              "</style>\n",
              "<table border=\"1\" class=\"dataframe\">\n",
              "  <thead>\n",
              "    <tr style=\"text-align: right;\">\n",
              "      <th></th>\n",
              "      <th>enrollee_id</th>\n",
              "      <th>city</th>\n",
              "      <th>city_development_index</th>\n",
              "      <th>gender</th>\n",
              "      <th>relevent_experience</th>\n",
              "      <th>enrolled_university</th>\n",
              "      <th>education_level</th>\n",
              "      <th>major_discipline</th>\n",
              "      <th>experience</th>\n",
              "      <th>company_size</th>\n",
              "      <th>company_type</th>\n",
              "      <th>last_new_job</th>\n",
              "      <th>training_hours</th>\n",
              "      <th>target</th>\n",
              "    </tr>\n",
              "  </thead>\n",
              "  <tbody>\n",
              "    <tr>\n",
              "      <th>0</th>\n",
              "      <td>23798</td>\n",
              "      <td>city_149</td>\n",
              "      <td>0.689</td>\n",
              "      <td>Male</td>\n",
              "      <td>Has relevent experience</td>\n",
              "      <td>no_enrollment</td>\n",
              "      <td>Graduate</td>\n",
              "      <td>STEM</td>\n",
              "      <td>3</td>\n",
              "      <td>100-500</td>\n",
              "      <td>Pvt Ltd</td>\n",
              "      <td>1</td>\n",
              "      <td>106</td>\n",
              "      <td>0</td>\n",
              "    </tr>\n",
              "    <tr>\n",
              "      <th>1</th>\n",
              "      <td>29166</td>\n",
              "      <td>city_83</td>\n",
              "      <td>0.923</td>\n",
              "      <td>Male</td>\n",
              "      <td>Has relevent experience</td>\n",
              "      <td>no_enrollment</td>\n",
              "      <td>Graduate</td>\n",
              "      <td>STEM</td>\n",
              "      <td>14</td>\n",
              "      <td>&lt;10</td>\n",
              "      <td>Funded Startup</td>\n",
              "      <td>1</td>\n",
              "      <td>69</td>\n",
              "      <td>0</td>\n",
              "    </tr>\n",
              "  </tbody>\n",
              "</table>\n",
              "</div>"
            ],
            "text/plain": [
              "   enrollee_id      city  city_development_index gender  \\\n",
              "0        23798  city_149                   0.689   Male   \n",
              "1        29166   city_83                   0.923   Male   \n",
              "\n",
              "       relevent_experience enrolled_university education_level  \\\n",
              "0  Has relevent experience       no_enrollment        Graduate   \n",
              "1  Has relevent experience       no_enrollment        Graduate   \n",
              "\n",
              "  major_discipline experience company_size    company_type last_new_job  \\\n",
              "0             STEM          3      100-500         Pvt Ltd            1   \n",
              "1             STEM         14          <10  Funded Startup            1   \n",
              "\n",
              "   training_hours  target  \n",
              "0             106       0  \n",
              "1              69       0  "
            ]
          },
          "execution_count": 5,
          "metadata": {},
          "output_type": "execute_result"
        }
      ],
      "source": [
        "df.head(2)"
      ]
    },
    {
      "cell_type": "markdown",
      "metadata": {
        "id": "TJng60NkneAf"
      },
      "source": [
        "Filling Categorical columns with missing values with 'NA'"
      ]
    },
    {
      "cell_type": "code",
      "execution_count": null,
      "metadata": {
        "id": "1VlbkCzoneAf"
      },
      "outputs": [],
      "source": [
        "cat_miss_cols = ['gender', 'enrolled_university', 'education_level', 'major_discipline','company_size', 'company_type']"
      ]
    },
    {
      "cell_type": "code",
      "execution_count": null,
      "metadata": {
        "id": "-NmyjxTjneAf",
        "outputId": "e7637a3d-3111-4856-ce11-c87f8ed4d90c"
      },
      "outputs": [
        {
          "name": "stdout",
          "output_type": "stream",
          "text": [
            "['Male' nan 'Female' 'Other']\n",
            "['no_enrollment' 'Full time course' 'Part time course' nan]\n",
            "['Graduate' 'Masters' 'High School' 'Phd' nan 'Primary School']\n",
            "['STEM' 'Other' 'No Major' nan 'Business Degree' 'Arts' 'Humanities']\n",
            "['100-500' '<10' '50-99' nan '5000-9999' '10000+' '1000-4999' '500-999'\n",
            " '10/49']\n",
            "['Pvt Ltd' 'Funded Startup' 'Public Sector' nan 'Early Stage Startup'\n",
            " 'NGO' 'Other']\n"
          ]
        }
      ],
      "source": [
        "for col in cat_miss_cols:\n",
        "    print(df[col].unique())"
      ]
    },
    {
      "cell_type": "code",
      "execution_count": null,
      "metadata": {
        "id": "bSLMH5hJneAf"
      },
      "outputs": [],
      "source": [
        "df[cat_miss_cols] = df[cat_miss_cols].fillna('NA')"
      ]
    },
    {
      "cell_type": "code",
      "execution_count": null,
      "metadata": {
        "id": "ypqC-__bneAg",
        "outputId": "4572950c-6d7c-4402-8e92-d4302d23a23b"
      },
      "outputs": [
        {
          "name": "stdout",
          "output_type": "stream",
          "text": [
            "Columns with NaNs: ['experience', 'last_new_job']\n",
            "Number of columns with nans: 2\n"
          ]
        }
      ],
      "source": [
        "columns_with_nans = df.columns[df.isna().any()].tolist()\n",
        "\n",
        "# Print the names of columns with NaNs\n",
        "print(\"Columns with NaNs:\", columns_with_nans)\n",
        "print(\"Number of columns with nans:\", len(columns_with_nans))"
      ]
    },
    {
      "cell_type": "code",
      "execution_count": null,
      "metadata": {
        "id": "-xeR8YRBneAg",
        "outputId": "60c04a93-3fff-456c-800d-331ed1e12d8f"
      },
      "outputs": [
        {
          "name": "stdout",
          "output_type": "stream",
          "text": [
            "['3' '14' '6' '8' '>20' '4' '9' '15' '10' '1' '5' '16' '11' '12' '7' '2'\n",
            " '13' '<1' '19' '18' '17' nan '20']\n",
            "['1' '2' '3' '>4' 'never' '4' nan]\n"
          ]
        }
      ],
      "source": [
        "num_miss_cols = ['experience', 'last_new_job']\n",
        "for col in num_miss_cols:\n",
        "    print(df[col].unique())"
      ]
    },
    {
      "cell_type": "markdown",
      "metadata": {
        "id": "A5fkW1HNneAg"
      },
      "source": [
        "## Replace text data with numbers in some of the columns which have numerical values"
      ]
    },
    {
      "cell_type": "code",
      "execution_count": null,
      "metadata": {
        "id": "wn5gDGXeneAg"
      },
      "outputs": [],
      "source": [
        "for column in num_miss_cols:\n",
        "    # This will replace any '>' or '<' with an empty string\n",
        "    df[column] = df[column].astype(str).str.replace('>', '').astype(str).str.replace('<', '')\n",
        "    df[column] = df[column].astype(str).str.replace('never', '0')"
      ]
    },
    {
      "cell_type": "code",
      "execution_count": null,
      "metadata": {
        "id": "k8GS6luDneAg",
        "outputId": "edaef808-21b6-4b01-ce54-02210e294cdd"
      },
      "outputs": [
        {
          "name": "stdout",
          "output_type": "stream",
          "text": [
            "['3' '14' '6' '8' '20' '4' '9' '15' '10' '1' '5' '16' '11' '12' '7' '2'\n",
            " '13' '19' '18' '17' 'nan']\n",
            "['1' '2' '3' '4' '0' 'nan']\n"
          ]
        }
      ],
      "source": [
        "num_miss_cols = ['experience', 'last_new_job']\n",
        "for col in num_miss_cols:\n",
        "    print(df[col].unique())"
      ]
    },
    {
      "cell_type": "code",
      "execution_count": null,
      "metadata": {
        "id": "WqGLqQuyneAg"
      },
      "outputs": [],
      "source": [
        "for col in num_miss_cols:\n",
        "    df[col] = pd.to_numeric(df[col].replace('nan', np.NaN))"
      ]
    },
    {
      "cell_type": "code",
      "execution_count": null,
      "metadata": {
        "id": "TCQLKPS5neAg",
        "outputId": "523e240f-449b-4af5-ac26-e50e5bee5414"
      },
      "outputs": [
        {
          "name": "stdout",
          "output_type": "stream",
          "text": [
            "<class 'pandas.core.frame.DataFrame'>\n",
            "RangeIndex: 18359 entries, 0 to 18358\n",
            "Data columns (total 14 columns):\n",
            " #   Column                  Non-Null Count  Dtype  \n",
            "---  ------                  --------------  -----  \n",
            " 0   enrollee_id             18359 non-null  int64  \n",
            " 1   city                    18359 non-null  object \n",
            " 2   city_development_index  18359 non-null  float64\n",
            " 3   gender                  18359 non-null  object \n",
            " 4   relevent_experience     18359 non-null  object \n",
            " 5   enrolled_university     18359 non-null  object \n",
            " 6   education_level         18359 non-null  object \n",
            " 7   major_discipline        18359 non-null  object \n",
            " 8   experience              18300 non-null  float64\n",
            " 9   company_size            18359 non-null  object \n",
            " 10  company_type            18359 non-null  object \n",
            " 11  last_new_job            17992 non-null  float64\n",
            " 12  training_hours          18359 non-null  int64  \n",
            " 13  target                  18359 non-null  int64  \n",
            "dtypes: float64(3), int64(3), object(8)\n",
            "memory usage: 2.0+ MB\n"
          ]
        }
      ],
      "source": [
        "df.info()"
      ]
    },
    {
      "cell_type": "code",
      "execution_count": null,
      "metadata": {
        "id": "cvs0zLpBneAg",
        "outputId": "2e19f4f8-54b0-4732-db90-3410481d2f78"
      },
      "outputs": [
        {
          "name": "stdout",
          "output_type": "stream",
          "text": [
            "Columns with NaNs: ['experience', 'last_new_job']\n",
            "Number of columns with nans: 2\n"
          ]
        }
      ],
      "source": [
        "columns_with_nans = df.columns[df.isna().any()].tolist()\n",
        "\n",
        "# Print the names of columns with NaNs\n",
        "print(\"Columns with NaNs:\", columns_with_nans)\n",
        "print(\"Number of columns with nans:\", len(columns_with_nans))"
      ]
    },
    {
      "cell_type": "markdown",
      "metadata": {
        "id": "nyXQ7US1neAg"
      },
      "source": [
        "We will fill these num columns with missing values after splitting the data with median"
      ]
    },
    {
      "cell_type": "markdown",
      "metadata": {
        "id": "hhcBu4iBneAg"
      },
      "source": [
        "## Transform data in the categorical columns by converting then into numerical form, for use with ML algorithms"
      ]
    },
    {
      "cell_type": "code",
      "execution_count": null,
      "metadata": {
        "id": "nzpOrkzXneAg",
        "outputId": "cea6365f-0a87-4e6c-8d36-80ac13f31c98"
      },
      "outputs": [
        {
          "data": {
            "text/plain": [
              "Index(['city', 'gender', 'relevent_experience', 'enrolled_university',\n",
              "       'education_level', 'major_discipline', 'company_size', 'company_type'],\n",
              "      dtype='object')"
            ]
          },
          "execution_count": 16,
          "metadata": {},
          "output_type": "execute_result"
        }
      ],
      "source": [
        "cat_cols = df.select_dtypes(include='O').columns\n",
        "cat_cols"
      ]
    },
    {
      "cell_type": "code",
      "execution_count": null,
      "metadata": {
        "id": "KOlmrBh4neAh",
        "outputId": "18077124-fc2d-4753-c7b2-0455dac053bc"
      },
      "outputs": [
        {
          "name": "stdout",
          "output_type": "stream",
          "text": [
            "city\n",
            "123\n",
            "gender\n",
            "4\n",
            "relevent_experience\n",
            "2\n",
            "enrolled_university\n",
            "4\n",
            "education_level\n",
            "6\n",
            "major_discipline\n",
            "7\n",
            "company_size\n",
            "9\n",
            "company_type\n",
            "7\n"
          ]
        }
      ],
      "source": [
        "for col in cat_cols:\n",
        "    print(col)\n",
        "    print(df[col].nunique())"
      ]
    },
    {
      "cell_type": "markdown",
      "metadata": {
        "id": "JTtkAG-oneAh"
      },
      "source": [
        "City has too many categories. We will be dropping it. You may try to see the performnace by using this columns as well. Also Enrollee_id is an ID column, so it is being dropped"
      ]
    },
    {
      "cell_type": "code",
      "execution_count": null,
      "metadata": {
        "id": "WemFwPORneAh"
      },
      "outputs": [],
      "source": [
        "df.drop(['enrollee_id', 'city'], axis=1, inplace=True)\n",
        "cat_cols = df.select_dtypes(include='O').columns\n"
      ]
    },
    {
      "cell_type": "code",
      "execution_count": null,
      "metadata": {
        "id": "vijQ4o6EneAh",
        "outputId": "c92e4529-a284-4a07-ff18-e2b96aec0086"
      },
      "outputs": [
        {
          "name": "stdout",
          "output_type": "stream",
          "text": [
            "gender\n",
            "['Male' 'NA' 'Female' 'Other']\n",
            "relevent_experience\n",
            "['Has relevent experience' 'No relevent experience']\n",
            "enrolled_university\n",
            "['no_enrollment' 'Full time course' 'Part time course' 'NA']\n",
            "education_level\n",
            "['Graduate' 'Masters' 'High School' 'Phd' 'NA' 'Primary School']\n",
            "major_discipline\n",
            "['STEM' 'Other' 'No Major' 'NA' 'Business Degree' 'Arts' 'Humanities']\n",
            "company_size\n",
            "['100-500' '<10' '50-99' 'NA' '5000-9999' '10000+' '1000-4999' '500-999'\n",
            " '10/49']\n",
            "company_type\n",
            "['Pvt Ltd' 'Funded Startup' 'Public Sector' 'NA' 'Early Stage Startup'\n",
            " 'NGO' 'Other']\n"
          ]
        }
      ],
      "source": [
        "for col in cat_cols:\n",
        "    print(col)\n",
        "    print(df[col].unique())"
      ]
    },
    {
      "cell_type": "markdown",
      "metadata": {
        "id": "q2TxW_cXneAh"
      },
      "source": [
        "Columns like  education level and company sise have a clear order, and will be transformed using an ordinal encoder, with NA in between. Others will be transformed using One hot encoder"
      ]
    },
    {
      "cell_type": "code",
      "execution_count": null,
      "metadata": {
        "id": "HE9xUOupneAh"
      },
      "outputs": [],
      "source": [
        "from sklearn.preprocessing import  OrdinalEncoder"
      ]
    },
    {
      "cell_type": "code",
      "execution_count": null,
      "metadata": {
        "id": "Y6r7cnT_neAh",
        "outputId": "1b4ce87f-8c22-4b39-c063-768fa6114946"
      },
      "outputs": [
        {
          "data": {
            "text/plain": [
              "[array(['Primary School', 'High School', 'NA', 'Graduate', 'Masters',\n",
              "        'Phd'], dtype=object)]"
            ]
          },
          "execution_count": 21,
          "metadata": {},
          "output_type": "execute_result"
        }
      ],
      "source": [
        "oc = OrdinalEncoder(\n",
        "    categories= [['Primary School', 'High School', 'NA','Graduate', 'Masters', 'Phd' ]])\n",
        "df[['education_level']] = oc.fit_transform(df[['education_level']])\n",
        "oc.categories_"
      ]
    },
    {
      "cell_type": "code",
      "execution_count": null,
      "metadata": {
        "id": "yjPFE3pyneAh",
        "outputId": "9c199231-0810-4d73-96b4-d0b1862bbc08"
      },
      "outputs": [
        {
          "data": {
            "text/plain": [
              "[array(['<10', '10/49', '50-99', '100-500', '500-999', 'NA', '1000-4999',\n",
              "        '5000-9999', '10000+'], dtype=object)]"
            ]
          },
          "execution_count": 22,
          "metadata": {},
          "output_type": "execute_result"
        }
      ],
      "source": [
        "oc2 = OrdinalEncoder(\n",
        "    categories= [[ '<10', '10/49', '50-99', '100-500', '500-999', 'NA', '1000-4999', '5000-9999', '10000+']])\n",
        "df[['company_size']] = oc2.fit_transform(df[['company_size']])\n",
        "oc2.categories_"
      ]
    },
    {
      "cell_type": "code",
      "execution_count": null,
      "metadata": {
        "id": "nzgOyplIneAh",
        "outputId": "c8196c83-8058-4d43-ee26-ca8e4f245b31"
      },
      "outputs": [
        {
          "data": {
            "text/html": [
              "<div>\n",
              "<style scoped>\n",
              "    .dataframe tbody tr th:only-of-type {\n",
              "        vertical-align: middle;\n",
              "    }\n",
              "\n",
              "    .dataframe tbody tr th {\n",
              "        vertical-align: top;\n",
              "    }\n",
              "\n",
              "    .dataframe thead th {\n",
              "        text-align: right;\n",
              "    }\n",
              "</style>\n",
              "<table border=\"1\" class=\"dataframe\">\n",
              "  <thead>\n",
              "    <tr style=\"text-align: right;\">\n",
              "      <th></th>\n",
              "      <th>city_development_index</th>\n",
              "      <th>education_level</th>\n",
              "      <th>experience</th>\n",
              "      <th>company_size</th>\n",
              "      <th>last_new_job</th>\n",
              "      <th>training_hours</th>\n",
              "      <th>target</th>\n",
              "      <th>gender_Male</th>\n",
              "      <th>gender_NA</th>\n",
              "      <th>gender_Other</th>\n",
              "      <th>...</th>\n",
              "      <th>major_discipline_NA</th>\n",
              "      <th>major_discipline_No Major</th>\n",
              "      <th>major_discipline_Other</th>\n",
              "      <th>major_discipline_STEM</th>\n",
              "      <th>company_type_Funded Startup</th>\n",
              "      <th>company_type_NA</th>\n",
              "      <th>company_type_NGO</th>\n",
              "      <th>company_type_Other</th>\n",
              "      <th>company_type_Public Sector</th>\n",
              "      <th>company_type_Pvt Ltd</th>\n",
              "    </tr>\n",
              "  </thead>\n",
              "  <tbody>\n",
              "    <tr>\n",
              "      <th>0</th>\n",
              "      <td>0.689</td>\n",
              "      <td>3.0</td>\n",
              "      <td>3.0</td>\n",
              "      <td>3.0</td>\n",
              "      <td>1.0</td>\n",
              "      <td>106</td>\n",
              "      <td>0</td>\n",
              "      <td>True</td>\n",
              "      <td>False</td>\n",
              "      <td>False</td>\n",
              "      <td>...</td>\n",
              "      <td>False</td>\n",
              "      <td>False</td>\n",
              "      <td>False</td>\n",
              "      <td>True</td>\n",
              "      <td>False</td>\n",
              "      <td>False</td>\n",
              "      <td>False</td>\n",
              "      <td>False</td>\n",
              "      <td>False</td>\n",
              "      <td>True</td>\n",
              "    </tr>\n",
              "    <tr>\n",
              "      <th>1</th>\n",
              "      <td>0.923</td>\n",
              "      <td>3.0</td>\n",
              "      <td>14.0</td>\n",
              "      <td>0.0</td>\n",
              "      <td>1.0</td>\n",
              "      <td>69</td>\n",
              "      <td>0</td>\n",
              "      <td>True</td>\n",
              "      <td>False</td>\n",
              "      <td>False</td>\n",
              "      <td>...</td>\n",
              "      <td>False</td>\n",
              "      <td>False</td>\n",
              "      <td>False</td>\n",
              "      <td>True</td>\n",
              "      <td>True</td>\n",
              "      <td>False</td>\n",
              "      <td>False</td>\n",
              "      <td>False</td>\n",
              "      <td>False</td>\n",
              "      <td>False</td>\n",
              "    </tr>\n",
              "    <tr>\n",
              "      <th>2</th>\n",
              "      <td>0.910</td>\n",
              "      <td>3.0</td>\n",
              "      <td>6.0</td>\n",
              "      <td>2.0</td>\n",
              "      <td>2.0</td>\n",
              "      <td>4</td>\n",
              "      <td>0</td>\n",
              "      <td>False</td>\n",
              "      <td>True</td>\n",
              "      <td>False</td>\n",
              "      <td>...</td>\n",
              "      <td>False</td>\n",
              "      <td>False</td>\n",
              "      <td>False</td>\n",
              "      <td>True</td>\n",
              "      <td>False</td>\n",
              "      <td>False</td>\n",
              "      <td>False</td>\n",
              "      <td>False</td>\n",
              "      <td>True</td>\n",
              "      <td>False</td>\n",
              "    </tr>\n",
              "    <tr>\n",
              "      <th>3</th>\n",
              "      <td>0.666</td>\n",
              "      <td>3.0</td>\n",
              "      <td>14.0</td>\n",
              "      <td>2.0</td>\n",
              "      <td>1.0</td>\n",
              "      <td>26</td>\n",
              "      <td>0</td>\n",
              "      <td>True</td>\n",
              "      <td>False</td>\n",
              "      <td>False</td>\n",
              "      <td>...</td>\n",
              "      <td>False</td>\n",
              "      <td>False</td>\n",
              "      <td>False</td>\n",
              "      <td>True</td>\n",
              "      <td>False</td>\n",
              "      <td>False</td>\n",
              "      <td>False</td>\n",
              "      <td>False</td>\n",
              "      <td>False</td>\n",
              "      <td>True</td>\n",
              "    </tr>\n",
              "    <tr>\n",
              "      <th>4</th>\n",
              "      <td>0.887</td>\n",
              "      <td>4.0</td>\n",
              "      <td>8.0</td>\n",
              "      <td>5.0</td>\n",
              "      <td>2.0</td>\n",
              "      <td>88</td>\n",
              "      <td>1</td>\n",
              "      <td>False</td>\n",
              "      <td>True</td>\n",
              "      <td>False</td>\n",
              "      <td>...</td>\n",
              "      <td>False</td>\n",
              "      <td>False</td>\n",
              "      <td>False</td>\n",
              "      <td>True</td>\n",
              "      <td>False</td>\n",
              "      <td>True</td>\n",
              "      <td>False</td>\n",
              "      <td>False</td>\n",
              "      <td>False</td>\n",
              "      <td>False</td>\n",
              "    </tr>\n",
              "  </tbody>\n",
              "</table>\n",
              "<p>5 rows × 26 columns</p>\n",
              "</div>"
            ],
            "text/plain": [
              "   city_development_index  education_level  experience  company_size  \\\n",
              "0                   0.689              3.0         3.0           3.0   \n",
              "1                   0.923              3.0        14.0           0.0   \n",
              "2                   0.910              3.0         6.0           2.0   \n",
              "3                   0.666              3.0        14.0           2.0   \n",
              "4                   0.887              4.0         8.0           5.0   \n",
              "\n",
              "   last_new_job  training_hours  target  gender_Male  gender_NA  gender_Other  \\\n",
              "0           1.0             106       0         True      False         False   \n",
              "1           1.0              69       0         True      False         False   \n",
              "2           2.0               4       0        False       True         False   \n",
              "3           1.0              26       0         True      False         False   \n",
              "4           2.0              88       1        False       True         False   \n",
              "\n",
              "   ...  major_discipline_NA  major_discipline_No Major  \\\n",
              "0  ...                False                      False   \n",
              "1  ...                False                      False   \n",
              "2  ...                False                      False   \n",
              "3  ...                False                      False   \n",
              "4  ...                False                      False   \n",
              "\n",
              "   major_discipline_Other  major_discipline_STEM  company_type_Funded Startup  \\\n",
              "0                   False                   True                        False   \n",
              "1                   False                   True                         True   \n",
              "2                   False                   True                        False   \n",
              "3                   False                   True                        False   \n",
              "4                   False                   True                        False   \n",
              "\n",
              "   company_type_NA  company_type_NGO  company_type_Other  \\\n",
              "0            False             False               False   \n",
              "1            False             False               False   \n",
              "2            False             False               False   \n",
              "3            False             False               False   \n",
              "4             True             False               False   \n",
              "\n",
              "   company_type_Public Sector  company_type_Pvt Ltd  \n",
              "0                       False                  True  \n",
              "1                       False                 False  \n",
              "2                        True                 False  \n",
              "3                       False                  True  \n",
              "4                       False                 False  \n",
              "\n",
              "[5 rows x 26 columns]"
            ]
          },
          "execution_count": 23,
          "metadata": {},
          "output_type": "execute_result"
        }
      ],
      "source": [
        "df = pd.get_dummies(df, drop_first=True)\n",
        "df.head()"
      ]
    },
    {
      "cell_type": "markdown",
      "metadata": {
        "id": "WyD8wPl2neAh"
      },
      "source": [
        "# Create the train and test dataset, by splitting the input dataframe in the ratio 80:20"
      ]
    },
    {
      "cell_type": "code",
      "execution_count": null,
      "metadata": {
        "id": "wh7GEHWJneAh"
      },
      "outputs": [],
      "source": [
        "from sklearn.model_selection import train_test_split"
      ]
    },
    {
      "cell_type": "code",
      "execution_count": null,
      "metadata": {
        "id": "346kKqQuneAh"
      },
      "outputs": [],
      "source": [
        "# Split data\n",
        "X = df.drop('target', axis=1)\n",
        "y = df['target']\n",
        "# test_size of 0.2 means train_size is 80% and test_size is 20$\n",
        "X_train, X_test, y_train, y_test = train_test_split(X, y, test_size=0.2, random_state=42)\n"
      ]
    },
    {
      "cell_type": "markdown",
      "metadata": {
        "id": "eZl3gnPsneAh"
      },
      "source": [
        "Filling missing values in numercial columns with median"
      ]
    },
    {
      "cell_type": "code",
      "execution_count": null,
      "metadata": {
        "id": "SqqRXzUfneAh",
        "outputId": "6feb07f1-b4d1-407d-a193-836532b57fd1"
      },
      "outputs": [
        {
          "name": "stdout",
          "output_type": "stream",
          "text": [
            "9.0\n",
            "1.0\n"
          ]
        }
      ],
      "source": [
        "exp_median = X_train['experience'].median()\n",
        "print(exp_median)\n",
        "\n",
        "X_train.fillna({'experience': exp_median}, inplace=True)\n",
        "X_test.fillna({'experience': exp_median}, inplace=True)\n",
        "\n",
        "lnj_median = X_train['last_new_job'].median()\n",
        "print(lnj_median)\n",
        "\n",
        "X_train.fillna({'last_new_job': exp_median}, inplace=True)\n",
        "X_test.fillna({'last_new_job': exp_median}, inplace=True)\n"
      ]
    },
    {
      "cell_type": "markdown",
      "metadata": {
        "id": "6J8GPYc0neAh"
      },
      "source": [
        "Normalising data and converting data to numpy"
      ]
    },
    {
      "cell_type": "code",
      "execution_count": null,
      "metadata": {
        "id": "bZc85mRvneAh"
      },
      "outputs": [],
      "source": [
        "from sklearn.preprocessing import MinMaxScaler"
      ]
    },
    {
      "cell_type": "code",
      "execution_count": null,
      "metadata": {
        "id": "UjU3owJDneAh"
      },
      "outputs": [],
      "source": [
        "# Normalize data by scaling the train and test datasets\n",
        "scaler = MinMaxScaler()\n",
        "X_train = scaler.fit_transform(X_train)\n",
        "X_test = scaler.transform(X_test)\n",
        "y_train = y_train.values\n",
        "y_test = y_test.values\n"
      ]
    },
    {
      "cell_type": "markdown",
      "metadata": {
        "id": "4HErQA0eneAh"
      },
      "source": [
        "Choosing auc score as the metric for evaluation since the data is imbalanced"
      ]
    },
    {
      "cell_type": "code",
      "execution_count": null,
      "metadata": {
        "id": "8r6daCFdneAk",
        "outputId": "c2fd243a-e471-4cc5-b6f4-8f02eee01c58"
      },
      "outputs": [
        {
          "data": {
            "text/plain": [
              "target\n",
              "0    15934\n",
              "1     2425\n",
              "Name: count, dtype: int64"
            ]
          },
          "execution_count": 30,
          "metadata": {},
          "output_type": "execute_result"
        }
      ],
      "source": [
        "df.target.value_counts()"
      ]
    },
    {
      "cell_type": "markdown",
      "metadata": {
        "id": "Fxq1gcA-neAk"
      },
      "source": [
        "# Define the classes for our dataset and for the Neural Network"
      ]
    },
    {
      "cell_type": "code",
      "execution_count": null,
      "metadata": {
        "id": "KUwiOhBqneAk"
      },
      "outputs": [],
      "source": [
        "import torch\n",
        "import torch.nn as nn\n",
        "import torch.nn.functional as F\n",
        "from torch.utils.data import TensorDataset, DataLoader, Dataset\n",
        "import torch.optim as optim\n",
        "from sklearn.metrics import roc_auc_score\n",
        "import matplotlib.pyplot as plt"
      ]
    },
    {
      "cell_type": "code",
      "execution_count": null,
      "metadata": {
        "id": "xa42E3V3neAk"
      },
      "outputs": [],
      "source": [
        "# Encapsulate out dataset as a class, which inherits from the torch Dataset class\n",
        "class JobChangeDataset(Dataset):\n",
        "    def __init__(self, features, labels):\n",
        "        self.features = features\n",
        "        self.labels = labels\n",
        "\n",
        "    def __len__(self):\n",
        "        return len(self.features)\n",
        "\n",
        "    def __getitem__(self, idx):\n",
        "        return self.features[idx], self.labels[idx]"
      ]
    },
    {
      "cell_type": "code",
      "execution_count": null,
      "metadata": {
        "id": "pb01qG8QneAl"
      },
      "outputs": [],
      "source": [
        "# Define the neural network Model\n",
        "class BinaryClassifier(nn.Module):\n",
        "    def __init__(self):\n",
        "        super(BinaryClassifier, self).__init__()\n",
        "        self.layer1 = nn.Linear(X_train.shape[1], 256)\n",
        "        self.layer2 = nn.Linear(256, 128)\n",
        "        self.layer3 = nn.Linear(128, 64)\n",
        "        self.layer4 = nn.Linear(64, 1)\n",
        "\n",
        "    def forward(self, x):\n",
        "        x = F.relu(self.layer1(x))\n",
        "        x = F.relu(self.layer2(x))\n",
        "        x = F.relu(self.layer3(x))\n",
        "        x = F.sigmoid(self.layer4(x))\n",
        "        return x\n"
      ]
    },
    {
      "cell_type": "code",
      "execution_count": null,
      "metadata": {
        "id": "DwwYhqAwneAl"
      },
      "outputs": [],
      "source": [
        "# Convert numpy to PyTorch tensors\n",
        "X_train_tensor = torch.tensor(X_train, dtype=torch.float32)\n",
        "y_train_tensor = torch.tensor(y_train, dtype=torch.float32)\n",
        "X_test_tensor = torch.tensor(X_test, dtype=torch.float32)\n",
        "y_test_tensor = torch.tensor(y_test, dtype=torch.float32)"
      ]
    },
    {
      "cell_type": "markdown",
      "metadata": {
        "id": "5U4OUMD0neAl"
      },
      "source": [
        "# Define the function to train our NN model and evaluate it"
      ]
    },
    {
      "cell_type": "code",
      "execution_count": null,
      "metadata": {
        "id": "dpteaXCpneAl"
      },
      "outputs": [],
      "source": [
        "# Training and Evaluation Loop\n",
        "def train_and_evaluate_model(model, optimizer, batch_size = 128, epochs=25, print_every=5):\n",
        "    model.train()  # set model to train mode\n",
        "\n",
        "    train_loss_list=[]\n",
        "    test_loss_list = []\n",
        "\n",
        "    # Convert the tensor based data to torch Dataset objects\n",
        "    train_dataset = JobChangeDataset(X_train_tensor, y_train_tensor)\n",
        "    # Define torch data loader objects for these datasets\n",
        "    train_loader = DataLoader(dataset=train_dataset, batch_size=batch_size, shuffle=True)\n",
        "\n",
        "    test_dataset = JobChangeDataset(X_test_tensor, y_test_tensor)\n",
        "    test_loader = DataLoader(dataset=test_dataset, batch_size=batch_size, shuffle=False)\n",
        "\n",
        "    criterion = nn.BCELoss()\n",
        "\n",
        "    # Train for the defined number of epochs\n",
        "    for epoch in range(epochs):\n",
        "        train_loss = 0.0\n",
        "        model.train() # set the model to train mode for each epoch, since we are setting it to eval mode later\n",
        "        for i, (features, labels) in enumerate(train_loader):\n",
        "            optimizer.zero_grad() # Clear the gradients of all optimized variables\n",
        "            outputs = model(features) # pass our data(input features) through the model\n",
        "            loss = criterion(outputs.squeeze(), labels) # calculate the loss between model outputs and expected labels\n",
        "            loss.backward() # Backward pass: compute the gradient of the loss with respect to model parameters\n",
        "            optimizer.step() # Perform a single optimization step (parameter update)\n",
        "            train_loss += loss.item() # Accumulate the training loss to later calculate the average\n",
        "\n",
        "        # Calculate the average training loss for current epoch\n",
        "        train_loss = train_loss / len(train_loader)\n",
        "        train_loss_list.append(train_loss)\n",
        "\n",
        "        # Evaluate on test set\n",
        "        model.eval() # Switch model to evaluation mode\n",
        "        test_loss = 0.0\n",
        "        # Disable gradient calculation for evaluation to save memory and computations\n",
        "        with torch.no_grad():\n",
        "            # Iterate over the test dataset\n",
        "            for features, labels in test_loader:\n",
        "                outputs = model(features) # Forward pass: compute the output of the model by passing the input features\n",
        "                loss = criterion(outputs.squeeze(), labels) # Calculate the loss between the model output and expected labels\n",
        "                test_loss += loss.item() # Accumulate the test loss to later calculate the average\n",
        "            train_auc = roc_auc_score(y_train_tensor, model(X_train_tensor))\n",
        "            test_auc = roc_auc_score(y_test_tensor, model(X_test_tensor))\n",
        "\n",
        "        # Calculate test loss for epoch\n",
        "        test_loss = test_loss / len(test_loader)\n",
        "        test_loss_list.append(test_loss)\n",
        "\n",
        "        # Print losses\n",
        "        if (epoch + 1) % print_every == 0:\n",
        "            print(f'Epoch {epoch+1}/{epochs},Train Loss: {train_loss:.4f}, Test Loss: {test_loss:.4f}, Train Auc: {train_auc:.4f}, Test Auc: {test_auc:.4f}')\n",
        "\n",
        "    plt.plot(range(epochs),train_loss_list, label = 'train')\n",
        "    plt.plot(range(epochs),test_loss_list, label = 'test')\n",
        "    plt.legend()\n",
        "    plt.show()\n",
        "\n",
        ""
      ]
    },
    {
      "cell_type": "markdown",
      "metadata": {
        "id": "GGqxM1HJneAl"
      },
      "source": [
        "## Train the model with the SGD optimizer"
      ]
    },
    {
      "cell_type": "code",
      "execution_count": null,
      "metadata": {
        "id": "oSAW9cYbneAl",
        "outputId": "cafc46a4-2ba4-46d7-aa9d-5c055b8f14ef"
      },
      "outputs": [
        {
          "name": "stdout",
          "output_type": "stream",
          "text": [
            "Epoch 10/100,Train Loss: 0.3729, Test Loss: 0.3832, Train Auc: 0.6510, Test Auc: 0.6422\n",
            "Epoch 20/100,Train Loss: 0.3710, Test Loss: 0.3833, Train Auc: 0.6591, Test Auc: 0.6452\n",
            "Epoch 30/100,Train Loss: 0.3697, Test Loss: 0.3824, Train Auc: 0.6648, Test Auc: 0.6455\n",
            "Epoch 40/100,Train Loss: 0.3683, Test Loss: 0.3821, Train Auc: 0.6704, Test Auc: 0.6470\n",
            "Epoch 50/100,Train Loss: 0.3668, Test Loss: 0.3826, Train Auc: 0.6766, Test Auc: 0.6469\n",
            "Epoch 60/100,Train Loss: 0.3650, Test Loss: 0.3828, Train Auc: 0.6836, Test Auc: 0.6469\n",
            "Epoch 70/100,Train Loss: 0.3636, Test Loss: 0.3847, Train Auc: 0.6910, Test Auc: 0.6441\n",
            "Epoch 80/100,Train Loss: 0.3619, Test Loss: 0.3881, Train Auc: 0.6969, Test Auc: 0.6443\n",
            "Epoch 90/100,Train Loss: 0.3589, Test Loss: 0.3876, Train Auc: 0.7046, Test Auc: 0.6401\n",
            "Epoch 100/100,Train Loss: 0.3572, Test Loss: 0.3871, Train Auc: 0.7168, Test Auc: 0.6331\n"
          ]
        },
        {
          "data": {
            "image/png": "[encoded data removed]",
            "text/plain": [
              "<Figure size 640x480 with 1 Axes>"
            ]
          },
          "metadata": {},
          "output_type": "display_data"
        }
      ],
      "source": [
        "# We have to create a new model class here due the pass-by-reference feature of python functions\n",
        "model = BinaryClassifier()\n",
        "# Initialize SGD optimizer\n",
        "opt = optim.SGD(model.parameters(), lr=0.01, momentum=0.9, nesterov=True)\n",
        "# Train using optimizer_sgd\n",
        "train_and_evaluate_model(model, opt, epochs=100, print_every=10)"
      ]
    },
    {
      "cell_type": "markdown",
      "metadata": {
        "id": "O5PUTYAfneAl"
      },
      "source": [
        "## Train the model with the Adam optimizer"
      ]
    },
    {
      "cell_type": "code",
      "execution_count": null,
      "metadata": {
        "id": "IPr1ObA0neAl",
        "outputId": "5c29fbb9-0010-484c-f541-9b389949d85d"
      },
      "outputs": [
        {
          "name": "stdout",
          "output_type": "stream",
          "text": [
            "Epoch 10/100,Train Loss: 0.3660, Test Loss: 0.3822, Train Auc: 0.6908, Test Auc: 0.6492\n",
            "Epoch 20/100,Train Loss: 0.3530, Test Loss: 0.3905, Train Auc: 0.7281, Test Auc: 0.6318\n",
            "Epoch 30/100,Train Loss: 0.3404, Test Loss: 0.4160, Train Auc: 0.7525, Test Auc: 0.6203\n",
            "Epoch 40/100,Train Loss: 0.3236, Test Loss: 0.4438, Train Auc: 0.7820, Test Auc: 0.5912\n",
            "Epoch 50/100,Train Loss: 0.3043, Test Loss: 0.5167, Train Auc: 0.8136, Test Auc: 0.5725\n",
            "Epoch 60/100,Train Loss: 0.2817, Test Loss: 0.5769, Train Auc: 0.8464, Test Auc: 0.5722\n",
            "Epoch 70/100,Train Loss: 0.2626, Test Loss: 0.7029, Train Auc: 0.8714, Test Auc: 0.5496\n",
            "Epoch 80/100,Train Loss: 0.2483, Test Loss: 0.7985, Train Auc: 0.8872, Test Auc: 0.5474\n",
            "Epoch 90/100,Train Loss: 0.2335, Test Loss: 0.8836, Train Auc: 0.8876, Test Auc: 0.5456\n",
            "Epoch 100/100,Train Loss: 0.2210, Test Loss: 1.0320, Train Auc: 0.9200, Test Auc: 0.5370\n"
          ]
        },
        {
          "data": {
            "image/png": "[encoded data removed]",
            "text/plain": [
              "<Figure size 640x480 with 1 Axes>"
            ]
          },
          "metadata": {},
          "output_type": "display_data"
        }
      ],
      "source": [
        "model = BinaryClassifier()\n",
        "# Initialize SGD optimizer\n",
        "opt = optim.Adam(model.parameters())\n",
        "# Train using optimizer_sgd\n",
        "train_and_evaluate_model(model, opt, epochs=100, print_every=10)"
      ]
    },
    {
      "cell_type": "markdown",
      "metadata": {
        "id": "slCfaR--neAl"
      },
      "source": [
        "As you can see, the model is clearly overfitting as the number of epochs are increasing. Deep Neural networks often get into these kind of problems. In the next module we will learn how to solve these problems.\n"
      ]
    },
    {
      "cell_type": "markdown",
      "metadata": {
        "id": "798TLlJvneAl"
      },
      "source": [
        "# Module 3 Video 4 - Vanishing and Exploding Gradients"
      ]
    },
    {
      "cell_type": "markdown",
      "metadata": {
        "id": "5w4Z5wb7neAl"
      },
      "source": [
        "To quickly recap our progress, we built a deep learning model for zeta analytics to predict the probability of an enrollee looking for a new job. Our last model used the Adam optimizer and we saw that it was heavily overfitting.  Further, this model currently does not face the problem of vanishing gradients, as the training loss is still decreasing. But still, let's try to see if our Leaky Relu activation function helps improve the overall performance. The below code has been modified to incorporate leaky relu in it. Note that taking into consideration, the execution time for the code, i've already run it earlier and the output looks like this."
      ]
    },
    {
      "cell_type": "code",
      "execution_count": null,
      "metadata": {
        "id": "5v50hwRlneAl"
      },
      "outputs": [],
      "source": [
        "class BinaryClassifierLeakyReLU(nn.Module):\n",
        "    def __init__(self):\n",
        "        super(BinaryClassifierLeakyReLU, self).__init__()\n",
        "        self.layer1 = nn.Linear(X_train.shape[1], 256)\n",
        "        self.layer2 = nn.Linear(256, 128)\n",
        "        self.layer3 = nn.Linear(128, 64)\n",
        "        self.layer4 = nn.Linear(64, 1)\n",
        "\n",
        "    def forward(self, x):\n",
        "        x = F.leaky_relu(self.layer1(x), negative_slope=0.01)  # Using Leaky ReLU\n",
        "        x = F.leaky_relu(self.layer2(x), negative_slope=0.01)  # Using Leaky ReLU\n",
        "        x = F.leaky_relu(self.layer3(x), negative_slope=0.01)  # Using Leaky ReLU\n",
        "        x = torch.sigmoid(self.layer4(x))  # Using sigmoid for binary classification\n",
        "        return x\n"
      ]
    },
    {
      "cell_type": "code",
      "execution_count": null,
      "metadata": {
        "id": "NQl1pqmmneAl",
        "outputId": "26aa5f43-c00c-4cbe-839c-006bc7271410"
      },
      "outputs": [
        {
          "name": "stdout",
          "output_type": "stream",
          "text": [
            "Epoch 10/100,Train Loss: 0.3644, Test Loss: 0.3857, Train Auc: 0.6900, Test Auc: 0.6374\n",
            "Epoch 20/100,Train Loss: 0.3516, Test Loss: 0.3952, Train Auc: 0.7275, Test Auc: 0.6293\n",
            "Epoch 30/100,Train Loss: 0.3362, Test Loss: 0.4233, Train Auc: 0.7654, Test Auc: 0.6100\n",
            "Epoch 40/100,Train Loss: 0.3155, Test Loss: 0.4867, Train Auc: 0.7987, Test Auc: 0.5892\n",
            "Epoch 50/100,Train Loss: 0.2957, Test Loss: 0.5632, Train Auc: 0.8381, Test Auc: 0.5711\n",
            "Epoch 60/100,Train Loss: 0.2734, Test Loss: 0.6597, Train Auc: 0.8564, Test Auc: 0.5632\n",
            "Epoch 70/100,Train Loss: 0.2652, Test Loss: 0.7697, Train Auc: 0.8774, Test Auc: 0.5582\n",
            "Epoch 80/100,Train Loss: 0.2392, Test Loss: 0.9148, Train Auc: 0.8977, Test Auc: 0.5497\n",
            "Epoch 90/100,Train Loss: 0.2241, Test Loss: 1.0877, Train Auc: 0.9125, Test Auc: 0.5415\n",
            "Epoch 100/100,Train Loss: 0.2095, Test Loss: 1.2964, Train Auc: 0.9267, Test Auc: 0.5374\n"
          ]
        },
        {
          "data": {
            "image/png": "[encoded data removed]",
            "text/plain": [
              "<Figure size 640x480 with 1 Axes>"
            ]
          },
          "metadata": {},
          "output_type": "display_data"
        }
      ],
      "source": [
        "model = BinaryClassifierLeakyReLU()\n",
        "# Initialize Adam optimizer\n",
        "optimizer = optim.Adam(model.parameters())\n",
        "# Train using optimizer\n",
        "train_and_evaluate_model(model, optimizer, epochs=100, print_every=10)"
      ]
    },
    {
      "cell_type": "markdown",
      "metadata": {
        "id": "D7GNynarneAl"
      },
      "source": [
        "Looking at the plot, conclusively there isn't a significant improvement. Let's try our next technique that is Batch normalization to see if the performance improves."
      ]
    },
    {
      "cell_type": "code",
      "execution_count": null,
      "metadata": {
        "id": "-Kn1DQ67neAl"
      },
      "outputs": [],
      "source": [
        "class BinaryClassifierBN(nn.Module):\n",
        "    def __init__(self):\n",
        "        super(BinaryClassifierBN, self).__init__()\n",
        "        self.layer1 = nn.Linear(X_train.shape[1], 256)\n",
        "        self.bn1 = nn.BatchNorm1d(256)  # Batch normalization layer\n",
        "        self.layer2 = nn.Linear(256, 128)\n",
        "        self.bn2 = nn.BatchNorm1d(128)  # Batch normalization layer\n",
        "        self.layer3 = nn.Linear(128, 64)\n",
        "        self.bn3 = nn.BatchNorm1d(64)  # Batch normalization layer\n",
        "        self.layer4 = nn.Linear(64, 1)\n",
        "\n",
        "    def forward(self, x):\n",
        "        x = F.leaky_relu(self.bn1(self.layer1(x)), negative_slope=0.01)\n",
        "        x = F.leaky_relu(self.bn2(self.layer2(x)), negative_slope=0.01)\n",
        "        x = F.leaky_relu(self.bn3(self.layer3(x)), negative_slope=0.01)\n",
        "        x = torch.sigmoid(self.layer4(x))\n",
        "        return x"
      ]
    },
    {
      "cell_type": "code",
      "execution_count": null,
      "metadata": {
        "id": "1ym_aWPBneAl",
        "outputId": "06f648c0-8a85-4bb7-f7a7-4f9683b61d16"
      },
      "outputs": [
        {
          "name": "stdout",
          "output_type": "stream",
          "text": [
            "Epoch 10/100,Train Loss: 0.3550, Test Loss: 0.3934, Train Auc: 0.7368, Test Auc: 0.6260\n",
            "Epoch 20/100,Train Loss: 0.3331, Test Loss: 0.4073, Train Auc: 0.7929, Test Auc: 0.6116\n",
            "Epoch 30/100,Train Loss: 0.3022, Test Loss: 0.4604, Train Auc: 0.8353, Test Auc: 0.5776\n",
            "Epoch 40/100,Train Loss: 0.2753, Test Loss: 0.4955, Train Auc: 0.8861, Test Auc: 0.5726\n",
            "Epoch 50/100,Train Loss: 0.2502, Test Loss: 0.5476, Train Auc: 0.9104, Test Auc: 0.5687\n",
            "Epoch 60/100,Train Loss: 0.2309, Test Loss: 0.5980, Train Auc: 0.9349, Test Auc: 0.5558\n",
            "Epoch 70/100,Train Loss: 0.2135, Test Loss: 0.6716, Train Auc: 0.9450, Test Auc: 0.5661\n",
            "Epoch 80/100,Train Loss: 0.2019, Test Loss: 0.6941, Train Auc: 0.9509, Test Auc: 0.5670\n",
            "Epoch 90/100,Train Loss: 0.1915, Test Loss: 0.7478, Train Auc: 0.9655, Test Auc: 0.5372\n",
            "Epoch 100/100,Train Loss: 0.1798, Test Loss: 0.8013, Train Auc: 0.9691, Test Auc: 0.5475\n"
          ]
        },
        {
          "data": {
            "image/png": "[encoded data removed]",
            "text/plain": [
              "<Figure size 640x480 with 1 Axes>"
            ]
          },
          "metadata": {},
          "output_type": "display_data"
        }
      ],
      "source": [
        "model = BinaryClassifierBN()\n",
        "# Initialize Adam optimizer\n",
        "optimizer = optim.Adam(model.parameters())\n",
        "# Train using optimizer_sgd\n",
        "train_and_evaluate_model(model, optimizer, epochs=100, print_every=10)"
      ]
    },
    {
      "cell_type": "markdown",
      "metadata": {
        "id": "ch8sppQ6neAl"
      },
      "source": [
        "If you look at this plot one thing is noticeable. Previously, without batch normalization, the train loss value after 100 epochs reached clearly over 1. Here, even after 100 epochs, it is at a maximum of 0.8. We know that Batch normalization provides only limited regularisation. But \"Something is better than nothing\"."
      ]
    },
    {
      "cell_type": "markdown",
      "metadata": {
        "id": "_rSxSitzneAl"
      },
      "source": [
        "In summary, when training deep neural networks, we must be vigilant of vanishing and exploding gradients, which can impede learning and model convergence.As we've seen, these issues stem from the choice of activation functions and weight initialization methods.\n",
        "To combat these challenges, adopting non-saturating activation functions like ReLu and its variants can provide significant improvements. Leveraging simple yet powerful techniques such as batch normalization can also do wonders. Next let’s address the issue of overfitting directly!`"
      ]
    },
    {
      "cell_type": "markdown",
      "metadata": {
        "id": "fT35zXOmneAm"
      },
      "source": [
        "# Module 3 Video 6 - Solving Overfitting"
      ]
    },
    {
      "cell_type": "markdown",
      "metadata": {
        "id": "4RhnA4T-neAm"
      },
      "source": [
        "Let's wait no further and apply the regularization techniques discussed in the earlier video on the zeta analytics model. For deep learning algorithms, dropout is one of the most important techniques to perform regularisation. Let's see what the impact of dropout is on this model."
      ]
    },
    {
      "cell_type": "code",
      "execution_count": null,
      "metadata": {
        "id": "OzwkA1NrneAm"
      },
      "outputs": [],
      "source": [
        "class BinaryClassifierDropout(nn.Module):\n",
        "    def __init__(self):\n",
        "        super(BinaryClassifierDropout, self).__init__()\n",
        "        self.layer1 = nn.Linear(X_train.shape[1], 256)\n",
        "        self.bn1 = nn.BatchNorm1d(256)  # Batch normalization layer\n",
        "        self.dropout1 = nn.Dropout(0.5)\n",
        "        self.layer2 = nn.Linear(256, 128)\n",
        "        self.bn2 = nn.BatchNorm1d(128)  # Batch normalization layer\n",
        "        self.dropout2 = nn.Dropout(0.5)\n",
        "        self.layer3 = nn.Linear(128, 64)\n",
        "        self.bn3 = nn.BatchNorm1d(64)  # Batch normalization layer\n",
        "        self.dropout3 = nn.Dropout(0.5)\n",
        "        self.layer4 = nn.Linear(64, 1)\n",
        "\n",
        "    def forward(self, x):\n",
        "        x = F.leaky_relu(self.bn1(self.layer1(x)), negative_slope=0.01)\n",
        "        x = self.dropout1(x)\n",
        "        x = F.leaky_relu(self.bn2(self.layer2(x)), negative_slope=0.01)\n",
        "        x = self.dropout2(x)\n",
        "        x = F.leaky_relu(self.bn3(self.layer3(x)), negative_slope=0.01)\n",
        "        x = self.dropout3(x)\n",
        "        x = torch.sigmoid(self.layer4(x))\n",
        "        return x\n"
      ]
    },
    {
      "cell_type": "code",
      "execution_count": null,
      "metadata": {
        "id": "yyBkye7MneAm",
        "outputId": "b00ff7c2-96d6-4068-c71f-62e67c26c025"
      },
      "outputs": [
        {
          "name": "stdout",
          "output_type": "stream",
          "text": [
            "Epoch 10/100,Train Loss: 0.3796, Test Loss: 0.3852, Train Auc: 0.6706, Test Auc: 0.6470\n",
            "Epoch 20/100,Train Loss: 0.3738, Test Loss: 0.3841, Train Auc: 0.6845, Test Auc: 0.6447\n",
            "Epoch 30/100,Train Loss: 0.3696, Test Loss: 0.3834, Train Auc: 0.6914, Test Auc: 0.6467\n",
            "Epoch 40/100,Train Loss: 0.3684, Test Loss: 0.3829, Train Auc: 0.6982, Test Auc: 0.6490\n",
            "Epoch 50/100,Train Loss: 0.3654, Test Loss: 0.3843, Train Auc: 0.7030, Test Auc: 0.6475\n",
            "Epoch 60/100,Train Loss: 0.3647, Test Loss: 0.3852, Train Auc: 0.7128, Test Auc: 0.6446\n",
            "Epoch 70/100,Train Loss: 0.3632, Test Loss: 0.3860, Train Auc: 0.7168, Test Auc: 0.6413\n",
            "Epoch 80/100,Train Loss: 0.3637, Test Loss: 0.3873, Train Auc: 0.7210, Test Auc: 0.6402\n",
            "Epoch 90/100,Train Loss: 0.3606, Test Loss: 0.3868, Train Auc: 0.7291, Test Auc: 0.6448\n",
            "Epoch 100/100,Train Loss: 0.3608, Test Loss: 0.3877, Train Auc: 0.7352, Test Auc: 0.6393\n"
          ]
        },
        {
          "data": {
            "image/png": "[encoded data removed]",
            "text/plain": [
              "<Figure size 640x480 with 1 Axes>"
            ]
          },
          "metadata": {},
          "output_type": "display_data"
        }
      ],
      "source": [
        "model = BinaryClassifierDropout()\n",
        "# Initialize Adam optimizer\n",
        "optimizer = optim.Adam(model.parameters())\n",
        "# Train using optimizer_sgd\n",
        "train_and_evaluate_model(model, optimizer, epochs=100, print_every=10)"
      ]
    },
    {
      "cell_type": "markdown",
      "metadata": {
        "id": "w3B-NRf0neAm"
      },
      "source": [
        "By using the dropout technique, the overfitting in our model has been significantly reduced. The AUC score is not only the highest we have observed so far, it is also more consistent across epochs.\n",
        "\n",
        "We have used a droput rate of 0.5 in all the layers. Feel free to try different dropout rates and observe how the performance changes, based on the value.\n",
        "\n",
        "Now lets look at the impact of L2 regularisation using weight decay on this model. Note that this parameter has to be added in the optimiser. We will also remove the dropouts from the model for a fair comparison between the performance of the models using the two techniques that is dropout and weight decay."
      ]
    },
    {
      "cell_type": "code",
      "execution_count": null,
      "metadata": {
        "id": "O-PZvRTineAm"
      },
      "outputs": [],
      "source": [
        "class BinaryClassifierL2(nn.Module):\n",
        "    def __init__(self):\n",
        "        super(BinaryClassifierL2, self).__init__()\n",
        "        self.layer1 = nn.Linear(X_train.shape[1], 256)\n",
        "        self.bn1 = nn.BatchNorm1d(256)  # Batch normalization layer\n",
        "        self.layer2 = nn.Linear(256, 128)\n",
        "        self.bn2 = nn.BatchNorm1d(128)  # Batch normalization layer\n",
        "        self.layer3 = nn.Linear(128, 64)\n",
        "        self.bn3 = nn.BatchNorm1d(64)  # Batch normalization layer\n",
        "        self.layer4 = nn.Linear(64, 1)\n",
        "\n",
        "    def forward(self, x):\n",
        "        x = F.leaky_relu(self.bn1(self.layer1(x)), negative_slope=0.01)\n",
        "        x = F.leaky_relu(self.bn2(self.layer2(x)), negative_slope=0.01)\n",
        "        x = F.leaky_relu(self.bn3(self.layer3(x)), negative_slope=0.01)\n",
        "        x = torch.sigmoid(self.layer4(x))\n",
        "        return x"
      ]
    },
    {
      "cell_type": "code",
      "execution_count": null,
      "metadata": {
        "id": "XNAOD24sneAm",
        "outputId": "95f4f5a6-a4aa-49c0-ff1f-1c9119cfd0e8"
      },
      "outputs": [
        {
          "name": "stdout",
          "output_type": "stream",
          "text": [
            "Epoch 10/100,Train Loss: 0.3543, Test Loss: 0.3910, Train Auc: 0.7458, Test Auc: 0.6263\n",
            "Epoch 20/100,Train Loss: 0.3326, Test Loss: 0.4082, Train Auc: 0.8005, Test Auc: 0.6149\n",
            "Epoch 30/100,Train Loss: 0.3007, Test Loss: 0.4603, Train Auc: 0.8434, Test Auc: 0.5816\n",
            "Epoch 40/100,Train Loss: 0.2760, Test Loss: 0.5011, Train Auc: 0.8899, Test Auc: 0.5728\n",
            "Epoch 50/100,Train Loss: 0.2515, Test Loss: 0.5639, Train Auc: 0.9075, Test Auc: 0.5598\n",
            "Epoch 60/100,Train Loss: 0.2331, Test Loss: 0.6064, Train Auc: 0.9372, Test Auc: 0.5474\n",
            "Epoch 70/100,Train Loss: 0.2184, Test Loss: 0.6502, Train Auc: 0.9450, Test Auc: 0.5487\n",
            "Epoch 80/100,Train Loss: 0.2084, Test Loss: 0.7044, Train Auc: 0.9489, Test Auc: 0.5405\n",
            "Epoch 90/100,Train Loss: 0.1995, Test Loss: 0.7435, Train Auc: 0.9603, Test Auc: 0.5344\n",
            "Epoch 100/100,Train Loss: 0.1908, Test Loss: 0.7878, Train Auc: 0.9617, Test Auc: 0.5391\n"
          ]
        },
        {
          "data": {
            "image/png": "[encoded data removed]",
            "text/plain": [
              "<Figure size 640x480 with 1 Axes>"
            ]
          },
          "metadata": {},
          "output_type": "display_data"
        }
      ],
      "source": [
        "model = BinaryClassifierL2()\n",
        "# Initialize Adam optimizer\n",
        "optimizer = optim.Adam(model.parameters(), weight_decay=1e-5)\n",
        "# Train using optimizer_sgd\n",
        "train_and_evaluate_model(model, optimizer, epochs=100, print_every=10)"
      ]
    },
    {
      "cell_type": "markdown",
      "metadata": {
        "id": "ZKSNlKJmneAm"
      },
      "source": [
        "Looking at the plot, we can conclude that this regularisation is not as strong as Dropout. The model is still a highly overfit model. Why dont you try out different values of weight decay such as 10^-4,  10^-3, or even 10^-2, and see if that gives better results? In fact let me give you an inside secret, one of these values is definitely going to give you better results.\n",
        "\n",
        "Next lets try to implement early stopping on the Dropout model.\n"
      ]
    },
    {
      "cell_type": "markdown",
      "metadata": {
        "id": "gpj72uVwneAm"
      },
      "source": [
        "In pytorch, early stopping can be implemented in 2 different ways. The first method is to implement it manually by coding and the second way is to use some libraries like Pytorch Lightning or early-stopiing-pytorch. Note that here will will implement early stopping manually, by modifying our original function 'train_and_evaluate_model'. Take a look at the code"
      ]
    },
    {
      "cell_type": "markdown",
      "metadata": {
        "id": "ss-hlO5tneAm"
      },
      "source": [
        "Here, i've set a parameter max_patience to 10. This means that the model will wait for 10 epochs to observe improvements in the test loss. If that does not occur the model will stop training. Further, I've used simple if else clauses to end the training using this criterion. Let's take a look at the results!"
      ]
    },
    {
      "cell_type": "code",
      "execution_count": null,
      "metadata": {
        "id": "A_bwxathneAm"
      },
      "outputs": [],
      "source": [
        "# Training and Evaluation Loop\n",
        "def train_and_evaluate_model_es(model, optimizer, batch_size = 128, epochs=25, print_every=5):\n",
        "    model.train()  # set model to train mode\n",
        "\n",
        "    train_loss_list=[]\n",
        "    test_loss_list = []\n",
        "\n",
        "    best_val_loss = float('inf')\n",
        "    patience = 0\n",
        "    max_patience = 10  # Maximum epochs to wait for improvement\n",
        "\n",
        "    # Convert the tensor based data to torch Dataset objects\n",
        "    train_dataset = JobChangeDataset(X_train_tensor, y_train_tensor)\n",
        "    # Define torch data loader objects for these datasets\n",
        "    train_loader = DataLoader(dataset=train_dataset, batch_size=batch_size, shuffle=True)\n",
        "\n",
        "    test_dataset = JobChangeDataset(X_test_tensor, y_test_tensor)\n",
        "    test_loader = DataLoader(dataset=test_dataset, batch_size=batch_size, shuffle=False)\n",
        "\n",
        "    criterion = nn.BCELoss()\n",
        "\n",
        "    # Train for the defined number of epochs\n",
        "    for epoch in range(epochs):\n",
        "        train_loss = 0.0\n",
        "        model.train() # set the model to train mode for each epoch, since we are setting it to eval mode later\n",
        "        for i, (features, labels) in enumerate(train_loader):\n",
        "            optimizer.zero_grad() # Clear the gradients of all optimized variables\n",
        "            outputs = model(features) # pass our data(input features) through the model\n",
        "            loss = criterion(outputs.squeeze(), labels) # calculate the loss between model outputs and expected labels\n",
        "            loss.backward() # Backward pass: compute the gradient of the loss with respect to model parameters\n",
        "            optimizer.step() # Perform a single optimization step (parameter update)\n",
        "            train_loss += loss.item() # Accumulate the training loss to later calculate the average\n",
        "\n",
        "        # Calculate the average training loss for current epoch\n",
        "        train_loss = train_loss / len(train_loader)\n",
        "        train_loss_list.append(train_loss)\n",
        "\n",
        "        # Evaluate on test set\n",
        "        model.eval() # Switch model to evaluation mode\n",
        "        test_loss = 0.0\n",
        "        # Disable gradient calculation for evaluation to save memory and computations\n",
        "        with torch.no_grad():\n",
        "            # Iterate over the test dataset\n",
        "            for features, labels in test_loader:\n",
        "                outputs = model(features) # Forward pass: compute the output of the model by passing the input features\n",
        "                loss = criterion(outputs.squeeze(), labels) # Calculate the loss between the model output and expected labels\n",
        "                test_loss += loss.item() # Accumulate the test loss to later calculate the average\n",
        "            train_auc = roc_auc_score(y_train_tensor, model(X_train_tensor))\n",
        "            test_auc = roc_auc_score(y_test_tensor, model(X_test_tensor))\n",
        "\n",
        "        # Calculate test loss for epoch\n",
        "        test_loss = test_loss / len(test_loader)\n",
        "        test_loss_list.append(test_loss)\n",
        "\n",
        "# Implementing Early stoping\n",
        "        if test_loss < best_val_loss:\n",
        "            best_val_loss = test_loss\n",
        "            patience = 0\n",
        "            # torch.save(model.state_dict(), 'best_model.pt')\n",
        "        else:\n",
        "            patience += 1\n",
        "\n",
        "        if patience >= max_patience:\n",
        "            print(f'Early stopped at {epoch+1}')\n",
        "            break  # Stop training\n",
        "\n",
        "        # Print losses\n",
        "        if (epoch + 1) % print_every == 0:\n",
        "            print(f'Epoch {epoch+1}/{epochs},Train Loss: {train_loss:.4f}, Test Loss: {test_loss:.4f}, Train Auc: {train_auc:.4f}, Test Auc: {test_auc:.4f}')\n",
        "\n",
        "    plt.plot(range(len(train_loss_list)),train_loss_list, label = 'train')\n",
        "    plt.plot(range(len(train_loss_list)),test_loss_list, label = 'test')\n",
        "    plt.legend()\n",
        "    plt.show()\n",
        "\n",
        ""
      ]
    },
    {
      "cell_type": "code",
      "execution_count": null,
      "metadata": {
        "id": "bJX-EBZqneAm",
        "outputId": "87f668ba-b06d-48b3-e06b-8a4d5074cb98"
      },
      "outputs": [
        {
          "name": "stdout",
          "output_type": "stream",
          "text": [
            "Epoch 10/100,Train Loss: 0.3793, Test Loss: 0.3849, Train Auc: 0.6743, Test Auc: 0.6460\n",
            "Epoch 20/100,Train Loss: 0.3746, Test Loss: 0.3822, Train Auc: 0.6854, Test Auc: 0.6518\n",
            "Epoch 30/100,Train Loss: 0.3702, Test Loss: 0.3810, Train Auc: 0.6938, Test Auc: 0.6560\n",
            "Epoch 40/100,Train Loss: 0.3665, Test Loss: 0.3825, Train Auc: 0.7011, Test Auc: 0.6519\n",
            "Early stopped at 48\n"
          ]
        },
        {
          "data": {
            "image/png": "[encoded data removed]",
            "text/plain": [
              "<Figure size 640x480 with 1 Axes>"
            ]
          },
          "metadata": {},
          "output_type": "display_data"
        }
      ],
      "source": [
        "model = BinaryClassifierDropout()\n",
        "# Initialize Adam optimizer\n",
        "optimizer = optim.Adam(model.parameters())\n",
        "# Train using optimizer_sgd\n",
        "train_and_evaluate_model_es(model, optimizer, epochs=100, print_every=10)"
      ]
    },
    {
      "cell_type": "markdown",
      "metadata": {
        "id": "74EuuV-mneAm"
      },
      "source": [
        "As you can observe, here the model stopped early at Epoch number 33, because the loss on the test set did not improve from the last 10 epochs. Even though i set the max_parameter to 10, feel free to increase or decrease this and analyze the model performance. With that, I'm sure you can easily fix any overfiting deep learning model given a real world scenario. I'll see you later with more ways to improve model performance."
      ]
    },
    {
      "cell_type": "markdown",
      "metadata": {
        "id": "m51anyZeneAm"
      },
      "source": [
        "# Module 3 Video 7 - Tune hyperparameters with the Optuna package"
      ]
    },
    {
      "cell_type": "markdown",
      "metadata": {
        "id": "I98Z1ToLneAm"
      },
      "source": [
        "Now let's tune our zeta analytics model parameters using Optuna. Here we will first re-define the training function so that it returns the train and test set AUC score. These will be used by the optuna library to tune the parameters of the model."
      ]
    },
    {
      "cell_type": "code",
      "execution_count": null,
      "metadata": {
        "id": "H-IiHYfoneAm"
      },
      "outputs": [],
      "source": [
        "device = \"cpu\""
      ]
    },
    {
      "cell_type": "code",
      "execution_count": null,
      "metadata": {
        "id": "YhhnGbxrneAm"
      },
      "outputs": [],
      "source": [
        "def train_and_evaluate_model_optuna(model, optimizer_optuna, batch_size=128, epochs=25, print_every=5, show_plot=False):\n",
        "    # model.to(device)  # Move the model to the designated device\n",
        "\n",
        "    model.train()  # Set model to train mode\n",
        "\n",
        "    train_loss_list = []\n",
        "    test_loss_list = []\n",
        "\n",
        "    # Convert the tensor-based data to torch Dataset objects\n",
        "    train_dataset = JobChangeDataset(X_train_tensor.to(device), y_train_tensor.to(device))\n",
        "    # Define torch data loader objects for these datasets\n",
        "    train_loader = DataLoader(dataset=train_dataset, batch_size=batch_size, shuffle=True)\n",
        "\n",
        "    test_dataset = JobChangeDataset(X_test_tensor.to(device), y_test_tensor.to(device))\n",
        "    test_loader = DataLoader(dataset=test_dataset, batch_size=batch_size, shuffle=False)\n",
        "\n",
        "    criterion = nn.BCELoss()\n",
        "\n",
        "    # Train for the defined number of epochs\n",
        "    for epoch in range(epochs):\n",
        "        train_loss = 0.0\n",
        "        model.train()\n",
        "        for features, labels in train_loader:\n",
        "            # features, labels = features.to(device), labels.to(device)  # Move data to the device\n",
        "\n",
        "            optimizer_optuna.zero_grad()  # Clear the gradients of all optimized variables\n",
        "            outputs = model(features)  # Pass data through the model\n",
        "            loss = criterion(outputs.squeeze(), labels)  # Calculate loss\n",
        "            loss.backward()  # Backward pass: compute gradient of the loss with respect to model parameters\n",
        "            optimizer_optuna.step()  # Perform a single optimization step (parameter update)\n",
        "            train_loss += loss.item()  # Accumulate the training loss\n",
        "\n",
        "        # Calculate the average training loss for the current epoch\n",
        "        train_loss /= len(train_loader)\n",
        "        train_loss_list.append(train_loss)\n",
        "\n",
        "        # Evaluate on the test set\n",
        "        model.eval()  # Switch model to evaluation mode\n",
        "        test_loss = 0.0\n",
        "        with torch.no_grad():  # Disable gradient calculation\n",
        "            for features, labels in test_loader:\n",
        "                # features, labels = features.to(device), labels.to(device)  # Move data to the device\n",
        "                outputs = model(features)\n",
        "                loss = criterion(outputs.squeeze(), labels)\n",
        "                test_loss += loss.item()\n",
        "\n",
        "        test_loss /= len(test_loader)\n",
        "        test_loss_list.append(test_loss)\n",
        "\n",
        "        if (epoch + 1) % print_every == 0:\n",
        "            print(f'Epoch {epoch+1}/{epochs}, Train Loss: {train_loss:.4f}, Test Loss: {test_loss:.4f}')\n",
        "\n",
        "            # set model to evaluation mode\n",
        "            model.eval()\n",
        "            with torch.no_grad():\n",
        "                train_preds = model(X_train_tensor.to(device)).squeeze()\n",
        "                test_preds = model(X_test_tensor.to(device)).squeeze()\n",
        "                train_auc = roc_auc_score(y_train_tensor.cpu(), train_preds.cpu())\n",
        "                test_auc = roc_auc_score(y_test_tensor.cpu(), test_preds.cpu())\n",
        "\n",
        "            print(f'Train AUC: {train_auc:.4f}, Test AUC: {test_auc:.4f}')\n",
        "    if (show_plot):\n",
        "        plt.plot(range(epochs),train_loss_list, label = 'train')\n",
        "        plt.plot(range(epochs),test_loss_list, label = 'test')\n",
        "        plt.legend()\n",
        "        plt.show()\n",
        "\n",
        "    # Returning the last epoch AUC values for Optuna optimization\n",
        "    return train_auc, test_auc\n"
      ]
    },
    {
      "cell_type": "markdown",
      "metadata": {
        "id": "PcunSjmoneAm"
      },
      "source": [
        "Next, let's define a generic class definition which can be instantiated with different hyperparameters. This will be used by the optuna package to find the optimal hyperparameter settings. Here we've used relu af but feel free to uuse leaky relu if you wish to."
      ]
    },
    {
      "cell_type": "code",
      "execution_count": null,
      "metadata": {
        "id": "Q5tzjpk0neAn"
      },
      "outputs": [],
      "source": [
        "class BinaryClassifierDropoutOptuna(nn.Module):\n",
        "    def __init__(self, num_features, num_classes, dropout_rate, num_layers, num_nodes):\n",
        "        super(BinaryClassifierDropoutOptuna, self).__init__()\n",
        "        layers = []\n",
        "        prev_nodes = num_features  # Input size\n",
        "\n",
        "        # Dynamically create layers based on num_layers and num_nodes\n",
        "        for _ in range(num_layers):\n",
        "            layers.append(nn.Linear(prev_nodes, num_nodes))\n",
        "            layers.append(nn.ReLU()) # You could also try Leakt ReLU\n",
        "            layers.append(nn.Dropout(dropout_rate))\n",
        "            layers.append(nn.BatchNorm1d(num_nodes))\n",
        "            prev_nodes = num_nodes  # Update prev_nodes for the next layer\n",
        "\n",
        "        # Output layer\n",
        "        layers.append(nn.Linear(prev_nodes, num_classes))\n",
        "        self.layers = nn.Sequential(*layers)\n",
        "\n",
        "    def forward(self, x):\n",
        "        x = self.layers(x)\n",
        "        x = torch.sigmoid(x)\n",
        "        return x\n",
        "\n"
      ]
    },
    {
      "cell_type": "markdown",
      "metadata": {
        "id": "VuDts1cSneAn"
      },
      "source": [
        "Let's define the ranges for the hyperparameters we wish to tune. Here I've set a range for the dropout rate as 0.1 to 0.5. Further we have set the range for the number of layers between 2 to 5. For the number of nodes, I've set a range of 64 to 128. In the interest of speed of execution I've used a limited range of layers and neurons. You can try larger values for these . Lastly for learning rate I am setting a range of 10^-1 to 10^-5. These ranges may not give the best results but it will surely help you understand the practical application of hyperparameter tuning for deep learning models."
      ]
    },
    {
      "cell_type": "code",
      "execution_count": null,
      "metadata": {
        "id": "cF6XeW8IneAn"
      },
      "outputs": [],
      "source": [
        "def objective(trial):\n",
        "    # Hyperparameters to be optimized\n",
        "    dropout_rate = trial.suggest_float('dropout_rate', 0.1, 0.5) # trial range will be from 0.1 to 0.5\n",
        "    num_layers = trial.suggest_int('num_layers', 2, 5)  # Suggesting 1 to 3 layers\n",
        "    num_nodes = trial.suggest_categorical('num_nodes', [64, 128])  # Nodes per layer options\n",
        "    lr = trial.suggest_float('lr', 1e-5, 1e-1, log=True) # trying different learning rates\n",
        "\n",
        "    # Model instantiation\n",
        "    model = BinaryClassifierDropoutOptuna(num_features=X_train.shape[1], num_classes=1,\n",
        "                                    dropout_rate=dropout_rate, num_layers=num_layers, num_nodes=num_nodes)\n",
        "    optimizer = optim.Adam(model.parameters(), lr=lr)\n",
        "\n",
        "    # Train and evaluate the model\n",
        "    train_auc, test_auc = train_and_evaluate_model_optuna(model, optimizer, epochs=30, print_every=30)\n",
        "\n",
        "    return test_auc\n"
      ]
    },
    {
      "cell_type": "markdown",
      "metadata": {
        "id": "8k17G4BuneAn"
      },
      "source": [
        "In the above code the last line specifies to return the test_auc score. This will feed into the optuna library for optimization. This is because our ultimate goal is to maximize the test_auc score. With our ranges dialled in, next let's set the number of combinations we wish to try. We are going to try 50 combinations here. If you recall, in the earlier video we had looked at different approaches such as grid search, random search and bayesian optimization.  By default optuna.create study uses a TPE sampler which is a bayesian optimisation algorithm. You could also try the other two approaches that is Grid and random sampler here. Note that, running this code is going to take some time. In my system it took a total of 13 minutes to run and this may increase or decrease depending on your system capabilities."
      ]
    },
    {
      "cell_type": "code",
      "execution_count": null,
      "metadata": {
        "id": "qOVLbrTfneAn",
        "outputId": "de964dcd-eb18-4537-a268-f8e37d43197f"
      },
      "outputs": [
        {
          "name": "stderr",
          "output_type": "stream",
          "text": [
            "[I 2024-03-11 15:43:03,969] A new study created in memory with name: no-name-ff9ece36-4f0a-4612-8bdf-1c6768096cf5\n",
            "[I 2024-03-11 15:43:14,503] Trial 0 finished with value: 0.6483619167717528 and parameters: {'dropout_rate': 0.38632150653937924, 'num_layers': 2, 'num_nodes': 64, 'lr': 0.0003570338306032114}. Best is trial 0 with value: 0.6483619167717528.\n"
          ]
        },
        {
          "name": "stdout",
          "output_type": "stream",
          "text": [
            "Epoch 30/30, Train Loss: 0.3758, Test Loss: 0.3827\n",
            "Train AUC: 0.6811, Test AUC: 0.6484\n"
          ]
        },
        {
          "name": "stderr",
          "output_type": "stream",
          "text": [
            "[I 2024-03-11 15:43:25,482] Trial 1 finished with value: 0.6457087011349306 and parameters: {'dropout_rate': 0.21627511032733027, 'num_layers': 3, 'num_nodes': 128, 'lr': 0.002317321351462264}. Best is trial 0 with value: 0.6483619167717528.\n"
          ]
        },
        {
          "name": "stdout",
          "output_type": "stream",
          "text": [
            "Epoch 30/30, Train Loss: 0.3639, Test Loss: 0.3863\n",
            "Train AUC: 0.7129, Test AUC: 0.6457\n"
          ]
        },
        {
          "name": "stderr",
          "output_type": "stream",
          "text": [
            "[I 2024-03-11 15:43:36,087] Trial 2 finished with value: 0.6404104665825976 and parameters: {'dropout_rate': 0.35658007335453046, 'num_layers': 3, 'num_nodes': 64, 'lr': 0.0010675636240794406}. Best is trial 0 with value: 0.6483619167717528.\n"
          ]
        },
        {
          "name": "stdout",
          "output_type": "stream",
          "text": [
            "Epoch 30/30, Train Loss: 0.3699, Test Loss: 0.3842\n",
            "Train AUC: 0.6882, Test AUC: 0.6404\n"
          ]
        },
        {
          "name": "stderr",
          "output_type": "stream",
          "text": [
            "[I 2024-03-11 15:43:45,705] Trial 3 finished with value: 0.6239968474148802 and parameters: {'dropout_rate': 0.11377798868401921, 'num_layers': 2, 'num_nodes': 128, 'lr': 0.000591232486418012}. Best is trial 0 with value: 0.6483619167717528.\n"
          ]
        },
        {
          "name": "stdout",
          "output_type": "stream",
          "text": [
            "Epoch 30/30, Train Loss: 0.3482, Test Loss: 0.4022\n",
            "Train AUC: 0.7665, Test AUC: 0.6240\n"
          ]
        },
        {
          "name": "stderr",
          "output_type": "stream",
          "text": [
            "[I 2024-03-11 15:43:56,511] Trial 4 finished with value: 0.627873896595208 and parameters: {'dropout_rate': 0.26896036613140584, 'num_layers': 3, 'num_nodes': 64, 'lr': 2.2580400451934447e-05}. Best is trial 0 with value: 0.6483619167717528.\n"
          ]
        },
        {
          "name": "stdout",
          "output_type": "stream",
          "text": [
            "Epoch 30/30, Train Loss: 0.5857, Test Loss: 0.5670\n",
            "Train AUC: 0.6455, Test AUC: 0.6279\n"
          ]
        },
        {
          "name": "stderr",
          "output_type": "stream",
          "text": [
            "[I 2024-03-11 15:44:05,728] Trial 5 finished with value: 0.6427436948297605 and parameters: {'dropout_rate': 0.3866569253108557, 'num_layers': 2, 'num_nodes': 64, 'lr': 0.014671303415149509}. Best is trial 0 with value: 0.6483619167717528.\n"
          ]
        },
        {
          "name": "stdout",
          "output_type": "stream",
          "text": [
            "Epoch 30/30, Train Loss: 0.3743, Test Loss: 0.3838\n",
            "Train AUC: 0.6725, Test AUC: 0.6427\n"
          ]
        },
        {
          "name": "stderr",
          "output_type": "stream",
          "text": [
            "[I 2024-03-11 15:44:19,815] Trial 6 finished with value: 0.6294482976040353 and parameters: {'dropout_rate': 0.15745502960922975, 'num_layers': 3, 'num_nodes': 128, 'lr': 0.00019110026290811182}. Best is trial 0 with value: 0.6483619167717528.\n"
          ]
        },
        {
          "name": "stdout",
          "output_type": "stream",
          "text": [
            "Epoch 30/30, Train Loss: 0.3678, Test Loss: 0.3931\n",
            "Train AUC: 0.7308, Test AUC: 0.6294\n"
          ]
        },
        {
          "name": "stderr",
          "output_type": "stream",
          "text": [
            "[I 2024-03-11 15:44:31,584] Trial 7 finished with value: 0.640452711223203 and parameters: {'dropout_rate': 0.30435289680228006, 'num_layers': 4, 'num_nodes': 64, 'lr': 0.0007747804223307762}. Best is trial 0 with value: 0.6483619167717528.\n"
          ]
        },
        {
          "name": "stdout",
          "output_type": "stream",
          "text": [
            "Epoch 30/30, Train Loss: 0.3730, Test Loss: 0.3838\n",
            "Train AUC: 0.6797, Test AUC: 0.6405\n"
          ]
        },
        {
          "name": "stderr",
          "output_type": "stream",
          "text": [
            "[I 2024-03-11 15:44:45,095] Trial 8 finished with value: 0.642014817150063 and parameters: {'dropout_rate': 0.4614204266741775, 'num_layers': 5, 'num_nodes': 64, 'lr': 0.012834558317647638}. Best is trial 0 with value: 0.6483619167717528.\n"
          ]
        },
        {
          "name": "stdout",
          "output_type": "stream",
          "text": [
            "Epoch 30/30, Train Loss: 0.3748, Test Loss: 0.3845\n",
            "Train AUC: 0.6690, Test AUC: 0.6420\n"
          ]
        },
        {
          "name": "stderr",
          "output_type": "stream",
          "text": [
            "[I 2024-03-11 15:44:53,432] Trial 9 finished with value: 0.6438152585119798 and parameters: {'dropout_rate': 0.12985258037899278, 'num_layers': 2, 'num_nodes': 64, 'lr': 0.0007643130720343228}. Best is trial 0 with value: 0.6483619167717528.\n"
          ]
        },
        {
          "name": "stdout",
          "output_type": "stream",
          "text": [
            "Epoch 30/30, Train Loss: 0.3596, Test Loss: 0.3876\n",
            "Train AUC: 0.7291, Test AUC: 0.6438\n"
          ]
        },
        {
          "name": "stderr",
          "output_type": "stream",
          "text": [
            "[I 2024-03-11 15:45:08,695] Trial 10 finished with value: 0.38506494325346785 and parameters: {'dropout_rate': 0.49835546597395725, 'num_layers': 5, 'num_nodes': 128, 'lr': 0.08345092238150896}. Best is trial 0 with value: 0.6483619167717528.\n"
          ]
        },
        {
          "name": "stdout",
          "output_type": "stream",
          "text": [
            "Epoch 30/30, Train Loss: 0.4010, Test Loss: 0.7079\n",
            "Train AUC: 0.3841, Test AUC: 0.3851\n"
          ]
        },
        {
          "name": "stderr",
          "output_type": "stream",
          "text": [
            "[I 2024-03-11 15:45:21,962] Trial 11 finished with value: 0.6293177805800757 and parameters: {'dropout_rate': 0.24639576283884987, 'num_layers': 4, 'num_nodes': 128, 'lr': 0.0001115835440494619}. Best is trial 0 with value: 0.6483619167717528.\n"
          ]
        },
        {
          "name": "stdout",
          "output_type": "stream",
          "text": [
            "Epoch 30/30, Train Loss: 0.3857, Test Loss: 0.3870\n",
            "Train AUC: 0.6836, Test AUC: 0.6293\n"
          ]
        },
        {
          "name": "stderr",
          "output_type": "stream",
          "text": [
            "[I 2024-03-11 15:45:31,554] Trial 12 finished with value: 0.627530895334174 and parameters: {'dropout_rate': 0.20835260656589405, 'num_layers': 2, 'num_nodes': 128, 'lr': 0.004827479638421266}. Best is trial 0 with value: 0.6483619167717528.\n"
          ]
        },
        {
          "name": "stdout",
          "output_type": "stream",
          "text": [
            "Epoch 30/30, Train Loss: 0.3653, Test Loss: 0.3912\n",
            "Train AUC: 0.7060, Test AUC: 0.6275\n"
          ]
        },
        {
          "name": "stderr",
          "output_type": "stream",
          "text": [
            "[I 2024-03-11 15:45:42,972] Trial 13 finished with value: 0.6465069356872635 and parameters: {'dropout_rate': 0.3881864555654563, 'num_layers': 3, 'num_nodes': 128, 'lr': 0.004268655114254359}. Best is trial 0 with value: 0.6483619167717528.\n"
          ]
        },
        {
          "name": "stdout",
          "output_type": "stream",
          "text": [
            "Epoch 30/30, Train Loss: 0.3695, Test Loss: 0.3828\n",
            "Train AUC: 0.6863, Test AUC: 0.6465\n"
          ]
        },
        {
          "name": "stderr",
          "output_type": "stream",
          "text": [
            "[I 2024-03-11 15:45:54,679] Trial 14 finished with value: 0.6010195460277428 and parameters: {'dropout_rate': 0.4070163515383093, 'num_layers': 4, 'num_nodes': 64, 'lr': 7.65219909048519e-05}. Best is trial 0 with value: 0.6483619167717528.\n"
          ]
        },
        {
          "name": "stdout",
          "output_type": "stream",
          "text": [
            "Epoch 30/30, Train Loss: 0.4139, Test Loss: 0.3919\n",
            "Train AUC: 0.6225, Test AUC: 0.6010\n"
          ]
        },
        {
          "name": "stderr",
          "output_type": "stream",
          "text": [
            "[I 2024-03-11 15:46:04,934] Trial 15 finished with value: 0.6353991172761664 and parameters: {'dropout_rate': 0.3216579360731898, 'num_layers': 2, 'num_nodes': 128, 'lr': 1.2014296301112896e-05}. Best is trial 0 with value: 0.6483619167717528.\n"
          ]
        },
        {
          "name": "stdout",
          "output_type": "stream",
          "text": [
            "Epoch 30/30, Train Loss: 0.6035, Test Loss: 0.5850\n",
            "Train AUC: 0.6455, Test AUC: 0.6354\n"
          ]
        },
        {
          "name": "stderr",
          "output_type": "stream",
          "text": [
            "[I 2024-03-11 15:46:16,633] Trial 16 finished with value: 0.6435706179066835 and parameters: {'dropout_rate': 0.42810953242997574, 'num_layers': 3, 'num_nodes': 64, 'lr': 0.05179682031886473}. Best is trial 0 with value: 0.6483619167717528.\n"
          ]
        },
        {
          "name": "stdout",
          "output_type": "stream",
          "text": [
            "Epoch 30/30, Train Loss: 0.3827, Test Loss: 0.5823\n",
            "Train AUC: 0.6598, Test AUC: 0.6436\n"
          ]
        },
        {
          "name": "stderr",
          "output_type": "stream",
          "text": [
            "[I 2024-03-11 15:46:26,483] Trial 17 finished with value: 0.6459293820933165 and parameters: {'dropout_rate': 0.3489897021787558, 'num_layers': 2, 'num_nodes': 128, 'lr': 0.003966239094810013}. Best is trial 0 with value: 0.6483619167717528.\n"
          ]
        },
        {
          "name": "stdout",
          "output_type": "stream",
          "text": [
            "Epoch 30/30, Train Loss: 0.3680, Test Loss: 0.3850\n",
            "Train AUC: 0.6937, Test AUC: 0.6459\n"
          ]
        },
        {
          "name": "stderr",
          "output_type": "stream",
          "text": [
            "[I 2024-03-11 15:46:38,955] Trial 18 finished with value: 0.6373348045397227 and parameters: {'dropout_rate': 0.43245030401291723, 'num_layers': 3, 'num_nodes': 128, 'lr': 0.00019940014928499061}. Best is trial 0 with value: 0.6483619167717528.\n"
          ]
        },
        {
          "name": "stdout",
          "output_type": "stream",
          "text": [
            "Epoch 30/30, Train Loss: 0.3830, Test Loss: 0.3862\n",
            "Train AUC: 0.6754, Test AUC: 0.6373\n"
          ]
        },
        {
          "name": "stderr",
          "output_type": "stream",
          "text": [
            "[I 2024-03-11 15:46:50,155] Trial 19 finished with value: 0.6351778058007566 and parameters: {'dropout_rate': 0.3679681899728917, 'num_layers': 4, 'num_nodes': 64, 'lr': 0.019568159431336486}. Best is trial 0 with value: 0.6483619167717528.\n"
          ]
        },
        {
          "name": "stdout",
          "output_type": "stream",
          "text": [
            "Epoch 30/30, Train Loss: 0.3760, Test Loss: 0.4416\n",
            "Train AUC: 0.6674, Test AUC: 0.6352\n"
          ]
        },
        {
          "name": "stderr",
          "output_type": "stream",
          "text": [
            "[I 2024-03-11 15:46:58,746] Trial 20 finished with value: 0.6464498738965951 and parameters: {'dropout_rate': 0.4692976216569915, 'num_layers': 2, 'num_nodes': 64, 'lr': 0.0024237997322761992}. Best is trial 0 with value: 0.6483619167717528.\n"
          ]
        },
        {
          "name": "stdout",
          "output_type": "stream",
          "text": [
            "Epoch 30/30, Train Loss: 0.3709, Test Loss: 0.3841\n",
            "Train AUC: 0.6813, Test AUC: 0.6464\n"
          ]
        },
        {
          "name": "stderr",
          "output_type": "stream",
          "text": [
            "[I 2024-03-11 15:47:07,420] Trial 21 finished with value: 0.6476617276166456 and parameters: {'dropout_rate': 0.47839173315645894, 'num_layers': 2, 'num_nodes': 64, 'lr': 0.0018291563308197901}. Best is trial 0 with value: 0.6483619167717528.\n"
          ]
        },
        {
          "name": "stdout",
          "output_type": "stream",
          "text": [
            "Epoch 30/30, Train Loss: 0.3707, Test Loss: 0.3824\n",
            "Train AUC: 0.6817, Test AUC: 0.6477\n"
          ]
        },
        {
          "name": "stderr",
          "output_type": "stream",
          "text": [
            "[I 2024-03-11 15:47:15,814] Trial 22 finished with value: 0.6435217528373266 and parameters: {'dropout_rate': 0.44948793341032434, 'num_layers': 2, 'num_nodes': 64, 'lr': 0.0002948620594594589}. Best is trial 0 with value: 0.6483619167717528.\n"
          ]
        },
        {
          "name": "stdout",
          "output_type": "stream",
          "text": [
            "Epoch 30/30, Train Loss: 0.3796, Test Loss: 0.3841\n",
            "Train AUC: 0.6730, Test AUC: 0.6435\n"
          ]
        },
        {
          "name": "stderr",
          "output_type": "stream",
          "text": [
            "[I 2024-03-11 15:47:25,661] Trial 23 finished with value: 0.6416289407313998 and parameters: {'dropout_rate': 0.4015567275585288, 'num_layers': 3, 'num_nodes': 64, 'lr': 0.007265899046822361}. Best is trial 0 with value: 0.6483619167717528.\n"
          ]
        },
        {
          "name": "stdout",
          "output_type": "stream",
          "text": [
            "Epoch 30/30, Train Loss: 0.3726, Test Loss: 0.3840\n",
            "Train AUC: 0.6757, Test AUC: 0.6416\n"
          ]
        },
        {
          "name": "stderr",
          "output_type": "stream",
          "text": [
            "[I 2024-03-11 15:47:33,859] Trial 24 finished with value: 0.6440044136191677 and parameters: {'dropout_rate': 0.4892291637519204, 'num_layers': 2, 'num_nodes': 64, 'lr': 0.0015558797827793416}. Best is trial 0 with value: 0.6483619167717528.\n"
          ]
        },
        {
          "name": "stdout",
          "output_type": "stream",
          "text": [
            "Epoch 30/30, Train Loss: 0.3717, Test Loss: 0.3835\n",
            "Train AUC: 0.6803, Test AUC: 0.6440\n"
          ]
        },
        {
          "name": "stderr",
          "output_type": "stream",
          "text": [
            "[I 2024-03-11 15:47:43,846] Trial 25 finished with value: 0.6453146279949559 and parameters: {'dropout_rate': 0.33381219187363476, 'num_layers': 3, 'num_nodes': 64, 'lr': 0.00039712371472864117}. Best is trial 0 with value: 0.6483619167717528.\n"
          ]
        },
        {
          "name": "stdout",
          "output_type": "stream",
          "text": [
            "Epoch 30/30, Train Loss: 0.3785, Test Loss: 0.3827\n",
            "Train AUC: 0.6794, Test AUC: 0.6453\n"
          ]
        },
        {
          "name": "stderr",
          "output_type": "stream",
          "text": [
            "[I 2024-03-11 15:47:52,872] Trial 26 finished with value: 0.6266071878940731 and parameters: {'dropout_rate': 0.3895077909514947, 'num_layers': 2, 'num_nodes': 128, 'lr': 5.9948679875303004e-05}. Best is trial 0 with value: 0.6483619167717528.\n"
          ]
        },
        {
          "name": "stdout",
          "output_type": "stream",
          "text": [
            "Epoch 30/30, Train Loss: 0.3983, Test Loss: 0.3867\n",
            "Train AUC: 0.6755, Test AUC: 0.6266\n"
          ]
        },
        {
          "name": "stderr",
          "output_type": "stream",
          "text": [
            "[I 2024-03-11 15:48:01,303] Trial 27 finished with value: 0.6455031525851198 and parameters: {'dropout_rate': 0.43074070329450487, 'num_layers': 2, 'num_nodes': 64, 'lr': 0.03342463578905252}. Best is trial 0 with value: 0.6483619167717528.\n"
          ]
        },
        {
          "name": "stdout",
          "output_type": "stream",
          "text": [
            "Epoch 30/30, Train Loss: 0.3766, Test Loss: 0.3833\n",
            "Train AUC: 0.6650, Test AUC: 0.6455\n"
          ]
        },
        {
          "name": "stderr",
          "output_type": "stream",
          "text": [
            "[I 2024-03-11 15:48:12,153] Trial 28 finished with value: 0.6437213114754099 and parameters: {'dropout_rate': 0.28508328767755386, 'num_layers': 3, 'num_nodes': 128, 'lr': 0.005924739396534157}. Best is trial 0 with value: 0.6483619167717528.\n"
          ]
        },
        {
          "name": "stdout",
          "output_type": "stream",
          "text": [
            "Epoch 30/30, Train Loss: 0.3674, Test Loss: 0.3900\n",
            "Train AUC: 0.6942, Test AUC: 0.6437\n"
          ]
        },
        {
          "name": "stderr",
          "output_type": "stream",
          "text": [
            "[I 2024-03-11 15:48:23,143] Trial 29 finished with value: 0.6373124211853721 and parameters: {'dropout_rate': 0.3786897254744539, 'num_layers': 3, 'num_nodes': 128, 'lr': 0.0017161346433886943}. Best is trial 0 with value: 0.6483619167717528.\n"
          ]
        },
        {
          "name": "stdout",
          "output_type": "stream",
          "text": [
            "Epoch 30/30, Train Loss: 0.3696, Test Loss: 0.3854\n",
            "Train AUC: 0.6920, Test AUC: 0.6373\n"
          ]
        },
        {
          "name": "stderr",
          "output_type": "stream",
          "text": [
            "[I 2024-03-11 15:48:34,553] Trial 30 finished with value: 0.6437591424968474 and parameters: {'dropout_rate': 0.4185270602512292, 'num_layers': 4, 'num_nodes': 64, 'lr': 0.00337630137309137}. Best is trial 0 with value: 0.6483619167717528.\n"
          ]
        },
        {
          "name": "stdout",
          "output_type": "stream",
          "text": [
            "Epoch 30/30, Train Loss: 0.3711, Test Loss: 0.3840\n",
            "Train AUC: 0.6750, Test AUC: 0.6438\n"
          ]
        },
        {
          "name": "stderr",
          "output_type": "stream",
          "text": [
            "[I 2024-03-11 15:48:43,364] Trial 31 finished with value: 0.6486462799495586 and parameters: {'dropout_rate': 0.45612737902005746, 'num_layers': 2, 'num_nodes': 64, 'lr': 0.002208779298419755}. Best is trial 31 with value: 0.6486462799495586.\n"
          ]
        },
        {
          "name": "stdout",
          "output_type": "stream",
          "text": [
            "Epoch 30/30, Train Loss: 0.3716, Test Loss: 0.3835\n",
            "Train AUC: 0.6805, Test AUC: 0.6486\n"
          ]
        },
        {
          "name": "stderr",
          "output_type": "stream",
          "text": [
            "[I 2024-03-11 15:48:51,784] Trial 32 finished with value: 0.6429533417402271 and parameters: {'dropout_rate': 0.4660888384882546, 'num_layers': 2, 'num_nodes': 64, 'lr': 0.0012541814505417864}. Best is trial 31 with value: 0.6486462799495586.\n"
          ]
        },
        {
          "name": "stdout",
          "output_type": "stream",
          "text": [
            "Epoch 30/30, Train Loss: 0.3703, Test Loss: 0.3837\n",
            "Train AUC: 0.6851, Test AUC: 0.6430\n"
          ]
        },
        {
          "name": "stderr",
          "output_type": "stream",
          "text": [
            "[I 2024-03-11 15:49:00,266] Trial 33 finished with value: 0.6457093316519545 and parameters: {'dropout_rate': 0.4816676999617669, 'num_layers': 2, 'num_nodes': 64, 'lr': 0.0024710864478103486}. Best is trial 31 with value: 0.6486462799495586.\n"
          ]
        },
        {
          "name": "stdout",
          "output_type": "stream",
          "text": [
            "Epoch 30/30, Train Loss: 0.3707, Test Loss: 0.3839\n",
            "Train AUC: 0.6790, Test AUC: 0.6457\n"
          ]
        },
        {
          "name": "stderr",
          "output_type": "stream",
          "text": [
            "[I 2024-03-11 15:49:08,445] Trial 34 finished with value: 0.6430510718789407 and parameters: {'dropout_rate': 0.44908448990309585, 'num_layers': 2, 'num_nodes': 64, 'lr': 0.00043833126386439895}. Best is trial 31 with value: 0.6486462799495586.\n"
          ]
        },
        {
          "name": "stdout",
          "output_type": "stream",
          "text": [
            "Epoch 30/30, Train Loss: 0.3768, Test Loss: 0.3841\n",
            "Train AUC: 0.6782, Test AUC: 0.6431\n"
          ]
        },
        {
          "name": "stderr",
          "output_type": "stream",
          "text": [
            "[I 2024-03-11 15:49:18,220] Trial 35 finished with value: 0.6396796973518285 and parameters: {'dropout_rate': 0.35318070853562744, 'num_layers': 3, 'num_nodes': 64, 'lr': 0.008188084609969488}. Best is trial 31 with value: 0.6486462799495586.\n"
          ]
        },
        {
          "name": "stdout",
          "output_type": "stream",
          "text": [
            "Epoch 30/30, Train Loss: 0.3708, Test Loss: 0.4389\n",
            "Train AUC: 0.6734, Test AUC: 0.6397\n"
          ]
        },
        {
          "name": "stderr",
          "output_type": "stream",
          "text": [
            "[I 2024-03-11 15:49:26,505] Trial 36 finished with value: 0.6548493064312737 and parameters: {'dropout_rate': 0.44546706980167705, 'num_layers': 2, 'num_nodes': 64, 'lr': 0.000996874270051176}. Best is trial 36 with value: 0.6548493064312737.\n"
          ]
        },
        {
          "name": "stdout",
          "output_type": "stream",
          "text": [
            "Epoch 30/30, Train Loss: 0.3719, Test Loss: 0.3826\n",
            "Train AUC: 0.6842, Test AUC: 0.6548\n"
          ]
        },
        {
          "name": "stderr",
          "output_type": "stream",
          "text": [
            "[I 2024-03-11 15:49:34,705] Trial 37 finished with value: 0.6430390920554855 and parameters: {'dropout_rate': 0.44248390156924944, 'num_layers': 2, 'num_nodes': 64, 'lr': 0.0008874233154386318}. Best is trial 36 with value: 0.6548493064312737.\n"
          ]
        },
        {
          "name": "stdout",
          "output_type": "stream",
          "text": [
            "Epoch 30/30, Train Loss: 0.3712, Test Loss: 0.3840\n",
            "Train AUC: 0.6850, Test AUC: 0.6430\n"
          ]
        },
        {
          "name": "stderr",
          "output_type": "stream",
          "text": [
            "[I 2024-03-11 15:49:43,047] Trial 38 finished with value: 0.6437080706179067 and parameters: {'dropout_rate': 0.4999897426439791, 'num_layers': 2, 'num_nodes': 64, 'lr': 0.0004552682986206511}. Best is trial 36 with value: 0.6548493064312737.\n"
          ]
        },
        {
          "name": "stdout",
          "output_type": "stream",
          "text": [
            "Epoch 30/30, Train Loss: 0.3763, Test Loss: 0.3853\n",
            "Train AUC: 0.6771, Test AUC: 0.6437\n"
          ]
        },
        {
          "name": "stderr",
          "output_type": "stream",
          "text": [
            "[I 2024-03-11 15:49:51,258] Trial 39 finished with value: 0.6467786885245902 and parameters: {'dropout_rate': 0.4712832987335957, 'num_layers': 2, 'num_nodes': 64, 'lr': 0.00021965739007479045}. Best is trial 36 with value: 0.6548493064312737.\n"
          ]
        },
        {
          "name": "stdout",
          "output_type": "stream",
          "text": [
            "Epoch 30/30, Train Loss: 0.3851, Test Loss: 0.3825\n",
            "Train AUC: 0.6691, Test AUC: 0.6468\n"
          ]
        },
        {
          "name": "stderr",
          "output_type": "stream",
          "text": [
            "[I 2024-03-11 15:49:59,612] Trial 40 finished with value: 0.6475617906683481 and parameters: {'dropout_rate': 0.41410685901631356, 'num_layers': 2, 'num_nodes': 64, 'lr': 0.0009579152097109519}. Best is trial 36 with value: 0.6548493064312737.\n"
          ]
        },
        {
          "name": "stdout",
          "output_type": "stream",
          "text": [
            "Epoch 30/30, Train Loss: 0.3688, Test Loss: 0.3871\n",
            "Train AUC: 0.6911, Test AUC: 0.6476\n"
          ]
        },
        {
          "name": "stderr",
          "output_type": "stream",
          "text": [
            "[I 2024-03-11 15:50:08,749] Trial 41 finished with value: 0.6410365699873896 and parameters: {'dropout_rate': 0.41560521185416033, 'num_layers': 2, 'num_nodes': 64, 'lr': 0.0006832761738419112}. Best is trial 36 with value: 0.6548493064312737.\n"
          ]
        },
        {
          "name": "stdout",
          "output_type": "stream",
          "text": [
            "Epoch 30/30, Train Loss: 0.3726, Test Loss: 0.3838\n",
            "Train AUC: 0.6890, Test AUC: 0.6410\n"
          ]
        },
        {
          "name": "stderr",
          "output_type": "stream",
          "text": [
            "[I 2024-03-11 15:50:17,007] Trial 42 finished with value: 0.6456424968474149 and parameters: {'dropout_rate': 0.4510376173096219, 'num_layers': 2, 'num_nodes': 64, 'lr': 0.0011201965923111257}. Best is trial 36 with value: 0.6548493064312737.\n"
          ]
        },
        {
          "name": "stdout",
          "output_type": "stream",
          "text": [
            "Epoch 30/30, Train Loss: 0.3711, Test Loss: 0.3876\n",
            "Train AUC: 0.6842, Test AUC: 0.6456\n"
          ]
        },
        {
          "name": "stderr",
          "output_type": "stream",
          "text": [
            "[I 2024-03-11 15:50:25,343] Trial 43 finished with value: 0.6493316519546027 and parameters: {'dropout_rate': 0.4018958936204954, 'num_layers': 2, 'num_nodes': 64, 'lr': 0.0020806865435114624}. Best is trial 36 with value: 0.6548493064312737.\n"
          ]
        },
        {
          "name": "stdout",
          "output_type": "stream",
          "text": [
            "Epoch 30/30, Train Loss: 0.3694, Test Loss: 0.3837\n",
            "Train AUC: 0.6841, Test AUC: 0.6493\n"
          ]
        },
        {
          "name": "stderr",
          "output_type": "stream",
          "text": [
            "[I 2024-03-11 15:50:33,636] Trial 44 finished with value: 0.6448991172761664 and parameters: {'dropout_rate': 0.37105178509943987, 'num_layers': 2, 'num_nodes': 64, 'lr': 0.002571087977442266}. Best is trial 36 with value: 0.6548493064312737.\n"
          ]
        },
        {
          "name": "stdout",
          "output_type": "stream",
          "text": [
            "Epoch 30/30, Train Loss: 0.3691, Test Loss: 0.3845\n",
            "Train AUC: 0.6867, Test AUC: 0.6449\n"
          ]
        },
        {
          "name": "stderr",
          "output_type": "stream",
          "text": [
            "[I 2024-03-11 15:50:42,383] Trial 45 finished with value: 0.644813366960908 and parameters: {'dropout_rate': 0.477352859391708, 'num_layers': 2, 'num_nodes': 64, 'lr': 0.0016530406040049495}. Best is trial 36 with value: 0.6548493064312737.\n"
          ]
        },
        {
          "name": "stdout",
          "output_type": "stream",
          "text": [
            "Epoch 30/30, Train Loss: 0.3698, Test Loss: 0.3829\n",
            "Train AUC: 0.6782, Test AUC: 0.6448\n"
          ]
        },
        {
          "name": "stderr",
          "output_type": "stream",
          "text": [
            "[I 2024-03-11 15:50:56,639] Trial 46 finished with value: 0.5761711853720051 and parameters: {'dropout_rate': 0.4575863537049072, 'num_layers': 5, 'num_nodes': 64, 'lr': 0.00011562744372177935}. Best is trial 36 with value: 0.6548493064312737.\n"
          ]
        },
        {
          "name": "stdout",
          "output_type": "stream",
          "text": [
            "Epoch 30/30, Train Loss: 0.4057, Test Loss: 0.3963\n",
            "Train AUC: 0.5995, Test AUC: 0.5762\n"
          ]
        },
        {
          "name": "stderr",
          "output_type": "stream",
          "text": [
            "[I 2024-03-11 15:51:05,299] Trial 47 finished with value: 0.649234552332913 and parameters: {'dropout_rate': 0.18628473244035193, 'num_layers': 2, 'num_nodes': 64, 'lr': 0.009760408213631267}. Best is trial 36 with value: 0.6548493064312737.\n"
          ]
        },
        {
          "name": "stdout",
          "output_type": "stream",
          "text": [
            "Epoch 30/30, Train Loss: 0.3675, Test Loss: 0.4647\n",
            "Train AUC: 0.6874, Test AUC: 0.6492\n"
          ]
        },
        {
          "name": "stderr",
          "output_type": "stream",
          "text": [
            "[I 2024-03-11 15:51:15,968] Trial 48 finished with value: 0.6432726986128625 and parameters: {'dropout_rate': 0.18628172646516059, 'num_layers': 3, 'num_nodes': 64, 'lr': 0.010846970677843298}. Best is trial 36 with value: 0.6548493064312737.\n"
          ]
        },
        {
          "name": "stdout",
          "output_type": "stream",
          "text": [
            "Epoch 30/30, Train Loss: 0.3687, Test Loss: 0.3841\n",
            "Train AUC: 0.6889, Test AUC: 0.6433\n"
          ]
        },
        {
          "name": "stderr",
          "output_type": "stream",
          "text": [
            "[I 2024-03-11 15:51:24,989] Trial 49 finished with value: 0.6399098360655737 and parameters: {'dropout_rate': 0.23280439158991303, 'num_layers': 2, 'num_nodes': 64, 'lr': 0.01493421458131136}. Best is trial 36 with value: 0.6548493064312737.\n"
          ]
        },
        {
          "name": "stdout",
          "output_type": "stream",
          "text": [
            "Epoch 30/30, Train Loss: 0.3721, Test Loss: 0.3888\n",
            "Train AUC: 0.6768, Test AUC: 0.6399\n",
            "Best trial:\n",
            "  Value:  0.6548493064312737\n",
            "  Params: \n",
            "    dropout_rate: 0.44546706980167705\n",
            "    num_layers: 2\n",
            "    num_nodes: 64\n",
            "    lr: 0.000996874270051176\n"
          ]
        }
      ],
      "source": [
        "import optuna\n",
        "\n",
        "study = optuna.create_study(direction='maximize')\n",
        "study.optimize(objective, n_trials=50)\n",
        "\n",
        "# Display the best trial results\n",
        "print(\"Best trial:\")\n",
        "trial = study.best_trial\n",
        "print(\"  Value: \", trial.value)\n",
        "print(\"  Params: \")\n",
        "for key, value in trial.params.items():\n",
        "    print(f\"    {key}: {value}\")\n"
      ]
    },
    {
      "cell_type": "markdown",
      "metadata": {
        "id": "ts6LJAnnneAn"
      },
      "source": [
        "We've got our best model parameters. Let's now use these hyperparameters suggested by Optuna to build our model with early stopping."
      ]
    },
    {
      "cell_type": "code",
      "execution_count": null,
      "metadata": {
        "id": "WG-N9avNneAn"
      },
      "outputs": [],
      "source": [
        "dropout_rate = trial.params['dropout_rate']\n",
        "num_layers = trial.params['num_layers']\n",
        "num_nodes = trial.params['num_nodes']\n",
        "lr = trial.params['lr']\n",
        "\n",
        "\n",
        "num_features = X_train.shape[1]\n",
        "num_classes = 1  # For binary classification\n",
        "\n",
        "# Initialize model with best hyperparameters\n",
        "model = BinaryClassifierDropoutOptuna(num_features=num_features, num_classes=num_classes,\n",
        "                                 dropout_rate=dropout_rate, num_layers=num_layers, num_nodes=num_nodes).to(device)\n"
      ]
    },
    {
      "cell_type": "code",
      "execution_count": null,
      "metadata": {
        "id": "fE2ErUDmneAn",
        "outputId": "b461a653-c53b-4635-ea6f-9557276c90a4"
      },
      "outputs": [
        {
          "name": "stdout",
          "output_type": "stream",
          "text": [
            "Epoch 10/100,Train Loss: 0.3786, Test Loss: 0.3846, Train Auc: 0.6710, Test Auc: 0.6442\n",
            "Epoch 20/100,Train Loss: 0.3752, Test Loss: 0.3843, Train Auc: 0.6785, Test Auc: 0.6449\n",
            "Early stopped at 25\n"
          ]
        },
        {
          "data": {
            "image/png": "[encoded data removed]",
            "text/plain": [
              "<Figure size 640x480 with 1 Axes>"
            ]
          },
          "metadata": {},
          "output_type": "display_data"
        }
      ],
      "source": [
        "# Initialize Adam optimizer\n",
        "optimizer = optim.Adam(model.parameters(), lr=lr)\n",
        "# Train using optimizer_sgd\n",
        "train_and_evaluate_model_es(model, optimizer, epochs=100, print_every=10)"
      ]
    },
    {
      "cell_type": "markdown",
      "metadata": {
        "id": "49HO85G-neAn"
      },
      "source": [
        "The model has early stopped at 75 epochs once it achieved the best test_auc score. From this plot, we can see that the performance is almost the same as earlier, but this is also because of the narrow range of hyperparameters we opted to use. Also we had set n_trials to 50 only in optuna. Feel free to try a wider range of hyperparameters and larger number of trials to further improve the performance, but note that, this will increase the time taken."
      ]
    },
    {
      "cell_type": "markdown",
      "metadata": {
        "id": "v8-X5VbnneAn"
      },
      "source": [
        "With that we've come to the end of this video. Stay tuned to learn how to save and deploy your models in pytorch!"
      ]
    },
    {
      "cell_type": "markdown",
      "metadata": {
        "id": "66qfufE0neAn"
      },
      "source": [
        "Saving using state_dict"
      ]
    },
    {
      "cell_type": "code",
      "execution_count": null,
      "metadata": {
        "id": "5lVMt-UvneAn"
      },
      "outputs": [],
      "source": [
        "torch.save(model.state_dict(), 'model.pth')"
      ]
    },
    {
      "cell_type": "markdown",
      "metadata": {
        "id": "0PEnI2LhneAn"
      },
      "source": [
        "Saving complete model"
      ]
    },
    {
      "cell_type": "code",
      "execution_count": null,
      "metadata": {
        "id": "cMvJJ4emneAn"
      },
      "outputs": [],
      "source": [
        "torch.save(model, 'model.pt')"
      ]
    }
  ],
  "metadata": {
    "kernelspec": {
      "display_name": "Python 3 (ipykernel)",
      "language": "python",
      "name": "python3"
    },
    "language_info": {
      "codemirror_mode": {
        "name": "ipython",
        "version": 3
      },
      "file_extension": ".py",
      "mimetype": "text/x-python",
      "name": "python",
      "nbconvert_exporter": "python",
      "pygments_lexer": "ipython3",
      "version": "3.11.7"
    },
    "colab": {
      "provenance": [],
      "include_colab_link": true
    }
  },
  "nbformat": 4,
  "nbformat_minor": 0
}