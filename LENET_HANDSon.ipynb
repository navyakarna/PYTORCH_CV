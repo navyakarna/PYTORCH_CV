{
  "nbformat": 4,
  "nbformat_minor": 0,
  "metadata": {
    "colab": {
      "provenance": [],
      "gpuType": "T4",
      "authorship_tag": "ABX9TyM6SeftZF7ZpKfheE5w2ZDD",
      "include_colab_link": true
    },
    "kernelspec": {
      "name": "python3",
      "display_name": "Python 3"
    },
    "language_info": {
      "name": "python"
    },
    "accelerator": "GPU"
  },
  "cells": [
    {
      "cell_type": "markdown",
      "metadata": {
        "id": "view-in-github",
        "colab_type": "text"
      },
      "source": [
        "<a href=\"https://colab.research.google.com/github/navyakarna/PYTORCH_CV/blob/main/LENET_HANDSon.ipynb\" target=\"_parent\"><img src=\"https://colab.research.google.com/assets/colab-badge.svg\" alt=\"Open In Colab\"/></a>"
      ]
    },
    {
      "cell_type": "markdown",
      "source": [
        "BUILDING AN IMAGE CLASSIFICATION MODEL USING LeNet\n",
        "\n",
        "\n",
        "Yann LeCun - founder\n",
        "have 5 layers - first CNN\n",
        "simple structure\n",
        "\n",
        "\n",
        "imput layer - 32X32X1\n",
        "^ filter size = 5 x 5 so ,\n",
        "\n",
        "(32 - 5 + 2*0)/1 + 1 = 28\n",
        "\n",
        "(32 - 5 + 2*0)/1 + 1 = 28\n",
        "\n",
        "- conv1 (layer stride - 1) (28x28x6)\n",
        "- Avg pooling layer (stride = 2)\n",
        "^ for every kind of avg pool the stride is always 2 (no matter what)\n",
        "\n",
        "for spatial dimemsions\n",
        "\n",
        "output size = (input size - output size / stride ) + 1\n",
        "\n",
        "\n",
        "height = 28 - 2 /2 + 1 = 26/2 + 1\n",
        "13 + 1\n",
        "= 14\n",
        "\n",
        "width = 28 - 2 /2 + 1 = 26/2 + 1\n",
        "13 + 1\n",
        "= 14\n",
        "\n",
        "- conv2 (14 X14X6)\n",
        "\n",
        "**(AFTER THE FIRST TIME POOLING , THE IMAGE GET S SOME DEPTH NOW )**\n",
        "\n",
        "**(SO THE FILTER IS APPLIED ALL THROUGH DEEP THE DEPTH AND ACROSS THE IMAGE) **\n",
        "\n",
        "\n",
        "\n",
        "\n",
        "\n",
        "\n",
        "SO NOW THE FILTER IS = 5X5X6 (DEPTH OF 6 )\n",
        "\n",
        "CONV 2 = 10 X 10 X 16\n",
        "\n",
        "\n",
        "AVG POOL = 5 X 5 X 16\n",
        "\n",
        "OUTPUT SIZE = 400 ( FULLY CONNECTED LAYER )\n",
        "\n",
        "- SOFTMAX"
      ],
      "metadata": {
        "id": "bAL79WBJcLoV"
      }
    },
    {
      "cell_type": "code",
      "execution_count": null,
      "metadata": {
        "id": "glT4zKIKb7ss"
      },
      "outputs": [],
      "source": [
        "import os\n",
        "from PIL import Image\n",
        "\n",
        "\n"
      ]
    },
    {
      "cell_type": "code",
      "source": [
        "from zipfile import ZipFile, BadZipFile\n",
        "\n",
        "zip_file_path = '/content/Archive.zip'\n",
        "extract_to_path = '/content/'\n",
        "\n",
        "try:\n",
        "      with ZipFile(zip_file_path, 'r') as zip_ref:\n",
        "            zip_ref.extractall(extract_to_path)\n",
        "            print(f\"Extracted files to {extract_to_path}\")\n",
        "except FileNotFoundError:\n",
        "            print(f\"Error: File not found at {zip_file_path}\")\n",
        "except BadZipFile:\n",
        "            print(f\"Error: Invalid or corrupted zip file at {zip_file_path}\")"
      ],
      "metadata": {
        "colab": {
          "base_uri": "https://localhost:8080/"
        },
        "id": "ln9visZVjAm7",
        "outputId": "36949044-d5ba-4525-bf12-9d4005e3c11b"
      },
      "execution_count": null,
      "outputs": [
        {
          "output_type": "stream",
          "name": "stdout",
          "text": [
            "Extracted files to /content/\n"
          ]
        }
      ]
    },
    {
      "cell_type": "code",
      "source": [
        "folder = '/content/Human Action Recognition/train'\n",
        "activity = '/content/Human Action Recognition/train/cycling'\n",
        "img_name = '/content/Human Action Recognition/train/cycling'"
      ],
      "metadata": {
        "id": "0YDOzU6kjq_u"
      },
      "execution_count": null,
      "outputs": []
    },
    {
      "cell_type": "code",
      "source": [
        "folder = '/content/Human Action Recognition/train'\n",
        "activity = 'cycling' # Changed to the subfolder name\n",
        "# Get a list of all image files in the activity folder\n",
        "img_files = [f for f in os.listdir(os.path.join(folder, activity)) if os.path.isfile(os.path.join(folder, activity, f))]\n",
        "# Select the first image file, or randomly choose one if you prefer\n",
        "img_name = img_files[0]\n",
        "# Now construct the correct image path\n",
        "img_path = os.path.join(folder, activity, img_name)\n",
        "image = Image.open(img_path)\n",
        "image.show()"
      ],
      "metadata": {
        "id": "k2ur1vwukQFu"
      },
      "execution_count": null,
      "outputs": []
    },
    {
      "cell_type": "code",
      "source": [
        "print(image.size)\n",
        "print(image.mode)"
      ],
      "metadata": {
        "colab": {
          "base_uri": "https://localhost:8080/"
        },
        "id": "I7w9CSqNkvAp",
        "outputId": "60587cf1-3cf4-401a-b9cd-9e3e6df25dec"
      },
      "execution_count": null,
      "outputs": [
        {
          "output_type": "stream",
          "name": "stdout",
          "text": [
            "(173, 280)\n",
            "RGB\n"
          ]
        }
      ]
    },
    {
      "cell_type": "code",
      "source": [
        "import os\n",
        "import torch\n",
        "from torchvision import datasets, transforms\n",
        "from torch.utils.data import DataLoader\n"
      ],
      "metadata": {
        "id": "jLMhF-lqk5xT"
      },
      "execution_count": null,
      "outputs": []
    },
    {
      "cell_type": "code",
      "source": [
        "transform = transforms.Compose([\n",
        "    transforms.Resize((32, 32)), #lenet was supposed to be processing images of size 32X32 , so we need to transform the image\n",
        "    transforms.ToTensor(),\n",
        "    transforms.Normalize(mean=(0.5,0.5,0.5), std=(0.5,0.5,0.5)) #all three channels got the means and standard deviation in order to be normalised\n",
        "\n",
        "\n",
        "])"
      ],
      "metadata": {
        "id": "n_ioXsOXoz7M"
      },
      "execution_count": null,
      "outputs": []
    },
    {
      "cell_type": "code",
      "source": [
        "train_data_path = '/content/Human Action Recognition/train'\n",
        "test_data_path = '/content/Human Action Recognition/test'"
      ],
      "metadata": {
        "id": "PMTScSjv2v2V"
      },
      "execution_count": null,
      "outputs": []
    },
    {
      "cell_type": "code",
      "source": [
        "train_data = datasets.ImageFolder(root=train_data_path, transform=transform)\n",
        "test_data = datasets.ImageFolder(root=test_data_path, transform=transform)"
      ],
      "metadata": {
        "id": "Dj07i47s2_ZA"
      },
      "execution_count": null,
      "outputs": []
    },
    {
      "cell_type": "code",
      "source": [
        "print(train_data.classes)\n",
        "num_classes = len(train_data.classes)\n",
        "print(num_classes)"
      ],
      "metadata": {
        "colab": {
          "base_uri": "https://localhost:8080/"
        },
        "id": "wx3fk5W86okM",
        "outputId": "402f6160-9b87-4189-b89d-cfbf3d62ba2f"
      },
      "execution_count": null,
      "outputs": [
        {
          "output_type": "stream",
          "name": "stdout",
          "text": [
            "['cycling', 'dancing', 'drinking', 'eating', 'sitting']\n",
            "5\n"
          ]
        }
      ]
    },
    {
      "cell_type": "code",
      "source": [
        "from collections import Counter\n",
        "import matplotlib.pyplot as plt\n",
        "\n",
        "class_distribution = Counter([label for label in os.listdir(train_data_path) if os.path.isdir(os.path.join(train_data_path))])\n",
        "\n",
        "for label in class_distribution:\n",
        "  class_distribution[label] = len(os.listdir(os.path.join(train_data_path, label)))\n",
        "\n",
        "\n",
        "  print(class_distribution)\n",
        "\n",
        "plt.figure(figsize=(10,6))\n",
        "plt.bar(class_distribution.keys(), class_distribution.values())\n",
        "plt.xlabel('Classes')\n",
        "plt.ylabel('Frequency')\n",
        "plt.title('Class Distribution in Training Data')\n",
        "plt.show()"
      ],
      "metadata": {
        "colab": {
          "base_uri": "https://localhost:8080/",
          "height": 531
        },
        "id": "fhM2by2b-hAp",
        "outputId": "20b91cbd-6553-4a86-c4e3-f9cfe99aa1df"
      },
      "execution_count": null,
      "outputs": [
        {
          "output_type": "stream",
          "name": "stdout",
          "text": [
            "Counter({'sitting': 714, 'cycling': 1, 'dancing': 1, 'drinking': 1, 'eating': 1})\n",
            "Counter({'sitting': 714, 'cycling': 714, 'dancing': 1, 'drinking': 1, 'eating': 1})\n",
            "Counter({'sitting': 714, 'cycling': 714, 'dancing': 714, 'drinking': 1, 'eating': 1})\n",
            "Counter({'sitting': 714, 'cycling': 714, 'dancing': 714, 'drinking': 714, 'eating': 1})\n",
            "Counter({'sitting': 714, 'cycling': 714, 'dancing': 714, 'drinking': 714, 'eating': 714})\n"
          ]
        },
        {
          "output_type": "display_data",
          "data": {
            "text/plain": [
              "<Figure size 1000x600 with 1 Axes>"
            ],
            "image/png": "[encoded data removed]"
          },
          "metadata": {}
        }
      ]
    },
    {
      "cell_type": "markdown",
      "source": [
        "LeNet Architecture\n",
        "\n",
        "in the original structure , avg pooling method was used , but here we will use max pooling in order to reduce the features.\n"
      ],
      "metadata": {
        "id": "SdJWkQeI-DYc"
      }
    },
    {
      "cell_type": "code",
      "source": [
        "import torch\n",
        "import torch.nn as nn\n",
        "\n",
        "\n",
        "class LeNet5(nn.Module):\n",
        "  def __init__(self, num_classes=10):\n",
        "    super(LeNet5, self).__init__()\n",
        "    self.conv1 = nn.Conv2d(in_channels=3, out_channels=6, kernel_size=5, padding=0, stride=1 )\n",
        "    self.conv2 = nn.Conv2d(6 , 16 , kernel_size = 5, padding=0, stride=1)\n",
        "    # Changed the input size of fc1 to 400 to match the flattened output\n",
        "    self.fc1= nn.Linear(400, 84)\n",
        "    self.fc2 = nn.Linear(84, num_classes)\n",
        "\n",
        "  def forward(self, x):\n",
        "    x = torch.nn.functional.relu(self.conv1(x))\n",
        "    x = torch.nn.functional.max_pool2d(x, kernel_size=2, stride=2)\n",
        "    x = torch.nn.functional.relu(self.conv2(x))\n",
        "    x = torch.nn.functional.max_pool2d(x, kernel_size=2, stride=2)\n",
        "    x = torch.flatten(x, 1)\n",
        "    x = torch.nn.functional.relu(self.fc1(x))\n",
        "    x = torch.nn.functional.relu(self.fc2(x))\n",
        "    # Removed the undefined fc3 layer\n",
        "    # Assuming fc2 is the output layer\n",
        "    return x #or return torch.nn.functional.log_softmax(x, dim=1)  # Applying softmax for classification"
      ],
      "metadata": {
        "id": "CRuOdM7i-TcQ"
      },
      "execution_count": null,
      "outputs": []
    },
    {
      "cell_type": "code",
      "source": [
        "device = torch.device(\"cuda\" if torch.cuda.is_available() else \"cpu\")"
      ],
      "metadata": {
        "id": "wmp4uy4rBrAp"
      },
      "execution_count": null,
      "outputs": []
    },
    {
      "cell_type": "code",
      "source": [
        "device"
      ],
      "metadata": {
        "colab": {
          "base_uri": "https://localhost:8080/"
        },
        "id": "PFrkYAxHB6hD",
        "outputId": "0427b73c-d5de-451c-98ff-9706bba8456a"
      },
      "execution_count": null,
      "outputs": [
        {
          "output_type": "execute_result",
          "data": {
            "text/plain": [
              "device(type='cpu')"
            ]
          },
          "metadata": {},
          "execution_count": 31
        }
      ]
    },
    {
      "cell_type": "code",
      "source": [
        "model = LeNet5().to(device)\n"
      ],
      "metadata": {
        "id": "qwTsnEFdBPD1"
      },
      "execution_count": null,
      "outputs": []
    },
    {
      "cell_type": "code",
      "source": [
        "import torch.optim as optim\n",
        "\n",
        "criterion = nn.CrossEntropyLoss()\n",
        "optimizer = optim.Adam(model.parameters() , lr=0.001)\n"
      ],
      "metadata": {
        "id": "1yEU2OOEB_Bm"
      },
      "execution_count": null,
      "outputs": []
    },
    {
      "cell_type": "code",
      "source": [
        "train_loader = DataLoader(train_data, batch_size=32, shuffle=True)\n",
        "test_loader = DataLoader(test_data, batch_size=32, shuffle=False)"
      ],
      "metadata": {
        "id": "dpx1kuUWCNou"
      },
      "execution_count": null,
      "outputs": []
    },
    {
      "cell_type": "code",
      "source": [
        "# Train the model\n",
        "num_epochs = 20\n",
        "best_accuracy = 0.0\n",
        "epochs_since_best = 0\n",
        "\n",
        "for epoch in range(num_epochs):\n",
        "    model.train()\n",
        "    running_loss = 0.0\n",
        "    correct = 0\n",
        "    total = 0\n",
        "\n",
        "    for images, labels in tqdm(train_loader):\n",
        "        images, labels = images.to(device), labels.to(device)\n",
        "        optimizer.zero_grad()\n",
        "        outputs = model(images)\n",
        "        loss = criterion(outputs, labels)\n",
        "        loss.backward()\n",
        "        optimizer.step()\n",
        "        running_loss += loss.item()\n",
        "        _, predicted = outputs.max(1)\n",
        "        total += labels.size(0)\n",
        "        correct += predicted.eq(labels).sum().item()\n",
        "\n",
        "    train_loss = running_loss / len(train_loader)\n",
        "    train_accuracy = 100. * correct / total\n",
        "\n",
        "    # Evaluate the model\n",
        "    model.eval()\n",
        "    val_loss = 0.0\n",
        "    correct = 0\n",
        "    total = 0\n",
        "\n",
        "    with torch.no_grad():\n",
        "        # Change val_loader to test_loader here\n",
        "        for images, labels in test_loader:\n",
        "            images, labels = images.to(device), labels.to(device)\n",
        "            outputs = model(images)\n",
        "            loss = criterion(outputs, labels)\n",
        "            val_loss += loss.item()\n",
        "            _, predicted = outputs.max(1)\n",
        "\n",
        "            total += labels.size(0)\n",
        "            correct += predicted.eq(labels).sum().item()\n",
        "\n",
        "    val_loss /= len(test_loader) # Change len(val_loader) to len(test_loader)\n",
        "    val_accuracy = 100. * correct / total\n",
        "\n",
        "    print(f'Epoch [{epoch + 1}/{num_epochs}], '\n",
        "          f'Train Loss: {train_loss:.4f}, Train Accuracy: {train_accuracy:.2f}%, '\n",
        "          f'Test Loss: {val_loss:.4f}, Test Accuracy: {val_accuracy:.2f}%')\n",
        "\n",
        "    # Check for best accuracy and stop if not improved after two more epochs\n",
        "    if val_accuracy > best_accuracy:\n",
        "        best_accuracy = val_accuracy\n",
        "        epochs_since_best = 0\n",
        "        print(f'New best accuracy: {best_accuracy:.2f}%')\n",
        "    else:\n",
        "        epochs_since_best += 1\n",
        "        if epochs_since_best > 2:\n",
        "            print(\"Stopping early: no improvement after two consecutive epochs.\")\n",
        "            break"
      ],
      "metadata": {
        "colab": {
          "base_uri": "https://localhost:8080/"
        },
        "id": "6kpPvexlEQN2",
        "outputId": "6de494f3-c961-4bb4-8460-dc067c395b09"
      },
      "execution_count": null,
      "outputs": [
        {
          "output_type": "stream",
          "name": "stderr",
          "text": [
            "100%|██████████| 112/112 [00:07<00:00, 15.14it/s]\n"
          ]
        },
        {
          "output_type": "stream",
          "name": "stdout",
          "text": [
            "Epoch [1/20], Train Loss: 2.0015, Train Accuracy: 31.04%, Test Loss: 1.8044, Test Accuracy: 37.30%\n",
            "New best accuracy: 37.30%\n"
          ]
        },
        {
          "output_type": "stream",
          "name": "stderr",
          "text": [
            "100%|██████████| 112/112 [00:07<00:00, 15.43it/s]\n"
          ]
        },
        {
          "output_type": "stream",
          "name": "stdout",
          "text": [
            "Epoch [2/20], Train Loss: 1.8255, Train Accuracy: 35.52%, Test Loss: 1.7619, Test Accuracy: 37.30%\n"
          ]
        },
        {
          "output_type": "stream",
          "name": "stderr",
          "text": [
            "100%|██████████| 112/112 [00:06<00:00, 17.44it/s]\n"
          ]
        },
        {
          "output_type": "stream",
          "name": "stdout",
          "text": [
            "Epoch [3/20], Train Loss: 1.7600, Train Accuracy: 38.74%, Test Loss: 1.6603, Test Accuracy: 44.60%\n",
            "New best accuracy: 44.60%\n"
          ]
        },
        {
          "output_type": "stream",
          "name": "stderr",
          "text": [
            "100%|██████████| 112/112 [00:07<00:00, 15.20it/s]\n"
          ]
        },
        {
          "output_type": "stream",
          "name": "stdout",
          "text": [
            "Epoch [4/20], Train Loss: 1.6618, Train Accuracy: 43.81%, Test Loss: 1.5740, Test Accuracy: 48.41%\n",
            "New best accuracy: 48.41%\n"
          ]
        },
        {
          "output_type": "stream",
          "name": "stderr",
          "text": [
            "100%|██████████| 112/112 [00:06<00:00, 17.33it/s]\n"
          ]
        },
        {
          "output_type": "stream",
          "name": "stdout",
          "text": [
            "Epoch [5/20], Train Loss: 1.6046, Train Accuracy: 45.63%, Test Loss: 1.5492, Test Accuracy: 47.62%\n"
          ]
        },
        {
          "output_type": "stream",
          "name": "stderr",
          "text": [
            "100%|██████████| 112/112 [00:07<00:00, 15.20it/s]\n"
          ]
        },
        {
          "output_type": "stream",
          "name": "stdout",
          "text": [
            "Epoch [6/20], Train Loss: 1.4673, Train Accuracy: 47.87%, Test Loss: 1.2362, Test Accuracy: 50.16%\n",
            "New best accuracy: 50.16%\n"
          ]
        },
        {
          "output_type": "stream",
          "name": "stderr",
          "text": [
            "100%|██████████| 112/112 [00:07<00:00, 15.61it/s]\n"
          ]
        },
        {
          "output_type": "stream",
          "name": "stdout",
          "text": [
            "Epoch [7/20], Train Loss: 1.1947, Train Accuracy: 54.29%, Test Loss: 1.2072, Test Accuracy: 52.22%\n",
            "New best accuracy: 52.22%\n"
          ]
        },
        {
          "output_type": "stream",
          "name": "stderr",
          "text": [
            "100%|██████████| 112/112 [00:06<00:00, 17.51it/s]\n"
          ]
        },
        {
          "output_type": "stream",
          "name": "stdout",
          "text": [
            "Epoch [8/20], Train Loss: 1.1397, Train Accuracy: 55.91%, Test Loss: 1.1581, Test Accuracy: 56.19%\n",
            "New best accuracy: 56.19%\n"
          ]
        },
        {
          "output_type": "stream",
          "name": "stderr",
          "text": [
            "100%|██████████| 112/112 [00:07<00:00, 15.20it/s]\n"
          ]
        },
        {
          "output_type": "stream",
          "name": "stdout",
          "text": [
            "Epoch [9/20], Train Loss: 1.0905, Train Accuracy: 58.18%, Test Loss: 1.1100, Test Accuracy: 56.83%\n",
            "New best accuracy: 56.83%\n"
          ]
        },
        {
          "output_type": "stream",
          "name": "stderr",
          "text": [
            "100%|██████████| 112/112 [00:06<00:00, 17.40it/s]\n"
          ]
        },
        {
          "output_type": "stream",
          "name": "stdout",
          "text": [
            "Epoch [10/20], Train Loss: 1.0556, Train Accuracy: 59.69%, Test Loss: 1.0695, Test Accuracy: 58.89%\n",
            "New best accuracy: 58.89%\n"
          ]
        },
        {
          "output_type": "stream",
          "name": "stderr",
          "text": [
            "100%|██████████| 112/112 [00:07<00:00, 15.93it/s]\n"
          ]
        },
        {
          "output_type": "stream",
          "name": "stdout",
          "text": [
            "Epoch [11/20], Train Loss: 1.0363, Train Accuracy: 60.67%, Test Loss: 1.0893, Test Accuracy: 56.35%\n"
          ]
        },
        {
          "output_type": "stream",
          "name": "stderr",
          "text": [
            "100%|██████████| 112/112 [00:07<00:00, 15.24it/s]\n"
          ]
        },
        {
          "output_type": "stream",
          "name": "stdout",
          "text": [
            "Epoch [12/20], Train Loss: 1.0036, Train Accuracy: 61.48%, Test Loss: 1.1384, Test Accuracy: 55.87%\n"
          ]
        },
        {
          "output_type": "stream",
          "name": "stderr",
          "text": [
            "100%|██████████| 112/112 [00:06<00:00, 16.77it/s]\n"
          ]
        },
        {
          "output_type": "stream",
          "name": "stdout",
          "text": [
            "Epoch [13/20], Train Loss: 0.9757, Train Accuracy: 63.45%, Test Loss: 1.0767, Test Accuracy: 57.14%\n",
            "Stopping early: no improvement after two consecutive epochs.\n"
          ]
        }
      ]
    },
    {
      "cell_type": "code",
      "source": [
        "plt.plot(train_loss, label='Training Loss')\n",
        "plt.plot(val_loss, label='Vlidation Loss')\n",
        "plt.xlabel('Epochs')\n",
        "plt.ylabel('Loss')\n",
        "plt.legend()\n",
        "plt.show()"
      ],
      "metadata": {
        "colab": {
          "base_uri": "https://localhost:8080/",
          "height": 449
        },
        "id": "3C9yuVjFEuB3",
        "outputId": "bfc6436d-ca46-470e-a4ad-a0ae99129304"
      },
      "execution_count": null,
      "outputs": [
        {
          "output_type": "display_data",
          "data": {
            "text/plain": [
              "<Figure size 640x480 with 1 Axes>"
            ],
            "image/png": "[encoded data removed]"
          },
          "metadata": {}
        }
      ]
    }
  ]
}