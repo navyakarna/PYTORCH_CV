{
  "nbformat": 4,
  "nbformat_minor": 0,
  "metadata": {
    "colab": {
      "provenance": [],
      "authorship_tag": "ABX9TyOxD+Ar/LvFpEkPb3ALpB2c",
      "include_colab_link": true
    },
    "kernelspec": {
      "name": "python3",
      "display_name": "Python 3"
    },
    "language_info": {
      "name": "python"
    }
  },
  "cells": [
    {
      "cell_type": "markdown",
      "metadata": {
        "id": "view-in-github",
        "colab_type": "text"
      },
      "source": [
        "<a href=\"https://colab.research.google.com/github/navyakarna/PYTORCH_CV/blob/main/INCEPTION.ipynb\" target=\"_parent\"><img src=\"https://colab.research.google.com/assets/colab-badge.svg\" alt=\"Open In Colab\"/></a>"
      ]
    },
    {
      "cell_type": "markdown",
      "source": [
        "INCEPTION V1\n",
        "\n",
        "\n",
        "STEM - INCEPTION - INCEPTION - MAX-POOL\n",
        "\n",
        "\n",
        "INCEPTION BOX - CAPTURE INFROMATION\n",
        "THROUGH VARIOUS CONV ( DIFFERENT SIZES, AND MAX POOL LAYER)\n",
        "\n",
        "\n",
        "INCEPTION BLOCK ( 1X1 CONV : LINEARLY COMBINES MULTIPLE INPUT CHANNELS INTO A SINGLE OUTPUT CHANNEL)\n",
        "\n",
        "\n",
        "BASICALLY WE USE A FILTER OF( 1*1 CONV) BEFORE CHANNELING IT INTO MAJOR CONV LAYER -----> CHANNEL CONCAT\n",
        "\n",
        "\n",
        "\n",
        "STRIDE - 1 , PADDING REMAINS SAME THROUGHOUT\n",
        "\n",
        "\n",
        "TWO AUXILLARY CLASSIFIERS WERE INTRODUCED\n",
        "\n",
        "AUXILLARY CLASSIFIER STRUCTURE\n",
        "( AVG POOL 5*5 (S=3) AND ((S = 3, P =0 , K = 128) CONV 1*1) -> FULLY CONNECTED (RELU) - > FULLY CONNECTED (SOFTMAX)\n",
        "\n",
        "\n"
      ],
      "metadata": {
        "id": "8FPidWA76195"
      }
    },
    {
      "cell_type": "markdown",
      "source": [
        "THE STEM BLOCK\n",
        "\n",
        "(CONV - 7 * 7 [RELU][K = 64, S = 2, P =SAME]) -> (MAXPOOL - 3*3, S=2) -> (CONV - 3 * 3 [RELU][K = 192, S = 1, P= SAME]) - > ([RELU][K = 192, S = 1, P= SAME]) - > (MAXPOOL - 3*3 [S=2])"
      ],
      "metadata": {
        "id": "RU8Vg8XlAAR1"
      }
    },
    {
      "cell_type": "code",
      "execution_count": null,
      "metadata": {
        "id": "NB6OZf7s3NnE"
      },
      "outputs": [],
      "source": []
    }
  ]
}