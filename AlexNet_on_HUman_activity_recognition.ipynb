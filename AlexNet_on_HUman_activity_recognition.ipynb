{
  "nbformat": 4,
  "nbformat_minor": 0,
  "metadata": {
    "colab": {
      "provenance": [],
      "authorship_tag": "ABX9TyMVwPOm85u5bnDy7bAuy+KQ",
      "include_colab_link": true
    },
    "kernelspec": {
      "name": "python3",
      "display_name": "Python 3"
    },
    "language_info": {
      "name": "python"
    }
  },
  "cells": [
    {
      "cell_type": "markdown",
      "metadata": {
        "id": "view-in-github",
        "colab_type": "text"
      },
      "source": [
        "<a href=\"https://colab.research.google.com/github/navyakarna/PYTORCH_CV/blob/main/AlexNet_on_HUman_activity_recognition.ipynb\" target=\"_parent\"><img src=\"https://colab.research.google.com/assets/colab-badge.svg\" alt=\"Open In Colab\"/></a>"
      ]
    },
    {
      "cell_type": "markdown",
      "source": [
        "8 layers ,\n",
        "image size it could process is larger - 227X227\n",
        "pooling - maxpooling\n",
        "padding - yes\n",
        "activation function - RELU\n",
        "Dropout - 50%"
      ],
      "metadata": {
        "id": "u7S6c3LuhSU1"
      }
    },
    {
      "cell_type": "code",
      "execution_count": 1,
      "metadata": {
        "id": "aHMR-DFUg4g7"
      },
      "outputs": [],
      "source": [
        "import os\n",
        "import torch\n",
        "from torchvision import transforms , datasets\n",
        "from torch.utils.data import DataLoader"
      ]
    },
    {
      "cell_type": "code",
      "source": [
        "transform = transforms.Compose([\n",
        "    transforms.Resize((227,227)),\n",
        "    transforms.ToTensor(),\n",
        "    transforms.Normalize(mean=(0.5,0.5,0.5), std=(0.5,0.5,0.5))\n",
        "])"
      ],
      "metadata": {
        "id": "fPgw-xQRzvUv"
      },
      "execution_count": 2,
      "outputs": []
    },
    {
      "cell_type": "code",
      "source": [
        "from zipfile import ZipFile\n",
        "\n",
        "# Specify the path to your zip file\n",
        "zip_file_path = '/content/Archive.zip'\n",
        "\n",
        "# Specify the directory where you want to extract the contents\n",
        "extract_to_path = '/content/'\n",
        "\n",
        "# Open the zip file\n",
        "with ZipFile(zip_file_path, 'r') as zip_ref:\n",
        "    # Extract all contents to the specified directory\n",
        "    zip_ref.extractall(extract_to_path)\n",
        "\n",
        "print(f\"Extracted files to {extract_to_path}\")"
      ],
      "metadata": {
        "colab": {
          "base_uri": "https://localhost:8080/"
        },
        "id": "NEwi3exM1XJO",
        "outputId": "6fdae903-cc0f-4505-870e-c4a66e36a94a"
      },
      "execution_count": 4,
      "outputs": [
        {
          "output_type": "stream",
          "name": "stdout",
          "text": [
            "Extracted files to /content/\n"
          ]
        }
      ]
    },
    {
      "cell_type": "code",
      "source": [
        "#paths to the data\n",
        "\n",
        "train_data_path = r'/content/Human Action Recognition/test'\n",
        "test_data_path = r'/content/Human Action Recognition/test'"
      ],
      "metadata": {
        "id": "mCxBu2ir3CJ7"
      },
      "execution_count": 5,
      "outputs": []
    },
    {
      "cell_type": "code",
      "source": [
        "#apply the transforms to the train and test data\n",
        "train_data = datasets.ImageFolder(root=train_data_path, transform=transforms)\n",
        "test_data = datasets.ImageFolder(root=test_data_path, transform=transforms)"
      ],
      "metadata": {
        "id": "64aQeRj73gmU"
      },
      "execution_count": 6,
      "outputs": []
    },
    {
      "cell_type": "code",
      "source": [
        "import matplotlib.pyplot as plt\n",
        "import torch.nn.functional as F\n",
        "import torch.nn as nn\n",
        "import torch.optim as optim\n",
        "\n",
        "class AlexNet(nn.Module):\n",
        "  def __init__(self, num_classes=5):\n",
        "    super(AlexNet, self).__init__()  # Add super().__init__() call\n",
        "    self.features = nn.Sequential(\n",
        "    nn.Conv2d(3, 64, kernel_size=11, stride=4, padding=2), # Corrected kernel_sie to kernel_size\n",
        "    nn.ReLU(inplace=True),\n",
        "    nn.MaxPool2d(kernel_size=3, stride=2),\n",
        "    nn.Conv2d(64, 192, kernel_size=5, padding=2),\n",
        "    nn.ReLU(inplace=True),\n",
        "    nn.MaxPool2d(kernel_size=3, stride=2),\n",
        "    nn.Conv2d(192, 384, kernel_size=3, padding=1),\n",
        "    nn.ReLU(inplace=True),\n",
        "    nn.Conv2d(384, 256, kernel_size=3, padding=1),\n",
        "    nn.ReLU(inplace=True),\n",
        "    nn.Conv2d(256, 256, kernel_size=3, padding=1),\n",
        "    nn.ReLU(inplace=True),\n",
        "    nn.MaxPool2d(kernel_size=3, stride=2)\n",
        "    )\n",
        "\n",
        "\n",
        "    self.fc_input_dim = 256*6*6 #calaculate the size of the feature map after the last ReLu function\n",
        "\n",
        "    self.classifier = nn.Sequential(\n",
        "        nn.Dropout(p=0.5, inplace=False),\n",
        "        nn.Linear(self.fc_input_dim, 4096),\n",
        "        nn.ReLU(inplace=True),\n",
        "        nn.Dropout(),\n",
        "        nn.Linear(4096, 4096),\n",
        "        nn.ReLU(inplace=True),\n",
        "        nn.Linear(4096, num_classes),\n",
        "\n",
        "\n",
        "    )\n",
        "\n",
        "\n",
        "\n",
        "  def forward(self, x): # Corrected indentation for forward method\n",
        "      x = self.features(x)\n",
        "      x = x.view(x.size(0), -1)\n",
        "      x = self.classifier(x)\n",
        "      return x\n",
        "\n",
        "\n",
        "\n"
      ],
      "metadata": {
        "id": "c6eZmCNg4VKd"
      },
      "execution_count": 7,
      "outputs": []
    },
    {
      "cell_type": "code",
      "source": [
        "device = torch.device(\"cuda\" if torch.cuda.is_available() else \"cpu\")"
      ],
      "metadata": {
        "id": "_7OR2jHkJwtU"
      },
      "execution_count": 8,
      "outputs": []
    },
    {
      "cell_type": "code",
      "source": [
        "device"
      ],
      "metadata": {
        "colab": {
          "base_uri": "https://localhost:8080/"
        },
        "id": "K_rHERXNLuX2",
        "outputId": "6b0a79e5-d3de-4afc-a91f-d5836c2f679b"
      },
      "execution_count": 9,
      "outputs": [
        {
          "output_type": "execute_result",
          "data": {
            "text/plain": [
              "device(type='cpu')"
            ]
          },
          "metadata": {},
          "execution_count": 9
        }
      ]
    },
    {
      "cell_type": "code",
      "source": [
        "import torch.optim as optim\n",
        "model = AlexNet()\n",
        "\n",
        "#define loss function and optimizers\n",
        "criterion = nn.CrossEntropyLoss()\n",
        "optimier = optim.Adam(model.parameters())"
      ],
      "metadata": {
        "id": "BgKPDOeVLv3L"
      },
      "execution_count": 10,
      "outputs": []
    },
    {
      "cell_type": "code",
      "source": [
        "import torch\n",
        "from tqdm import tqdm\n",
        "import matplotlib.pyplot as plt\n",
        "from torch.utils.data import DataLoader # Import DataLoader\n",
        "\n",
        "# Initialize the lists to store train and test loss for each epoch\n",
        "train_losses = []\n",
        "test_losses = []\n",
        "\n",
        "# Define batch size\n",
        "batch_size = 32  # You can adjust this value\n",
        "\n",
        "# Create data loaders\n",
        "train_data = datasets.ImageFolder(root=train_data_path, transform=transform) # Use the 'transform' object\n",
        "test_data = datasets.ImageFolder(root=test_data_path, transform=transform) # Use the 'transform' object\n",
        "train_loader = DataLoader(train_data, batch_size=batch_size, shuffle=True)\n",
        "test_loader = DataLoader(test_data, batch_size=batch_size, shuffle=False)\n",
        "\n",
        "\n",
        "# Train the model\n",
        "num_epochs = 20\n",
        "best_loss = torch.inf\n",
        "patience = 5\n",
        "epochs_since_best = 0\n",
        "\n",
        "for epoch in range(num_epochs):\n",
        "    model.train()\n",
        "    running_loss = 0.0\n",
        "    correct = 0\n",
        "    total = 0\n",
        "\n",
        "    for images, labels in tqdm(train_loader):\n",
        "        images, labels = images.to(device), labels.to(device)\n",
        "        optimier.zero_grad() # Use the defined optimizer name 'optimier'\n",
        "        outputs = model(images)\n",
        "        if isinstance(outputs, tuple):\n",
        "            outputs = outputs[0]  # For models that return auxiliary outputs\n",
        "        loss = criterion(outputs, labels)\n",
        "        loss.backward()\n",
        "        optimier.step() # Use the defined optimizer name 'optimier'\n",
        "        running_loss += loss.item()\n",
        "        _, predicted = outputs.max(1)\n",
        "        total += labels.size(0)\n",
        "        correct += predicted.eq(labels).sum().item()\n",
        "        # The line below is causing the error. It's not clear what 'sample' is\n",
        "        # supposed to be here, and 'self.transform' is not defined in this scope.\n",
        "        # If you intended to apply a transformation, 'transform' is already\n",
        "        # applied when creating the DataLoader with the ImageFolder dataset.\n",
        "        # sample = transform(sample)  # Removed the problematic line\n",
        "\n",
        "    train_loss = running_loss / len(train_loader)\n",
        "    train_losses.append(train_loss)  # Store the train loss for this epoch\n",
        "    train_accuracy = 100. * correct / total\n",
        "\n",
        "    print(f'Epoch [{epoch + 1}/{num_epochs}], '\n",
        "          f'Train Loss: {train_loss:.4f}, Train Accuracy: {train_accuracy:.2f}%')\n",
        "\n",
        "    # Evaluate on the test set\n",
        "    model.eval()\n",
        "    test_loss = 0.0\n",
        "    correct = 0\n",
        "    total = 0\n",
        "\n",
        "    with torch.no_grad():\n",
        "        for images, labels in test_loader:\n",
        "            images, labels = images.to(device), labels.to(device)\n",
        "            outputs = model(images)\n",
        "            if isinstance(outputs, tuple):\n",
        "                outputs = outputs[0]  # For models that return auxiliary outputs\n",
        "            loss = criterion(outputs, labels)\n",
        "            test_loss += loss.item()\n",
        "            _, predicted = outputs.max(1)\n",
        "            total += labels.size(0)\n",
        "            correct += predicted.eq(labels).sum().item()\n",
        "\n",
        "    test_loss /= len(test_loader)\n",
        "    test_losses.append(test_loss)  # Store the test loss for this epoch\n",
        "    test_accuracy = 100. * correct / total\n",
        "\n",
        "    print(f'Test Loss: {test_loss:.4f}, Test Accuracy: {test_accuracy:.2f}%')\n",
        "\n",
        "    # Check for best accuracy and stop if not improved after five more epochs\n",
        "    if test_loss < best_loss:\n",
        "        best_loss = test_loss\n",
        "        epochs_since_best = 0\n",
        "        torch.save(model.state_dict(), 'best_model.pth')  # Save the model\n",
        "        print(f'Updated best model with accuracy: {test_accuracy:.2f}%')\n",
        "    else:\n",
        "        epochs_since_best += 1\n",
        "        if epochs_since_best > patience:\n",
        "            print(\"Stopping early: no improvement after five consecutive epochs.\")\n",
        "            break\n"
      ],
      "metadata": {
        "id": "GhlIUeIvNNnZ",
        "colab": {
          "base_uri": "https://localhost:8080/"
        },
        "outputId": "3f6a73d6-da03-446b-d9f7-398e05f3bb87"
      },
      "execution_count": 17,
      "outputs": [
        {
          "metadata": {
            "tags": null
          },
          "name": "stderr",
          "output_type": "stream",
          "text": [
            "100%|██████████| 20/20 [01:17<00:00,  3.89s/it]\n"
          ]
        },
        {
          "metadata": {
            "tags": null
          },
          "name": "stdout",
          "output_type": "stream",
          "text": [
            "Epoch [1/20], Train Loss: 1.8155, Train Accuracy: 16.83%\n",
            "Test Loss: 1.6086, Test Accuracy: 19.84%\n",
            "Updated best model with accuracy: 19.84%\n"
          ]
        },
        {
          "metadata": {
            "tags": null
          },
          "name": "stderr",
          "output_type": "stream",
          "text": [
            "100%|██████████| 20/20 [01:09<00:00,  3.50s/it]\n"
          ]
        },
        {
          "metadata": {
            "tags": null
          },
          "name": "stdout",
          "output_type": "stream",
          "text": [
            "Epoch [2/20], Train Loss: 1.6108, Train Accuracy: 20.95%\n",
            "Test Loss: 1.6043, Test Accuracy: 24.13%\n",
            "Updated best model with accuracy: 24.13%\n"
          ]
        },
        {
          "metadata": {
            "tags": null
          },
          "name": "stderr",
          "output_type": "stream",
          "text": [
            "100%|██████████| 20/20 [01:07<00:00,  3.37s/it]\n"
          ]
        },
        {
          "metadata": {
            "tags": null
          },
          "name": "stdout",
          "output_type": "stream",
          "text": [
            "Epoch [3/20], Train Loss: 1.6007, Train Accuracy: 24.92%\n",
            "Test Loss: 1.5545, Test Accuracy: 29.37%\n",
            "Updated best model with accuracy: 29.37%\n"
          ]
        },
        {
          "metadata": {
            "tags": null
          },
          "name": "stderr",
          "output_type": "stream",
          "text": [
            "100%|██████████| 20/20 [01:07<00:00,  3.35s/it]\n"
          ]
        },
        {
          "metadata": {
            "tags": null
          },
          "name": "stdout",
          "output_type": "stream",
          "text": [
            "Epoch [4/20], Train Loss: 1.5682, Train Accuracy: 27.46%\n",
            "Test Loss: 1.5534, Test Accuracy: 34.44%\n",
            "Updated best model with accuracy: 34.44%\n"
          ]
        },
        {
          "metadata": {
            "tags": null
          },
          "name": "stderr",
          "output_type": "stream",
          "text": [
            "100%|██████████| 20/20 [01:08<00:00,  3.42s/it]\n"
          ]
        },
        {
          "metadata": {
            "tags": null
          },
          "name": "stdout",
          "output_type": "stream",
          "text": [
            "Epoch [5/20], Train Loss: 1.5381, Train Accuracy: 32.54%\n",
            "Test Loss: 1.5233, Test Accuracy: 31.59%\n",
            "Updated best model with accuracy: 31.59%\n"
          ]
        },
        {
          "metadata": {
            "tags": null
          },
          "name": "stderr",
          "output_type": "stream",
          "text": [
            "100%|██████████| 20/20 [01:08<00:00,  3.42s/it]\n"
          ]
        },
        {
          "metadata": {
            "tags": null
          },
          "name": "stdout",
          "output_type": "stream",
          "text": [
            "Epoch [6/20], Train Loss: 1.5162, Train Accuracy: 32.38%\n",
            "Test Loss: 1.4658, Test Accuracy: 34.92%\n",
            "Updated best model with accuracy: 34.92%\n"
          ]
        },
        {
          "metadata": {
            "tags": null
          },
          "name": "stderr",
          "output_type": "stream",
          "text": [
            "100%|██████████| 20/20 [01:07<00:00,  3.40s/it]\n"
          ]
        },
        {
          "metadata": {
            "tags": null
          },
          "name": "stdout",
          "output_type": "stream",
          "text": [
            "Epoch [7/20], Train Loss: 1.5165, Train Accuracy: 31.59%\n",
            "Test Loss: 1.5588, Test Accuracy: 28.41%\n"
          ]
        },
        {
          "metadata": {
            "tags": null
          },
          "name": "stderr",
          "output_type": "stream",
          "text": [
            "100%|██████████| 20/20 [01:13<00:00,  3.67s/it]\n"
          ]
        },
        {
          "metadata": {
            "tags": null
          },
          "name": "stdout",
          "output_type": "stream",
          "text": [
            "Epoch [8/20], Train Loss: 1.5276, Train Accuracy: 28.73%\n",
            "Test Loss: 1.4748, Test Accuracy: 36.35%\n"
          ]
        },
        {
          "metadata": {
            "tags": null
          },
          "name": "stderr",
          "output_type": "stream",
          "text": [
            "100%|██████████| 20/20 [01:07<00:00,  3.40s/it]\n"
          ]
        },
        {
          "metadata": {
            "tags": null
          },
          "name": "stdout",
          "output_type": "stream",
          "text": [
            "Epoch [9/20], Train Loss: 1.4691, Train Accuracy: 39.84%\n",
            "Test Loss: 1.5147, Test Accuracy: 30.00%\n"
          ]
        },
        {
          "metadata": {
            "tags": null
          },
          "name": "stderr",
          "output_type": "stream",
          "text": [
            "100%|██████████| 20/20 [01:08<00:00,  3.42s/it]\n"
          ]
        },
        {
          "metadata": {
            "tags": null
          },
          "name": "stdout",
          "output_type": "stream",
          "text": [
            "Epoch [10/20], Train Loss: 1.4567, Train Accuracy: 37.62%\n",
            "Test Loss: 1.3935, Test Accuracy: 42.86%\n",
            "Updated best model with accuracy: 42.86%\n"
          ]
        },
        {
          "metadata": {
            "tags": null
          },
          "name": "stderr",
          "output_type": "stream",
          "text": [
            "100%|██████████| 20/20 [01:08<00:00,  3.43s/it]\n"
          ]
        },
        {
          "metadata": {
            "tags": null
          },
          "name": "stdout",
          "output_type": "stream",
          "text": [
            "Epoch [11/20], Train Loss: 1.3999, Train Accuracy: 40.16%\n",
            "Test Loss: 1.3221, Test Accuracy: 46.19%\n",
            "Updated best model with accuracy: 46.19%\n"
          ]
        },
        {
          "metadata": {
            "tags": null
          },
          "name": "stderr",
          "output_type": "stream",
          "text": [
            "100%|██████████| 20/20 [01:08<00:00,  3.44s/it]\n"
          ]
        },
        {
          "metadata": {
            "tags": null
          },
          "name": "stdout",
          "output_type": "stream",
          "text": [
            "Epoch [12/20], Train Loss: 1.4074, Train Accuracy: 40.32%\n",
            "Test Loss: 1.3080, Test Accuracy: 47.30%\n",
            "Updated best model with accuracy: 47.30%\n"
          ]
        },
        {
          "metadata": {
            "tags": null
          },
          "name": "stderr",
          "output_type": "stream",
          "text": [
            "100%|██████████| 20/20 [01:09<00:00,  3.48s/it]\n"
          ]
        },
        {
          "metadata": {
            "tags": null
          },
          "name": "stdout",
          "output_type": "stream",
          "text": [
            "Epoch [13/20], Train Loss: 1.3910, Train Accuracy: 43.02%\n",
            "Test Loss: 1.3526, Test Accuracy: 43.02%\n"
          ]
        },
        {
          "metadata": {
            "tags": null
          },
          "name": "stderr",
          "output_type": "stream",
          "text": [
            "100%|██████████| 20/20 [01:12<00:00,  3.62s/it]\n"
          ]
        },
        {
          "metadata": {
            "tags": null
          },
          "name": "stdout",
          "output_type": "stream",
          "text": [
            "Epoch [14/20], Train Loss: 1.3723, Train Accuracy: 41.43%\n",
            "Test Loss: 1.3298, Test Accuracy: 47.46%\n"
          ]
        },
        {
          "metadata": {
            "tags": null
          },
          "name": "stderr",
          "output_type": "stream",
          "text": [
            "100%|██████████| 20/20 [01:15<00:00,  3.76s/it]\n"
          ]
        },
        {
          "metadata": {
            "tags": null
          },
          "name": "stdout",
          "output_type": "stream",
          "text": [
            "Epoch [15/20], Train Loss: 1.3725, Train Accuracy: 42.70%\n",
            "Test Loss: 1.2884, Test Accuracy: 45.24%\n",
            "Updated best model with accuracy: 45.24%\n"
          ]
        },
        {
          "metadata": {
            "tags": null
          },
          "name": "stderr",
          "output_type": "stream",
          "text": [
            "100%|██████████| 20/20 [01:08<00:00,  3.44s/it]\n"
          ]
        },
        {
          "metadata": {
            "tags": null
          },
          "name": "stdout",
          "output_type": "stream",
          "text": [
            "Epoch [16/20], Train Loss: 1.3219, Train Accuracy: 45.87%\n",
            "Test Loss: 1.2329, Test Accuracy: 48.57%\n",
            "Updated best model with accuracy: 48.57%\n"
          ]
        },
        {
          "metadata": {
            "tags": null
          },
          "name": "stderr",
          "output_type": "stream",
          "text": [
            "100%|██████████| 20/20 [01:08<00:00,  3.42s/it]\n"
          ]
        },
        {
          "metadata": {
            "tags": null
          },
          "name": "stdout",
          "output_type": "stream",
          "text": [
            "Epoch [17/20], Train Loss: 1.2772, Train Accuracy: 45.08%\n",
            "Test Loss: 1.1123, Test Accuracy: 54.92%\n",
            "Updated best model with accuracy: 54.92%\n"
          ]
        },
        {
          "metadata": {
            "tags": null
          },
          "name": "stderr",
          "output_type": "stream",
          "text": [
            "100%|██████████| 20/20 [01:07<00:00,  3.37s/it]\n"
          ]
        },
        {
          "metadata": {
            "tags": null
          },
          "name": "stdout",
          "output_type": "stream",
          "text": [
            "Epoch [18/20], Train Loss: 1.1876, Train Accuracy: 49.05%\n",
            "Test Loss: 1.1551, Test Accuracy: 51.75%\n"
          ]
        },
        {
          "metadata": {
            "tags": null
          },
          "name": "stderr",
          "output_type": "stream",
          "text": [
            "100%|██████████| 20/20 [01:08<00:00,  3.43s/it]\n"
          ]
        },
        {
          "metadata": {
            "tags": null
          },
          "name": "stdout",
          "output_type": "stream",
          "text": [
            "Epoch [19/20], Train Loss: 1.1742, Train Accuracy: 52.38%\n",
            "Test Loss: 1.1023, Test Accuracy: 60.16%\n",
            "Updated best model with accuracy: 60.16%\n"
          ]
        },
        {
          "metadata": {
            "tags": null
          },
          "name": "stderr",
          "output_type": "stream",
          "text": [
            "100%|██████████| 20/20 [01:11<00:00,  3.60s/it]\n"
          ]
        },
        {
          "output_type": "stream",
          "name": "stdout",
          "text": [
            "Epoch [20/20], Train Loss: 1.1243, Train Accuracy: 53.97%\n",
            "Test Loss: 0.9556, Test Accuracy: 64.44%\n",
            "Updated best model with accuracy: 64.44%\n"
          ]
        }
      ]
    },
    {
      "cell_type": "code",
      "source": [
        "plt.plot(train_losses, label='Training Loss')\n",
        "plt.plot(test_losses, label='Test Loss')\n",
        "plt.xlabel('Epochs')\n",
        "plt.ylabel('Loss')\n",
        "plt.legend()\n",
        "plt.show()"
      ],
      "metadata": {
        "colab": {
          "base_uri": "https://localhost:8080/",
          "height": 449
        },
        "id": "vS85t3vxpDJN",
        "outputId": "81e0f0ac-1150-4d54-bf5b-c041ec6e3466"
      },
      "execution_count": 18,
      "outputs": [
        {
          "output_type": "display_data",
          "data": {
            "text/plain": [
              "<Figure size 640x480 with 1 Axes>"
            ],
            "image/png": "[encoded data removed]"
          },
          "metadata": {}
        }
      ]
    }
  ]
}