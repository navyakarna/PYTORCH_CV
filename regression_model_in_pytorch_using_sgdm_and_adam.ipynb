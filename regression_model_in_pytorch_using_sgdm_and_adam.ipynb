{
  "nbformat": 4,
  "nbformat_minor": 0,
  "metadata": {
    "colab": {
      "provenance": [],
      "authorship_tag": "ABX9TyOXfqZoyWuqueshxVN0Ud95",
      "include_colab_link": true
    },
    "kernelspec": {
      "name": "python3",
      "display_name": "Python 3"
    },
    "language_info": {
      "name": "python"
    }
  },
  "cells": [
    {
      "cell_type": "markdown",
      "metadata": {
        "id": "view-in-github",
        "colab_type": "text"
      },
      "source": [
        "<a href=\"https://colab.research.google.com/github/navyakarna/PYTORCH_CV/blob/main/regression_model_in_pytorch_using_sgdm_and_adam.ipynb\" target=\"_parent\"><img src=\"https://colab.research.google.com/assets/colab-badge.svg\" alt=\"Open In Colab\"/></a>"
      ]
    },
    {
      "cell_type": "code",
      "execution_count": 1,
      "metadata": {
        "id": "-cQvg_VWc8E7"
      },
      "outputs": [],
      "source": [
        "import pandas as pd\n"
      ]
    },
    {
      "cell_type": "code",
      "source": [
        "df = pd.read_csv(\"/content/Bank of Trust Dataset.csv\")\n",
        "df.head()\n",
        "# load the data"
      ],
      "metadata": {
        "colab": {
          "base_uri": "https://localhost:8080/",
          "height": 256
        },
        "id": "9QAVzloTPW6E",
        "outputId": "2a11adea-1898-400e-9a69-4a6659444561"
      },
      "execution_count": 3,
      "outputs": [
        {
          "output_type": "execute_result",
          "data": {
            "text/plain": [
              "      id account_type gender  age  region_code  cc_cons_apr  dc_cons_apr  \\\n",
              "0  23334       saving      M   63          305      7695.00          NaN   \n",
              "1  20329      current      M   33          326     52702.00       988.72   \n",
              "2  17679      current      M   44          264     10800.49      3215.52   \n",
              "3  16428       saving      M   44          233     20936.00          NaN   \n",
              "4  18721       saving      F   35          324      1183.83          NaN   \n",
              "\n",
              "   cc_cons_may  dc_cons_may  cc_cons_jun  ...  debit_count_may  \\\n",
              "0       479.00          NaN        622.0  ...              2.0   \n",
              "1     29873.00          NaN       1087.0  ...             10.0   \n",
              "2     21659.64       1607.0       1168.0  ...              7.0   \n",
              "3      2094.00          NaN      11778.5  ...              1.0   \n",
              "4      3656.29          NaN        945.0  ...              3.0   \n",
              "\n",
              "   max_credit_amount_may  debit_amount_jun  credit_amount_jun  \\\n",
              "0                45000.0          20215.85            1279.37   \n",
              "1               150000.0         122037.66           55390.00   \n",
              "2                13800.0          46827.00           29297.91   \n",
              "3                19300.0           5426.55            7544.00   \n",
              "4                 3000.0          26178.05           53483.00   \n",
              "\n",
              "   credit_count_jun  debit_count_jun  max_credit_amount_jun  loan_enq  \\\n",
              "0               7.0              3.0                  470.0       NaN   \n",
              "1               8.0             19.0                27000.0       NaN   \n",
              "2               6.0             19.0                20800.0       NaN   \n",
              "3               3.0              1.0                 5300.0       NaN   \n",
              "4               4.0              4.0                45000.0       NaN   \n",
              "\n",
              "   emi_active  cc_cons  \n",
              "0        0.00      435  \n",
              "1     4963.33     1921  \n",
              "2        0.00     1970  \n",
              "3     1238.18    21579  \n",
              "4        0.00     1814  \n",
              "\n",
              "[5 rows x 44 columns]"
            ],
            "text/html": [
              "\n",
              "  <div id=\"df-658d5e42-ea84-4303-a623-9d6c515ab991\" class=\"colab-df-container\">\n",
              "    <div>\n",
              "<style scoped>\n",
              "    .dataframe tbody tr th:only-of-type {\n",
              "        vertical-align: middle;\n",
              "    }\n",
              "\n",
              "    .dataframe tbody tr th {\n",
              "        vertical-align: top;\n",
              "    }\n",
              "\n",
              "    .dataframe thead th {\n",
              "        text-align: right;\n",
              "    }\n",
              "</style>\n",
              "<table border=\"1\" class=\"dataframe\">\n",
              "  <thead>\n",
              "    <tr style=\"text-align: right;\">\n",
              "      <th></th>\n",
              "      <th>id</th>\n",
              "      <th>account_type</th>\n",
              "      <th>gender</th>\n",
              "      <th>age</th>\n",
              "      <th>region_code</th>\n",
              "      <th>cc_cons_apr</th>\n",
              "      <th>dc_cons_apr</th>\n",
              "      <th>cc_cons_may</th>\n",
              "      <th>dc_cons_may</th>\n",
              "      <th>cc_cons_jun</th>\n",
              "      <th>...</th>\n",
              "      <th>debit_count_may</th>\n",
              "      <th>max_credit_amount_may</th>\n",
              "      <th>debit_amount_jun</th>\n",
              "      <th>credit_amount_jun</th>\n",
              "      <th>credit_count_jun</th>\n",
              "      <th>debit_count_jun</th>\n",
              "      <th>max_credit_amount_jun</th>\n",
              "      <th>loan_enq</th>\n",
              "      <th>emi_active</th>\n",
              "      <th>cc_cons</th>\n",
              "    </tr>\n",
              "  </thead>\n",
              "  <tbody>\n",
              "    <tr>\n",
              "      <th>0</th>\n",
              "      <td>23334</td>\n",
              "      <td>saving</td>\n",
              "      <td>M</td>\n",
              "      <td>63</td>\n",
              "      <td>305</td>\n",
              "      <td>7695.00</td>\n",
              "      <td>NaN</td>\n",
              "      <td>479.00</td>\n",
              "      <td>NaN</td>\n",
              "      <td>622.0</td>\n",
              "      <td>...</td>\n",
              "      <td>2.0</td>\n",
              "      <td>45000.0</td>\n",
              "      <td>20215.85</td>\n",
              "      <td>1279.37</td>\n",
              "      <td>7.0</td>\n",
              "      <td>3.0</td>\n",
              "      <td>470.0</td>\n",
              "      <td>NaN</td>\n",
              "      <td>0.00</td>\n",
              "      <td>435</td>\n",
              "    </tr>\n",
              "    <tr>\n",
              "      <th>1</th>\n",
              "      <td>20329</td>\n",
              "      <td>current</td>\n",
              "      <td>M</td>\n",
              "      <td>33</td>\n",
              "      <td>326</td>\n",
              "      <td>52702.00</td>\n",
              "      <td>988.72</td>\n",
              "      <td>29873.00</td>\n",
              "      <td>NaN</td>\n",
              "      <td>1087.0</td>\n",
              "      <td>...</td>\n",
              "      <td>10.0</td>\n",
              "      <td>150000.0</td>\n",
              "      <td>122037.66</td>\n",
              "      <td>55390.00</td>\n",
              "      <td>8.0</td>\n",
              "      <td>19.0</td>\n",
              "      <td>27000.0</td>\n",
              "      <td>NaN</td>\n",
              "      <td>4963.33</td>\n",
              "      <td>1921</td>\n",
              "    </tr>\n",
              "    <tr>\n",
              "      <th>2</th>\n",
              "      <td>17679</td>\n",
              "      <td>current</td>\n",
              "      <td>M</td>\n",
              "      <td>44</td>\n",
              "      <td>264</td>\n",
              "      <td>10800.49</td>\n",
              "      <td>3215.52</td>\n",
              "      <td>21659.64</td>\n",
              "      <td>1607.0</td>\n",
              "      <td>1168.0</td>\n",
              "      <td>...</td>\n",
              "      <td>7.0</td>\n",
              "      <td>13800.0</td>\n",
              "      <td>46827.00</td>\n",
              "      <td>29297.91</td>\n",
              "      <td>6.0</td>\n",
              "      <td>19.0</td>\n",
              "      <td>20800.0</td>\n",
              "      <td>NaN</td>\n",
              "      <td>0.00</td>\n",
              "      <td>1970</td>\n",
              "    </tr>\n",
              "    <tr>\n",
              "      <th>3</th>\n",
              "      <td>16428</td>\n",
              "      <td>saving</td>\n",
              "      <td>M</td>\n",
              "      <td>44</td>\n",
              "      <td>233</td>\n",
              "      <td>20936.00</td>\n",
              "      <td>NaN</td>\n",
              "      <td>2094.00</td>\n",
              "      <td>NaN</td>\n",
              "      <td>11778.5</td>\n",
              "      <td>...</td>\n",
              "      <td>1.0</td>\n",
              "      <td>19300.0</td>\n",
              "      <td>5426.55</td>\n",
              "      <td>7544.00</td>\n",
              "      <td>3.0</td>\n",
              "      <td>1.0</td>\n",
              "      <td>5300.0</td>\n",
              "      <td>NaN</td>\n",
              "      <td>1238.18</td>\n",
              "      <td>21579</td>\n",
              "    </tr>\n",
              "    <tr>\n",
              "      <th>4</th>\n",
              "      <td>18721</td>\n",
              "      <td>saving</td>\n",
              "      <td>F</td>\n",
              "      <td>35</td>\n",
              "      <td>324</td>\n",
              "      <td>1183.83</td>\n",
              "      <td>NaN</td>\n",
              "      <td>3656.29</td>\n",
              "      <td>NaN</td>\n",
              "      <td>945.0</td>\n",
              "      <td>...</td>\n",
              "      <td>3.0</td>\n",
              "      <td>3000.0</td>\n",
              "      <td>26178.05</td>\n",
              "      <td>53483.00</td>\n",
              "      <td>4.0</td>\n",
              "      <td>4.0</td>\n",
              "      <td>45000.0</td>\n",
              "      <td>NaN</td>\n",
              "      <td>0.00</td>\n",
              "      <td>1814</td>\n",
              "    </tr>\n",
              "  </tbody>\n",
              "</table>\n",
              "<p>5 rows × 44 columns</p>\n",
              "</div>\n",
              "    <div class=\"colab-df-buttons\">\n",
              "\n",
              "  <div class=\"colab-df-container\">\n",
              "    <button class=\"colab-df-convert\" onclick=\"convertToInteractive('df-658d5e42-ea84-4303-a623-9d6c515ab991')\"\n",
              "            title=\"Convert this dataframe to an interactive table.\"\n",
              "            style=\"display:none;\">\n",
              "\n",
              "  <svg xmlns=\"http://www.w3.org/2000/svg\" height=\"24px\" viewBox=\"0 -960 960 960\">\n",
              "    <path d=\"M120-120v-720h720v720H120Zm60-500h600v-160H180v160Zm220 220h160v-160H400v160Zm0 220h160v-160H400v160ZM180-400h160v-160H180v160Zm440 0h160v-160H620v160ZM180-180h160v-160H180v160Zm440 0h160v-160H620v160Z\"/>\n",
              "  </svg>\n",
              "    </button>\n",
              "\n",
              "  <style>\n",
              "    .colab-df-container {\n",
              "      display:flex;\n",
              "      gap: 12px;\n",
              "    }\n",
              "\n",
              "    .colab-df-convert {\n",
              "      background-color: #E8F0FE;\n",
              "      border: none;\n",
              "      border-radius: 50%;\n",
              "      cursor: pointer;\n",
              "      display: none;\n",
              "      fill: #1967D2;\n",
              "      height: 32px;\n",
              "      padding: 0 0 0 0;\n",
              "      width: 32px;\n",
              "    }\n",
              "\n",
              "    .colab-df-convert:hover {\n",
              "      background-color: #E2EBFA;\n",
              "      box-shadow: 0px 1px 2px rgba(60, 64, 67, 0.3), 0px 1px 3px 1px rgba(60, 64, 67, 0.15);\n",
              "      fill: #174EA6;\n",
              "    }\n",
              "\n",
              "    .colab-df-buttons div {\n",
              "      margin-bottom: 4px;\n",
              "    }\n",
              "\n",
              "    [theme=dark] .colab-df-convert {\n",
              "      background-color: #3B4455;\n",
              "      fill: #D2E3FC;\n",
              "    }\n",
              "\n",
              "    [theme=dark] .colab-df-convert:hover {\n",
              "      background-color: #434B5C;\n",
              "      box-shadow: 0px 1px 3px 1px rgba(0, 0, 0, 0.15);\n",
              "      filter: drop-shadow(0px 1px 2px rgba(0, 0, 0, 0.3));\n",
              "      fill: #FFFFFF;\n",
              "    }\n",
              "  </style>\n",
              "\n",
              "    <script>\n",
              "      const buttonEl =\n",
              "        document.querySelector('#df-658d5e42-ea84-4303-a623-9d6c515ab991 button.colab-df-convert');\n",
              "      buttonEl.style.display =\n",
              "        google.colab.kernel.accessAllowed ? 'block' : 'none';\n",
              "\n",
              "      async function convertToInteractive(key) {\n",
              "        const element = document.querySelector('#df-658d5e42-ea84-4303-a623-9d6c515ab991');\n",
              "        const dataTable =\n",
              "          await google.colab.kernel.invokeFunction('convertToInteractive',\n",
              "                                                    [key], {});\n",
              "        if (!dataTable) return;\n",
              "\n",
              "        const docLinkHtml = 'Like what you see? Visit the ' +\n",
              "          '<a target=\"_blank\" href=https://colab.research.google.com/notebooks/data_table.ipynb>data table notebook</a>'\n",
              "          + ' to learn more about interactive tables.';\n",
              "        element.innerHTML = '';\n",
              "        dataTable['output_type'] = 'display_data';\n",
              "        await google.colab.output.renderOutput(dataTable, element);\n",
              "        const docLink = document.createElement('div');\n",
              "        docLink.innerHTML = docLinkHtml;\n",
              "        element.appendChild(docLink);\n",
              "      }\n",
              "    </script>\n",
              "  </div>\n",
              "\n",
              "\n",
              "<div id=\"df-fa88d884-835f-4527-b541-594192418434\">\n",
              "  <button class=\"colab-df-quickchart\" onclick=\"quickchart('df-fa88d884-835f-4527-b541-594192418434')\"\n",
              "            title=\"Suggest charts\"\n",
              "            style=\"display:none;\">\n",
              "\n",
              "<svg xmlns=\"http://www.w3.org/2000/svg\" height=\"24px\"viewBox=\"0 0 24 24\"\n",
              "     width=\"24px\">\n",
              "    <g>\n",
              "        <path d=\"M19 3H5c-1.1 0-2 .9-2 2v14c0 1.1.9 2 2 2h14c1.1 0 2-.9 2-2V5c0-1.1-.9-2-2-2zM9 17H7v-7h2v7zm4 0h-2V7h2v10zm4 0h-2v-4h2v4z\"/>\n",
              "    </g>\n",
              "</svg>\n",
              "  </button>\n",
              "\n",
              "<style>\n",
              "  .colab-df-quickchart {\n",
              "      --bg-color: #E8F0FE;\n",
              "      --fill-color: #1967D2;\n",
              "      --hover-bg-color: #E2EBFA;\n",
              "      --hover-fill-color: #174EA6;\n",
              "      --disabled-fill-color: #AAA;\n",
              "      --disabled-bg-color: #DDD;\n",
              "  }\n",
              "\n",
              "  [theme=dark] .colab-df-quickchart {\n",
              "      --bg-color: #3B4455;\n",
              "      --fill-color: #D2E3FC;\n",
              "      --hover-bg-color: #434B5C;\n",
              "      --hover-fill-color: #FFFFFF;\n",
              "      --disabled-bg-color: #3B4455;\n",
              "      --disabled-fill-color: #666;\n",
              "  }\n",
              "\n",
              "  .colab-df-quickchart {\n",
              "    background-color: var(--bg-color);\n",
              "    border: none;\n",
              "    border-radius: 50%;\n",
              "    cursor: pointer;\n",
              "    display: none;\n",
              "    fill: var(--fill-color);\n",
              "    height: 32px;\n",
              "    padding: 0;\n",
              "    width: 32px;\n",
              "  }\n",
              "\n",
              "  .colab-df-quickchart:hover {\n",
              "    background-color: var(--hover-bg-color);\n",
              "    box-shadow: 0 1px 2px rgba(60, 64, 67, 0.3), 0 1px 3px 1px rgba(60, 64, 67, 0.15);\n",
              "    fill: var(--button-hover-fill-color);\n",
              "  }\n",
              "\n",
              "  .colab-df-quickchart-complete:disabled,\n",
              "  .colab-df-quickchart-complete:disabled:hover {\n",
              "    background-color: var(--disabled-bg-color);\n",
              "    fill: var(--disabled-fill-color);\n",
              "    box-shadow: none;\n",
              "  }\n",
              "\n",
              "  .colab-df-spinner {\n",
              "    border: 2px solid var(--fill-color);\n",
              "    border-color: transparent;\n",
              "    border-bottom-color: var(--fill-color);\n",
              "    animation:\n",
              "      spin 1s steps(1) infinite;\n",
              "  }\n",
              "\n",
              "  @keyframes spin {\n",
              "    0% {\n",
              "      border-color: transparent;\n",
              "      border-bottom-color: var(--fill-color);\n",
              "      border-left-color: var(--fill-color);\n",
              "    }\n",
              "    20% {\n",
              "      border-color: transparent;\n",
              "      border-left-color: var(--fill-color);\n",
              "      border-top-color: var(--fill-color);\n",
              "    }\n",
              "    30% {\n",
              "      border-color: transparent;\n",
              "      border-left-color: var(--fill-color);\n",
              "      border-top-color: var(--fill-color);\n",
              "      border-right-color: var(--fill-color);\n",
              "    }\n",
              "    40% {\n",
              "      border-color: transparent;\n",
              "      border-right-color: var(--fill-color);\n",
              "      border-top-color: var(--fill-color);\n",
              "    }\n",
              "    60% {\n",
              "      border-color: transparent;\n",
              "      border-right-color: var(--fill-color);\n",
              "    }\n",
              "    80% {\n",
              "      border-color: transparent;\n",
              "      border-right-color: var(--fill-color);\n",
              "      border-bottom-color: var(--fill-color);\n",
              "    }\n",
              "    90% {\n",
              "      border-color: transparent;\n",
              "      border-bottom-color: var(--fill-color);\n",
              "    }\n",
              "  }\n",
              "</style>\n",
              "\n",
              "  <script>\n",
              "    async function quickchart(key) {\n",
              "      const quickchartButtonEl =\n",
              "        document.querySelector('#' + key + ' button');\n",
              "      quickchartButtonEl.disabled = true;  // To prevent multiple clicks.\n",
              "      quickchartButtonEl.classList.add('colab-df-spinner');\n",
              "      try {\n",
              "        const charts = await google.colab.kernel.invokeFunction(\n",
              "            'suggestCharts', [key], {});\n",
              "      } catch (error) {\n",
              "        console.error('Error during call to suggestCharts:', error);\n",
              "      }\n",
              "      quickchartButtonEl.classList.remove('colab-df-spinner');\n",
              "      quickchartButtonEl.classList.add('colab-df-quickchart-complete');\n",
              "    }\n",
              "    (() => {\n",
              "      let quickchartButtonEl =\n",
              "        document.querySelector('#df-fa88d884-835f-4527-b541-594192418434 button');\n",
              "      quickchartButtonEl.style.display =\n",
              "        google.colab.kernel.accessAllowed ? 'block' : 'none';\n",
              "    })();\n",
              "  </script>\n",
              "</div>\n",
              "\n",
              "    </div>\n",
              "  </div>\n"
            ],
            "application/vnd.google.colaboratory.intrinsic+json": {
              "type": "dataframe",
              "variable_name": "df"
            }
          },
          "metadata": {},
          "execution_count": 3
        }
      ]
    },
    {
      "cell_type": "code",
      "source": [
        "columns_with_nans = df.columns[df.isna().any()].tolist()\n",
        "\n",
        "print(\"columns with NaNs:\", columns_with_nans)\n",
        "print(\"LNumber of columns with nans:\", len(columns_with_nans))\n",
        "\n",
        "\n",
        "#print the nmaes of the columns with NaNs"
      ],
      "metadata": {
        "colab": {
          "base_uri": "https://localhost:8080/"
        },
        "id": "RrScYlCRPxi6",
        "outputId": "e1a0384f-4d7a-43e9-93de-3bed91ed9839"
      },
      "execution_count": 4,
      "outputs": [
        {
          "output_type": "stream",
          "name": "stdout",
          "text": [
            "columns with NaNs: ['dc_cons_apr', 'dc_cons_may', 'dc_cons_jun', 'cc_count_apr', 'cc_count_may', 'cc_count_jun', 'dc_count_apr', 'dc_count_may', 'dc_count_jun', 'card_lim', 'personal_loan_active', 'vehicle_loan_active', 'personal_loan_closed', 'vehicle_loan_closed', 'investment_1', 'investment_2', 'investment_3', 'investment_4', 'debit_amount_apr', 'credit_amount_apr', 'debit_count_apr', 'credit_count_apr', 'max_credit_amount_apr', 'debit_amount_may', 'credit_amount_may', 'credit_count_may', 'debit_count_may', 'max_credit_amount_may', 'debit_amount_jun', 'credit_amount_jun', 'credit_count_jun', 'debit_count_jun', 'max_credit_amount_jun', 'loan_enq']\n",
            "LNumber of columns with nans: 34\n"
          ]
        }
      ]
    },
    {
      "cell_type": "code",
      "source": [
        "numeric_columns = ['dc_cons_apr', 'dc_cons_may', 'dc_cons_jun', 'cc_count_apr', 'cc_count_may', 'cc_count_jun', 'dc_count_apr', 'dc_count_may', 'dc_count_jun', 'card_lim', 'personal_loan_active', 'vehicle_loan_active', 'personal_loan_closed', 'vehicle_loan_closed', 'investment_1', 'investment_2', 'investment_3', 'investment_4', 'debit_amount_apr', 'credit_amount_apr', 'debit_count_apr', 'credit_count_apr', 'max_credit_amount_apr', 'debit_amount_may', 'credit_amount_may', 'credit_count_may', 'debit_count_may', 'max_credit_amount_may', 'debit_amount_jun', 'credit_amount_jun', 'credit_count_jun', 'debit_count_jun', 'max_credit_amount_jun', 'loan_enq']\n",
        "\n",
        "df[numeric_columns] = df[numeric_columns].fillna(0)\n",
        "\n",
        "#fill the Nan's with 0"
      ],
      "metadata": {
        "id": "Nd-uEYIGReGN"
      },
      "execution_count": 5,
      "outputs": []
    },
    {
      "cell_type": "code",
      "source": [
        "columns_with_nans = df.columns[df.isna().any()].tolist()\n",
        "\n",
        "print(\"columns with NaNs:\", columns_with_nans)\n",
        "print(\"LNumber of columns with nans:\", len(columns_with_nans))\n",
        "\n",
        "#print the coulmns to check again\n"
      ],
      "metadata": {
        "colab": {
          "base_uri": "https://localhost:8080/"
        },
        "id": "6WrGpCpnSBu8",
        "outputId": "a8aba297-3943-491e-f33e-8055c3419672"
      },
      "execution_count": 6,
      "outputs": [
        {
          "output_type": "stream",
          "name": "stdout",
          "text": [
            "columns with NaNs: []\n",
            "LNumber of columns with nans: 0\n"
          ]
        }
      ]
    },
    {
      "cell_type": "code",
      "source": [
        "from sklearn.preprocessing import StandardScaler, OneHotEncoder\n",
        "from sklearn.compose import ColumnTransformer\n",
        "from sklearn.pipeline import Pipeline\n",
        "from sklearn.model_selection import train_test_split"
      ],
      "metadata": {
        "id": "gdpQh29vSJXA"
      },
      "execution_count": 7,
      "outputs": []
    },
    {
      "cell_type": "code",
      "source": [
        "X = df.drop('cc_cons', axis= 1)\n",
        "Y = df['cc_cons'] # we dropped cc_cons , cause its our target variable\n",
        "\n",
        "numerical_features = X.select_dtypes(include=['int64', 'float64']).columns\n",
        "categorical_features = ['account_type' , 'gender', 'loan_enq']\n",
        "\n",
        "numerical_transformer = StandardScaler()\n",
        "categorical_transformer = OneHotEncoder(handle_unknown='ignore') # we used one hot encoding here\n",
        "\n",
        "\n",
        "\n",
        "preprocessor = ColumnTransformer(\n",
        "    transformers=[\n",
        "        ('num', numerical_transformer, numerical_features),\n",
        "        ('cat', categorical_transformer, categorical_features)\n",
        "    ])\n",
        "\n",
        "X_train, X_test, Y_train, Y_test = train_test_split(X, Y, test_size=0.2, random_state=0)\n",
        "\n",
        "print(X_train.head(2))\n"
      ],
      "metadata": {
        "colab": {
          "base_uri": "https://localhost:8080/"
        },
        "id": "p9yyAWWOSzDY",
        "outputId": "0d7f54ee-ba06-48ec-8e72-9b9fb8b52c7f"
      },
      "execution_count": 8,
      "outputs": [
        {
          "output_type": "stream",
          "name": "stdout",
          "text": [
            "          id account_type gender  age  region_code  cc_cons_apr  dc_cons_apr  \\\n",
            "12665  29125      current      M   40          424     20011.05          0.0   \n",
            "20050  22432      current      M   22          723      9859.00       3473.0   \n",
            "\n",
            "       cc_cons_may  dc_cons_may  cc_cons_jun  ...  credit_count_may  \\\n",
            "12665      7665.48      19991.0      11681.0  ...               3.0   \n",
            "20050      1037.00       1187.0       5612.5  ...               2.0   \n",
            "\n",
            "       debit_count_may  max_credit_amount_may  debit_amount_jun  \\\n",
            "12665             16.0                41000.0          62879.04   \n",
            "20050             11.0                16901.0          26597.51   \n",
            "\n",
            "       credit_amount_jun  credit_count_jun  debit_count_jun  \\\n",
            "12665           53597.93               6.0             14.0   \n",
            "20050            7612.00               4.0             15.0   \n",
            "\n",
            "       max_credit_amount_jun  loan_enq  emi_active  \n",
            "12665                48000.0         0      1474.3  \n",
            "20050                 5000.0         0         0.0  \n",
            "\n",
            "[2 rows x 43 columns]\n"
          ]
        }
      ]
    },
    {
      "cell_type": "code",
      "source": [
        "Y_train.head()"
      ],
      "metadata": {
        "colab": {
          "base_uri": "https://localhost:8080/",
          "height": 241
        },
        "id": "st7NMBvnYi2F",
        "outputId": "8667f4e2-a9bf-4462-d86c-182526da4ed4"
      },
      "execution_count": 9,
      "outputs": [
        {
          "output_type": "execute_result",
          "data": {
            "text/plain": [
              "12665      620\n",
              "20050      372\n",
              "893       1943\n",
              "21491      881\n",
              "21726    32020\n",
              "Name: cc_cons, dtype: int64"
            ],
            "text/html": [
              "<div>\n",
              "<style scoped>\n",
              "    .dataframe tbody tr th:only-of-type {\n",
              "        vertical-align: middle;\n",
              "    }\n",
              "\n",
              "    .dataframe tbody tr th {\n",
              "        vertical-align: top;\n",
              "    }\n",
              "\n",
              "    .dataframe thead th {\n",
              "        text-align: right;\n",
              "    }\n",
              "</style>\n",
              "<table border=\"1\" class=\"dataframe\">\n",
              "  <thead>\n",
              "    <tr style=\"text-align: right;\">\n",
              "      <th></th>\n",
              "      <th>cc_cons</th>\n",
              "    </tr>\n",
              "  </thead>\n",
              "  <tbody>\n",
              "    <tr>\n",
              "      <th>12665</th>\n",
              "      <td>620</td>\n",
              "    </tr>\n",
              "    <tr>\n",
              "      <th>20050</th>\n",
              "      <td>372</td>\n",
              "    </tr>\n",
              "    <tr>\n",
              "      <th>893</th>\n",
              "      <td>1943</td>\n",
              "    </tr>\n",
              "    <tr>\n",
              "      <th>21491</th>\n",
              "      <td>881</td>\n",
              "    </tr>\n",
              "    <tr>\n",
              "      <th>21726</th>\n",
              "      <td>32020</td>\n",
              "    </tr>\n",
              "  </tbody>\n",
              "</table>\n",
              "</div><br><label><b>dtype:</b> int64</label>"
            ]
          },
          "metadata": {},
          "execution_count": 9
        }
      ]
    },
    {
      "cell_type": "code",
      "source": [
        "# Before applying OneHotEncoder, ensure all categorical features are of type string\n",
        "for feature in categorical_features:\n",
        "    X_train[feature] = X_train[feature].astype(str)\n",
        "    X_test[feature] = X_test[feature].astype(str)\n",
        "\n",
        "# Now, proceed with the preprocessing steps\n",
        "X_train = preprocessor.fit_transform(X_train)\n",
        "X_test = preprocessor.transform(X_test)\n",
        "X_train[:2]"
      ],
      "metadata": {
        "colab": {
          "base_uri": "https://localhost:8080/"
        },
        "id": "dj_bKQfmZykR",
        "outputId": "0fbfd313-6d7b-4595-9338-dba843c32394"
      },
      "execution_count": 10,
      "outputs": [
        {
          "output_type": "execute_result",
          "data": {
            "text/plain": [
              "array([[ 0.41790163,  0.4745146 , -0.69416884,  0.1361498 , -0.29384331,\n",
              "        -0.29183089,  1.69499864,  0.17088608, -0.25094642,  0.7182671 ,\n",
              "         0.08670607,  1.4641179 , -0.46561127,  0.51434489,  0.11224179,\n",
              "        -0.32097467, -0.30053314, -0.16231651, -0.31103353, -0.22952608,\n",
              "        -0.03597118, -0.09708223, -0.08974727, -0.07060041,  0.06925065,\n",
              "         0.16428121,  0.92651539, -0.45717374,  0.04908393,  0.04821203,\n",
              "        -0.15356069, -0.21744647,  0.25178783, -0.03094002, -0.03885138,\n",
              "        -0.08091006,  0.10020071, -0.09427075,  0.05936268, -0.03039879,\n",
              "         1.        ,  0.        ,  0.        ,  1.        ,  1.        ,\n",
              "         0.        ],\n",
              "       [-0.07777052, -1.62230825,  0.89441764, -0.27413141,  0.12727036,\n",
              "        -0.58731224, -0.14295897, -0.216256  , -0.14192995, -0.59589067,\n",
              "        -0.84069138, -0.81919138,  0.59388377, -0.15915283, -0.01792696,\n",
              "        -0.74445332, -0.30053314, -0.16231651, -0.31103353, -0.22952608,\n",
              "        -0.03597118, -0.09708223, -0.08974727, -0.07060041, -0.31916562,\n",
              "        -0.29986038,  1.35208811, -0.45717374, -0.21039366, -0.35581793,\n",
              "        -0.34597159, -0.47467893, -0.17907202, -0.25944434, -0.20277276,\n",
              "        -0.29276148, -0.31789542, -0.01966792, -0.38058529, -0.03545317,\n",
              "         1.        ,  0.        ,  0.        ,  1.        ,  1.        ,\n",
              "         0.        ]])"
            ]
          },
          "metadata": {},
          "execution_count": 10
        }
      ]
    },
    {
      "cell_type": "code",
      "source": [
        "import torch\n",
        "X_train_tensor = torch.tensor(X_train, dtype=torch.float32)\n",
        "Y_train_tensor = torch.tensor(Y_train, dtype=torch.float32)\n",
        "X_test_tensor = torch.tensor(X_test, dtype=torch.float32)\n",
        "Y_test_tensor = torch.tensor(Y_test.values.reshape(-1,1), dtype=torch.float32)"
      ],
      "metadata": {
        "id": "TZ8s1RtTaV0F"
      },
      "execution_count": 11,
      "outputs": []
    },
    {
      "cell_type": "code",
      "source": [
        "import matplotlib.pyplot as plt\n",
        "plt.hist(Y_train_tensor, bins=100)\n",
        "plt.show()"
      ],
      "metadata": {
        "colab": {
          "base_uri": "https://localhost:8080/",
          "height": 430
        },
        "id": "2Szp5LU4hwsB",
        "outputId": "747491bc-27a6-43f6-8cd4-ad9bb6cad72f"
      },
      "execution_count": 12,
      "outputs": [
        {
          "output_type": "display_data",
          "data": {
            "text/plain": [
              "<Figure size 640x480 with 1 Axes>"
            ],
            "image/png": "[encoded data removed]"
          },
          "metadata": {}
        }
      ]
    },
    {
      "cell_type": "code",
      "source": [
        "# define a custom root mean logarithmic error function\n",
        "def rmsle(y_pred, y_true):\n",
        "\n",
        "  #ensure that predictions are positive + 1 to avoid log(0)\n",
        "  y_pred = torch.clamp(y_pred, min=0) + 1\n",
        "  y_true = torch.clamp(y_true, min=0) + 1\n",
        "\n",
        "\n",
        "  #calcualte the log and compute the squared difference\n",
        "  log_pred = torch.log(y_pred)\n",
        "  log_true = torch.log(y_true)\n",
        "\n",
        "  return torch.sqrt(torch.mean((log_pred - log_true)**2))\n",
        "\n",
        "\n",
        "  #compute mean of squared log error and take square root\n",
        "  mean_squared_log_error = torch.mean(squared_log_error)\n",
        "  rmsle = torch.sqrt(mean_squared_log_error)\n",
        "\n",
        ""
      ],
      "metadata": {
        "id": "oJmNvoe5iMd4"
      },
      "execution_count": 1,
      "outputs": []
    },
    {
      "cell_type": "code",
      "source": [
        "import torch.nn as nn\n",
        "import torch.nn.functional as F\n",
        "from torch.utils.data import TensorDataset , DataLoader\n",
        "import torch.optim as optim"
      ],
      "metadata": {
        "id": "ANeUqxsIAxwB"
      },
      "execution_count": 2,
      "outputs": []
    },
    {
      "cell_type": "code",
      "source": [
        "class Net(nn.Module):\n",
        "    def __init__(self):\n",
        "        super(Net, self).__init__()\n",
        "        # Define the three linear layers\n",
        "        self.fc1 = nn.Linear(X_test_tensor.shape[1], 128)\n",
        "        self.fc2 = nn.Linear(128, 64)\n",
        "        self.fc3 = nn.Linear(64,32)\n",
        "        self.fc4 = nn.Linear(32,1)\n",
        "\n",
        "    def forward(self, x):\n",
        "        # Pass x through linear layers adding activations\n",
        "        x = F.relu(self.fc1(x))\n",
        "        x = F.relu(self.fc2(x))\n",
        "        x = F.relu(self.fc3(x))\n",
        "        x = self.fc4(x)\n",
        "        return x"
      ],
      "metadata": {
        "id": "mCKrcveRBLJ0"
      },
      "execution_count": 17,
      "outputs": []
    },
    {
      "cell_type": "code",
      "source": [
        "train_data = TensorDataset(X_train_tensor, Y_train_tensor)"
      ],
      "metadata": {
        "id": "Z2Aj1tiCB0qI"
      },
      "execution_count": 19,
      "outputs": []
    },
    {
      "cell_type": "code",
      "source": [
        "model = Net()\n",
        "optimizer = optim.SGD(model.parameters(), lr = 0.001, momentum=0.9)\n",
        "train_loss_list=[]\n",
        "test_loss_list = []\n",
        "num_epochs = 30\n",
        "train_loader = DataLoader(train_data, batch_size= 64, shuffle=True)\n",
        "# Execute the training loop\n",
        "for epoch in range(num_epochs): # increasing the epochs for effective training\n",
        "    for X_batch, y_batch in train_loader:\n",
        "        # Forward pass\n",
        "        pred = model(X_batch)\n",
        "        loss = rmsle(pred, y_batch)\n",
        "\n",
        "        # Backward pass and optimization\n",
        "        optimizer.zero_grad()\n",
        "        loss.backward()\n",
        "        optimizer.step()\n",
        "\n",
        "    train_loss = rmsle(model(X_train_tensor), Y_train_tensor).item()\n",
        "        # print(epoch,': ', train_loss)\n",
        "    test_loss = rmsle(model(X_test_tensor), Y_test_tensor).item()\n",
        "    train_loss_list.append(train_loss)\n",
        "    test_loss_list.append(test_loss)\n",
        "    if (epoch+1) % 5 == 0: # printing after every 100 epochs\n",
        "        print(f'Epoch {epoch+1}: Train Loss: {train_loss:.4f}, Test Loss: {test_loss:.4f}')\n",
        ""
      ],
      "metadata": {
        "colab": {
          "base_uri": "https://localhost:8080/"
        },
        "id": "tflYeZThB1gO",
        "outputId": "6f18b48a-0609-407d-d9c1-b575f9b221fd"
      },
      "execution_count": 24,
      "outputs": [
        {
          "output_type": "stream",
          "name": "stdout",
          "text": [
            "Epoch 5: Train Loss: 1.5352, Test Loss: 1.5499\n",
            "Epoch 10: Train Loss: 1.3226, Test Loss: 1.3395\n",
            "Epoch 15: Train Loss: 1.3150, Test Loss: 1.3297\n",
            "Epoch 20: Train Loss: 1.3145, Test Loss: 1.3272\n",
            "Epoch 25: Train Loss: 1.3143, Test Loss: 1.3256\n",
            "Epoch 30: Train Loss: 1.3141, Test Loss: 1.3242\n"
          ]
        }
      ]
    },
    {
      "cell_type": "code",
      "source": [
        "plt.plot(range(num_epochs),train_loss_list, label = 'train')\n",
        "plt.plot(range(num_epochs),test_loss_list, label = 'test')\n",
        "plt.legend()\n",
        "plt.show()"
      ],
      "metadata": {
        "colab": {
          "base_uri": "https://localhost:8080/",
          "height": 435
        },
        "id": "qNTG5bpMFRVb",
        "outputId": "84ee70f9-7bc7-474d-b97e-b26b7c0ca92a"
      },
      "execution_count": 25,
      "outputs": [
        {
          "output_type": "display_data",
          "data": {
            "text/plain": [
              "<Figure size 640x480 with 1 Axes>"
            ],
            "image/png": "[encoded data removed]"
          },
          "metadata": {}
        }
      ]
    },
    {
      "cell_type": "markdown",
      "source": [
        "as we could see , the train and test loss is almost same , and decreased after 5 epochs , so now what we do is we will use a bigger network and adam instead of sgd with momentum."
      ],
      "metadata": {
        "id": "Gu2HdRpa8-nN"
      }
    },
    {
      "cell_type": "code",
      "source": [],
      "metadata": {
        "id": "3C06z-HeHPha"
      },
      "execution_count": null,
      "outputs": []
    },
    {
      "cell_type": "markdown",
      "source": [],
      "metadata": {
        "id": "r8yoY1Cd8-CJ"
      }
    }
  ]
}